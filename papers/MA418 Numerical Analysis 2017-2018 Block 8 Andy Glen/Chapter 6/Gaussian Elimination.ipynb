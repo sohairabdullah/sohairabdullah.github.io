{
 "cells": [
  {
   "cell_type": "code",
   "execution_count": 8,
   "metadata": {},
   "outputs": [],
   "source": [
    "from sympy import*\n",
    "%matplotlib inline\n",
    "from __future__ import division\n",
    "import matplotlib.pyplot as plt\n",
    "x, y, z, t = symbols('x y z t')\n",
    "k, m, n = symbols('k m n', integer = True)\n",
    "f, g, h = symbols('f g h', cls = Function)\n",
    "import math"
   ]
  },
  {
   "cell_type": "code",
   "execution_count": 9,
   "metadata": {},
   "outputs": [],
   "source": [
    "A = [[2.71,1,1032,12],[4.12,-1,500,11.49],[3.33,2,-200,41]] #augmented matrix"
   ]
  },
  {
   "cell_type": "code",
   "execution_count": 10,
   "metadata": {},
   "outputs": [],
   "source": [
    "def gauss(A):\n",
    "    m = len(A)\n",
    "    assert all([len(row) == m + 1 for row in A[1:]]), \"Matrix rows have non-uniform length\"\n",
    "    n = m + 1\n",
    "    \n",
    "    for k in range(m):\n",
    "        pivots = [abs(A[i][k]) for i in range(k, m)]\n",
    "        i_max = pivots.index(max(pivots)) + k\n",
    "        \n",
    "        # Check for singular matrix\n",
    "        assert A[i_max][k] != 0, \"Matrix is singular!\"\n",
    "        \n",
    "        # Swap rows\n",
    "        A[k], A[i_max] = A[i_max], A[k]\n",
    "\n",
    "        \n",
    "        for i in range(k + 1, m):\n",
    "            f = A[i][k] / A[k][k]\n",
    "            for j in range(k + 1, n):\n",
    "                A[i][j] -= A[k][j] * f\n",
    "\n",
    "            # Fill lower triangular matrix with zeros:\n",
    "            A[i][k] = 0\n",
    "    \n",
    "    # Solve equation Ax=b for an upper triangular matrix A   \n",
    "    print(\"row reduction is over, now solving backward\")\n",
    "    x = []\n",
    "    for i in range(m - 1, -1, -1):\n",
    "        x.insert(0, A[i][m] / A[i][i])\n",
    "        for k in range(i - 1, -1, -1):\n",
    "            A[k][m] -= A[k][i] * x[0]\n",
    "    return x\n",
    "    "
   ]
  },
  {
   "cell_type": "code",
   "execution_count": 11,
   "metadata": {},
   "outputs": [
    {
     "name": "stdout",
     "output_type": "stream",
     "text": [
      "row reduction is over, now solving backward\n"
     ]
    },
    {
     "data": {
      "text/plain": [
       "[6.461447618674783, 8.39432109639808, -0.013473686185084053]"
      ]
     },
     "execution_count": 11,
     "metadata": {},
     "output_type": "execute_result"
    }
   ],
   "source": [
    "gauss(A)"
   ]
  },
  {
   "cell_type": "code",
   "execution_count": 13,
   "metadata": {},
   "outputs": [
    {
     "data": {
      "text/plain": [
       "11.999999999999998"
      ]
     },
     "execution_count": 13,
     "metadata": {},
     "output_type": "execute_result"
    }
   ],
   "source": [
    "2.71*6.461447618674783+1*8.39432109639808-1032*0.013473686185084053"
   ]
  },
  {
   "cell_type": "code",
   "execution_count": null,
   "metadata": {},
   "outputs": [],
   "source": []
  }
 ],
 "metadata": {
  "kernelspec": {
   "display_name": "Python 3",
   "language": "python",
   "name": "python3"
  },
  "language_info": {
   "codemirror_mode": {
    "name": "ipython",
    "version": 3
   },
   "file_extension": ".py",
   "mimetype": "text/x-python",
   "name": "python",
   "nbconvert_exporter": "python",
   "pygments_lexer": "ipython3",
   "version": "3.6.4"
  }
 },
 "nbformat": 4,
 "nbformat_minor": 2
}
