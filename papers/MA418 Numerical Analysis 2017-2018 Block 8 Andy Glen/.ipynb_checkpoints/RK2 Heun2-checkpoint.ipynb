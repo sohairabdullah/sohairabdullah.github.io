{
 "cells": [
  {
   "cell_type": "code",
   "execution_count": 1,
   "metadata": {},
   "outputs": [],
   "source": [
    "from sympy import*\n",
    "%matplotlib inline\n",
    "from __future__ import division\n",
    "x, y, z, t = symbols('x y z t')\n",
    "k, m, n = symbols('k m n', integer = True)\n",
    "f, g, h = symbols('f g h', cls = Function)"
   ]
  },
  {
   "cell_type": "code",
   "execution_count": 2,
   "metadata": {},
   "outputs": [],
   "source": [
    "def f(t, y):\n",
    "    return y - t**2 + 1"
   ]
  },
  {
   "cell_type": "code",
   "execution_count": 3,
   "metadata": {},
   "outputs": [],
   "source": [
    "def y(t):\n",
    "    return (t + 1)**2 - 0.5*exp(t)"
   ]
  },
  {
   "cell_type": "code",
   "execution_count": 4,
   "metadata": {},
   "outputs": [],
   "source": [
    "def Euler(startPoint, endPoint, numIntervals, initialCondition):\n",
    "    stepSize = (endPoint - startPoint) / numIntervals\n",
    "    tlist = [startPoint]\n",
    "    wlist = [initialCondition]\n",
    "    t = startPoint\n",
    "    current_w = initialCondition\n",
    "    \n",
    "    for i in range (1, numIntervals + 1):\n",
    "        current_w = current_w + stepSize * f(t, current_w)        \n",
    "        t = startPoint + i * stepSize\n",
    "        tlist.append(t)\n",
    "        wlist.append(current_w)\n",
    "    \n",
    "    return tlist, wlist"
   ]
  },
  {
   "cell_type": "code",
   "execution_count": 10,
   "metadata": {},
   "outputs": [
    {
     "name": "stdout",
     "output_type": "stream",
     "text": [
      "t = 0.0, w = 0.5000000, y = 0.5000000, error = 5.2274933\n",
      "t = 0.2, w = 0.8000000, y = 0.8292986, error = 4.9274933\n",
      "t = 0.4, w = 1.1520000, y = 1.2140877, error = 4.5754933\n",
      "t = 0.6, w = 1.5504000, y = 1.6489406, error = 4.1770933\n",
      "t = 0.8, w = 1.9884800, y = 2.1272295, error = 3.7390133\n",
      "t = 1.0, w = 2.4581760, y = 2.6408591, error = 3.2693173\n",
      "t = 1.2, w = 2.9498112, y = 3.1799415, error = 2.7776821\n",
      "t = 1.4, w = 3.4517734, y = 3.7324000, error = 2.2757198\n",
      "t = 1.6, w = 3.9501281, y = 4.2834838, error = 1.7773651\n",
      "t = 1.8, w = 4.4281538, y = 4.8151763, error = 1.2993395\n",
      "t = 2.0, w = 4.8657845, y = 5.3054720, error = 0.8617087\n"
     ]
    }
   ],
   "source": [
    "tlist, wlist = Euler(0, 2, 10, 0.5)\n",
    "ylist = []\n",
    "error = []\n",
    "length = len(tlist)\n",
    "for i in range(0, length):\n",
    "    ylist = ylist + [y(tlist[i])]\n",
    "    error = error + [abs(y(x) - wlist[i])]\n",
    "     \n",
    "for i in range(0, 11):\n",
    "    print ('t = %.1f, w = %.7f, y = %.7f, error = %.7f'%(tlist[i], wlist[i], ylist[i], error[i]))"
   ]
  },
  {
   "cell_type": "code",
   "execution_count": null,
   "metadata": {},
   "outputs": [],
   "source": []
  }
 ],
 "metadata": {
  "kernelspec": {
   "display_name": "Python 3",
   "language": "python",
   "name": "python3"
  },
  "language_info": {
   "codemirror_mode": {
    "name": "ipython",
    "version": 3
   },
   "file_extension": ".py",
   "mimetype": "text/x-python",
   "name": "python",
   "nbconvert_exporter": "python",
   "pygments_lexer": "ipython3",
   "version": "3.6.4"
  }
 },
 "nbformat": 4,
 "nbformat_minor": 2
}
