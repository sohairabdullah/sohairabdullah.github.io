{
 "cells": [
  {
   "cell_type": "code",
   "execution_count": 8,
   "metadata": {},
   "outputs": [],
   "source": [
    "from sympy import*\n",
    "%matplotlib inline\n",
    "from __future__ import division\n",
    "x, y, z, t = symbols('x y z t')\n",
    "k, m, n = symbols('k m n', integer = True)\n",
    "f, g, h = symbols('f g h', cls = Function)\n",
    "import math"
   ]
  },
  {
   "cell_type": "code",
   "execution_count": 14,
   "metadata": {},
   "outputs": [],
   "source": [
    "def f(x):\n",
    "    #return x**2\n",
    "    return math.e**(2*x)*math.sin(3*x)"
   ]
  },
  {
   "cell_type": "code",
   "execution_count": 10,
   "metadata": {},
   "outputs": [],
   "source": [
    "def compositeSimpson(startPoint, endPoint, numIntervals):\n",
    "    a = startPoint\n",
    "    b = endPoint\n",
    "    n = numIntervals\n",
    "    h = (b - a) / n\n",
    "    leftRight = f(a) + f(b)\n",
    "    oddSum = 0\n",
    "    evenSum = 0\n",
    "    for i in range (1, n):\n",
    "        x = a + i*h\n",
    "        if i % 2 == 1:\n",
    "            oddSum = oddSum + f(x)\n",
    "        else:\n",
    "            evenSum = evenSum + f(x)\n",
    "    areaEstimate = h * (leftRight + 2*evenSum + 4*oddSum) / 3\n",
    "    return areaEstimate"
   ]
  },
  {
   "cell_type": "code",
   "execution_count": 11,
   "metadata": {},
   "outputs": [],
   "source": [
    "def compositeMidpoint(startPoint, endPoint, numIntervals):\n",
    "    a = startPoint\n",
    "    b = endPoint\n",
    "    n = numIntervals\n",
    "    h = (b - a) / n\n",
    "    midSum = 0\n",
    "    for i in range (0, n + 1):\n",
    "        if i%2 == 0:\n",
    "            x = a + i*h\n",
    "            midSum = midSum + f(x)\n",
    "    areaEstimate = 2*h*midSum\n",
    "    return areaEstimate"
   ]
  },
  {
   "cell_type": "code",
   "execution_count": 12,
   "metadata": {},
   "outputs": [],
   "source": [
    "def compositeTrapezoid(startPoint, endPoint, numIntervals):\n",
    "    a = startPoint\n",
    "    b = endPoint\n",
    "    n = numIntervals\n",
    "    h = (b - a) / n\n",
    "    leftRight = f(a) + f(b)\n",
    "    middleSum = 0\n",
    "    for i in range(1, n):\n",
    "        x = a + i*h\n",
    "        middleSum = middleSum + f(x)\n",
    "    areaEstimate = (h/2) * (leftRight + 2*middleSum)\n",
    "    return areaEstimate"
   ]
  },
  {
   "cell_type": "code",
   "execution_count": 15,
   "metadata": {},
   "outputs": [
    {
     "data": {
      "text/plain": [
       "1.4757479657790826"
      ]
     },
     "execution_count": 15,
     "metadata": {},
     "output_type": "execute_result"
    }
   ],
   "source": [
    "compositeSimpson(.5, 1, 100)"
   ]
  },
  {
   "cell_type": "code",
   "execution_count": 21,
   "metadata": {},
   "outputs": [
    {
     "data": {
      "text/plain": [
       "1.4776229188534284"
      ]
     },
     "execution_count": 21,
     "metadata": {},
     "output_type": "execute_result"
    }
   ],
   "source": [
    "compositeMidpoint(.5, 1, 1000)"
   ]
  },
  {
   "cell_type": "code",
   "execution_count": 17,
   "metadata": {},
   "outputs": [
    {
     "data": {
      "text/plain": [
       "1.4756940914914822"
      ]
     },
     "execution_count": 17,
     "metadata": {},
     "output_type": "execute_result"
    }
   ],
   "source": [
    "compositeTrapezoid(.5, 1, 100)"
   ]
  },
  {
   "cell_type": "code",
   "execution_count": 22,
   "metadata": {},
   "outputs": [],
   "source": [
    "def trap(a, b, n): #Andy's code for trap\n",
    "    h = (b - a)/n\n",
    "    xi0 = f(a) + f(b)\n",
    "    for i in range (1, n):\n",
    "        x = a + i*h\n",
    "        xi0 = xi0 + 2*f(x)\n",
    "    return xi0*h*0.5"
   ]
  },
  {
   "cell_type": "code",
   "execution_count": 23,
   "metadata": {},
   "outputs": [],
   "source": [
    "def mid(a, b, n): #Andy's code for midpoint\n",
    "    h = (b-a)/(n+2)\n",
    "    xi0 = 0\n",
    "    upper = int(n/2)\n",
    "    for i in range(0, upper + 1):\n",
    "        x = a + (2*i+1)*h\n",
    "        xi0 = xi0 + f(x)\n",
    "    return 2*h*xi0"
   ]
  },
  {
   "cell_type": "code",
   "execution_count": 24,
   "metadata": {},
   "outputs": [],
   "source": [
    "def Simpson(a, b, n): #Andy's code for Simpson\n",
    "    h = (b - a)/n\n",
    "    xi0 = f(a) + f(b)\n",
    "    xi1 = 0 #odd sum\n",
    "    xi2 = 0 #even sum\n",
    "    for i in range(1, n):\n",
    "        x = a + i*h\n",
    "        if i%2 == 0:\n",
    "            xi2 = xi2 + f(x)\n",
    "        else:\n",
    "            xi1 = xi1 + f(x)\n",
    "    xi = h*(xi0 + 2*xi2 + 4*xi1)/3\n",
    "    return xi"
   ]
  },
  {
   "cell_type": "code",
   "execution_count": 25,
   "metadata": {},
   "outputs": [],
   "source": [
    "#In class, we did problem 11 on page 209 of the textbook together (error analysis, look at error term)\n",
    "#We have a quiz tomorrow. (Topics are mainly chapter 4)\n",
    "#Extra Credit Opportunity: Come up with your own problem and solve it\n",
    "#Turn in one page sheet tomorrow with the problem and the solution (Can start now)\n",
    "#Topics are everything in chapter 4 "
   ]
  },
  {
   "cell_type": "code",
   "execution_count": null,
   "metadata": {},
   "outputs": [],
   "source": []
  }
 ],
 "metadata": {
  "kernelspec": {
   "display_name": "Python 3",
   "language": "python",
   "name": "python3"
  },
  "language_info": {
   "codemirror_mode": {
    "name": "ipython",
    "version": 3
   },
   "file_extension": ".py",
   "mimetype": "text/x-python",
   "name": "python",
   "nbconvert_exporter": "python",
   "pygments_lexer": "ipython3",
   "version": "3.6.4"
  }
 },
 "nbformat": 4,
 "nbformat_minor": 2
}
