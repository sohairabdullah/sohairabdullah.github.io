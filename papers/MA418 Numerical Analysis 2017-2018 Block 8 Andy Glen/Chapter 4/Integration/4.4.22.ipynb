{
 "cells": [
  {
   "cell_type": "code",
   "execution_count": 5,
   "metadata": {},
   "outputs": [],
   "source": [
    "from sympy import*\n",
    "%matplotlib inline\n",
    "import matplotlib.pyplot as plt\n",
    "from __future__ import division\n",
    "x, y, z, t = symbols('x y z t')\n",
    "k, m, n = symbols('k m n', integer = True)\n",
    "f, g, h = symbols('f g h', cls = Function)\n",
    "import math"
   ]
  },
  {
   "cell_type": "code",
   "execution_count": 6,
   "metadata": {},
   "outputs": [],
   "source": [
    "def compositeSimpson(startPoint, endPoint, numIntervals, f):\n",
    "    a = startPoint\n",
    "    b = endPoint\n",
    "    n = numIntervals\n",
    "    h = (b - a) / n\n",
    "    leftRight = f(a) + f(b)\n",
    "    oddSum = 0\n",
    "    evenSum = 0\n",
    "    for i in range (1, n):\n",
    "        x = a + i*h\n",
    "        if i % 2 == 1:\n",
    "            oddSum = oddSum + f(x)\n",
    "        else:\n",
    "            evenSum = evenSum + f(x)\n",
    "    areaEstimate = h * (leftRight + 2*evenSum + 4*oddSum) / 3\n",
    "    return areaEstimate"
   ]
  },
  {
   "cell_type": "code",
   "execution_count": 7,
   "metadata": {},
   "outputs": [],
   "source": [
    "def compositeMidpoint(startPoint, endPoint, numIntervals, f):\n",
    "    a = startPoint\n",
    "    b = endPoint\n",
    "    n = numIntervals\n",
    "    h = (b - a) / n\n",
    "    midSum = 0\n",
    "    for i in range (0, n + 1):\n",
    "        if i%2 == 0:\n",
    "            x = a + i*h\n",
    "            midSum = midSum + f(x)\n",
    "    areaEstimate = 2*h*midSum\n",
    "    return areaEstimate"
   ]
  },
  {
   "cell_type": "code",
   "execution_count": 8,
   "metadata": {},
   "outputs": [],
   "source": [
    "def compositeTrapezoid(startPoint, endPoint, numIntervals, f):\n",
    "    a = startPoint\n",
    "    b = endPoint\n",
    "    n = numIntervals\n",
    "    h = (b - a) / n\n",
    "    leftRight = f(a) + f(b)\n",
    "    middleSum = 0\n",
    "    for i in range(1, n):\n",
    "        x = a + i*h\n",
    "        middleSum = middleSum + f(x)\n",
    "    areaEstimate = (h/2) * (leftRight + 2*middleSum)\n",
    "    return areaEstimate"
   ]
  },
  {
   "cell_type": "code",
   "execution_count": 14,
   "metadata": {},
   "outputs": [],
   "source": [
    "def Newton (initialPoint, tol, numIter, f, fprime):\n",
    "    iterr = 1\n",
    "    while iterr < numIter:\n",
    "        p = initialPoint - (f(initialPoint) / fprime(initialPoint))\n",
    "        \n",
    "        print('iterr = %d, p_0 = %.5f, p = %.5f'%(iterr, initialPoint, p))\n",
    "\n",
    "        if (abs(p - initialPoint) < tol):\n",
    "            break\n",
    "        iterr = iterr + 1\n",
    "        initialPoint = p\n",
    "        \n",
    "    return p"
   ]
  },
  {
   "cell_type": "code",
   "execution_count": 9,
   "metadata": {},
   "outputs": [],
   "source": [
    "def ft(t):\n",
    "    return (1 / (2*math.pi)**(1/2))*exp(-t**2 / 2)"
   ]
  },
  {
   "cell_type": "code",
   "execution_count": 11,
   "metadata": {},
   "outputs": [],
   "source": [
    "def fprime(x):\n",
    "    return (1 / (2*math.pi)**(1/2))*exp(-x**2 / 2)"
   ]
  },
  {
   "cell_type": "code",
   "execution_count": 12,
   "metadata": {},
   "outputs": [],
   "source": [
    "def f(x):\n",
    "    return compositeSimpson(0, x, 100, ft) - 0.45"
   ]
  },
  {
   "cell_type": "code",
   "execution_count": 15,
   "metadata": {},
   "outputs": [
    {
     "name": "stdout",
     "output_type": "stream",
     "text": [
      "iterr = 1, p_0 = 0.50000, p = 1.23435\n",
      "iterr = 2, p_0 = 1.23435, p = 1.54866\n",
      "iterr = 3, p_0 = 1.54866, p = 1.63790\n",
      "iterr = 4, p_0 = 1.63790, p = 1.64481\n",
      "iterr = 5, p_0 = 1.64481, p = 1.64485\n",
      "iterr = 6, p_0 = 1.64485, p = 1.64485\n"
     ]
    },
    {
     "data": {
      "text/plain": [
       "1.64485362675461"
      ]
     },
     "execution_count": 15,
     "metadata": {},
     "output_type": "execute_result"
    }
   ],
   "source": [
    "Newton(0.5, 0.00001, 100, f, fprime)"
   ]
  },
  {
   "cell_type": "code",
   "execution_count": null,
   "metadata": {},
   "outputs": [],
   "source": []
  }
 ],
 "metadata": {
  "kernelspec": {
   "display_name": "Python 3",
   "language": "python",
   "name": "python3"
  },
  "language_info": {
   "codemirror_mode": {
    "name": "ipython",
    "version": 3
   },
   "file_extension": ".py",
   "mimetype": "text/x-python",
   "name": "python",
   "nbconvert_exporter": "python",
   "pygments_lexer": "ipython3",
   "version": "3.6.4"
  }
 },
 "nbformat": 4,
 "nbformat_minor": 2
}
