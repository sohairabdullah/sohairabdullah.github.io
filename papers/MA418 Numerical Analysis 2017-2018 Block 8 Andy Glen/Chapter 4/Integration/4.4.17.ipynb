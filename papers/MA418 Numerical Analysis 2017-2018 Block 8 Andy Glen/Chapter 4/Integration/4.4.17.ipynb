{
 "cells": [
  {
   "cell_type": "code",
   "execution_count": 1,
   "metadata": {},
   "outputs": [],
   "source": [
    "from sympy import*\n",
    "%matplotlib inline\n",
    "from __future__ import division\n",
    "x, y, z, t = symbols('x y z t')\n",
    "k, m, n = symbols('k m n', integer = True)\n",
    "f, g, h = symbols('f g h', cls = Function)\n",
    "import math"
   ]
  },
  {
   "cell_type": "code",
   "execution_count": 2,
   "metadata": {},
   "outputs": [],
   "source": [
    "def f(x):\n",
    "    return (9*math.sin(x)**2 + 4*math.cos(x)**2)**(1/2) #after parametrization"
   ]
  },
  {
   "cell_type": "code",
   "execution_count": 3,
   "metadata": {},
   "outputs": [],
   "source": [
    "def compositeSimpson(startPoint, endPoint, numIntervals):\n",
    "    a = startPoint\n",
    "    b = endPoint\n",
    "    n = numIntervals\n",
    "    h = (b - a) / n\n",
    "    leftRight = f(a) + f(b)\n",
    "    oddSum = 0\n",
    "    evenSum = 0\n",
    "    for i in range (1, n):\n",
    "        x = a + i*h\n",
    "        if i % 2 == 1:\n",
    "            oddSum = oddSum + f(x)\n",
    "        else:\n",
    "            evenSum = evenSum + f(x)\n",
    "    areaEstimate = h * (leftRight + 2*evenSum + 4*oddSum) / 3\n",
    "    return areaEstimate"
   ]
  },
  {
   "cell_type": "code",
   "execution_count": 4,
   "metadata": {},
   "outputs": [],
   "source": [
    "def compositeMidpoint(startPoint, endPoint, numIntervals):\n",
    "    a = startPoint\n",
    "    b = endPoint\n",
    "    n = numIntervals\n",
    "    h = (b - a) / n\n",
    "    midSum = 0\n",
    "    for i in range (0, n + 1):\n",
    "        if i%2 == 0:\n",
    "            x = a + i*h\n",
    "            midSum = midSum + f(x)\n",
    "    areaEstimate = 2*h*midSum\n",
    "    return areaEstimate"
   ]
  },
  {
   "cell_type": "code",
   "execution_count": 5,
   "metadata": {},
   "outputs": [],
   "source": [
    "def compositeTrapezoid(startPoint, endPoint, numIntervals):\n",
    "    a = startPoint\n",
    "    b = endPoint\n",
    "    n = numIntervals\n",
    "    h = (b - a) / n\n",
    "    leftRight = f(a) + f(b)\n",
    "    middleSum = 0\n",
    "    for i in range(1, n):\n",
    "        x = a + i*h\n",
    "        middleSum = middleSum + f(x)\n",
    "    areaEstimate = (h/2) * (leftRight + 2*middleSum)\n",
    "    return areaEstimate"
   ]
  },
  {
   "cell_type": "code",
   "execution_count": 6,
   "metadata": {},
   "outputs": [
    {
     "data": {
      "text/plain": [
       "15.865439589290588"
      ]
     },
     "execution_count": 6,
     "metadata": {},
     "output_type": "execute_result"
    }
   ],
   "source": [
    "4 * compositeSimpson(0, math.pi/2, 100) #answer"
   ]
  }
 ],
 "metadata": {
  "kernelspec": {
   "display_name": "Python 3",
   "language": "python",
   "name": "python3"
  },
  "language_info": {
   "codemirror_mode": {
    "name": "ipython",
    "version": 3
   },
   "file_extension": ".py",
   "mimetype": "text/x-python",
   "name": "python",
   "nbconvert_exporter": "python",
   "pygments_lexer": "ipython3",
   "version": "3.6.4"
  }
 },
 "nbformat": 4,
 "nbformat_minor": 2
}
