{
 "cells": [
  {
   "cell_type": "code",
   "execution_count": 1,
   "metadata": {},
   "outputs": [],
   "source": [
    "from sympy import*\n",
    "%matplotlib inline\n",
    "import matplotlib.pyplot as plt\n",
    "from __future__ import division\n",
    "x, y, z, t = symbols('x y z t')\n",
    "k, m, n = symbols('k m n', integer = True)\n",
    "f, g, h = symbols('f g h', cls = Function)\n",
    "import math"
   ]
  },
  {
   "cell_type": "code",
   "execution_count": 2,
   "metadata": {},
   "outputs": [],
   "source": [
    "def derivative(startPoint, endPoint, numIntervals):\n",
    "    x0 = startPoint\n",
    "    list_prime = []\n",
    "    for i in range (0, numIntervals + 1):\n",
    "        new_c = (f(x0 + h) - f(x0 - h)) / (2*h)\n",
    "        list_prime = list_prime + [new_c]\n",
    "        x0 = x0 + (endPoint - startPoint) / numIntervals\n",
    "    return list_prime\n",
    "\n",
    "def compositeSimpson(startPoint, endPoint, numIntervals, list_prime):\n",
    "    a = startPoint\n",
    "    b = endPoint\n",
    "    n = numIntervals\n",
    "    h = (b - a) / n\n",
    "    leftRight = list_prime[0] + list_prime[n]\n",
    "    oddSum = 0\n",
    "    evenSum = 0\n",
    "    for i in range (1, n):\n",
    "        if i % 2 == 1:\n",
    "            oddSum = oddSum + list_prime[i]\n",
    "        else:\n",
    "            evenSum = evenSum + list_prime[i]\n",
    "    areaEstimate = h * (leftRight + 2*evenSum + 4*oddSum) / 3\n",
    "    return areaEstimate"
   ]
  },
  {
   "cell_type": "code",
   "execution_count": 96,
   "metadata": {},
   "outputs": [
    {
     "data": {
      "text/plain": [
       "-1.9994894628894144e-11"
      ]
     },
     "execution_count": 96,
     "metadata": {},
     "output_type": "execute_result"
    }
   ],
   "source": [
    "def f(x):\n",
    "    #return x**2\n",
    "    #return math.e**(2*x)*math.sin(3*x)\n",
    "    return 1 - math.e**(-(x/2)**2)\n",
    "\n",
    "h = .000001\n",
    "startPoint = 0\n",
    "endPoint = 5\n",
    "numIntervals = 100000\n",
    "\n",
    "f_prime = derivative(startPoint, endPoint, numIntervals)\n",
    "\n",
    "def error(startPoint, endPoint, numIntervals, list_prime):\n",
    "    return abs(f(endPoint) - f(startPoint)) - abs(compositeSimpson(startPoint, endPoint, numIntervals,list_prime))\n",
    "\n",
    "error(startPoint, endPoint, numIntervals, f_prime)\n"
   ]
  },
  {
   "cell_type": "code",
   "execution_count": null,
   "metadata": {},
   "outputs": [],
   "source": []
  }
 ],
 "metadata": {
  "kernelspec": {
   "display_name": "Python 3",
   "language": "python",
   "name": "python3"
  },
  "language_info": {
   "codemirror_mode": {
    "name": "ipython",
    "version": 3
   },
   "file_extension": ".py",
   "mimetype": "text/x-python",
   "name": "python",
   "nbconvert_exporter": "python",
   "pygments_lexer": "ipython3",
   "version": "3.6.4"
  }
 },
 "nbformat": 4,
 "nbformat_minor": 2
}
