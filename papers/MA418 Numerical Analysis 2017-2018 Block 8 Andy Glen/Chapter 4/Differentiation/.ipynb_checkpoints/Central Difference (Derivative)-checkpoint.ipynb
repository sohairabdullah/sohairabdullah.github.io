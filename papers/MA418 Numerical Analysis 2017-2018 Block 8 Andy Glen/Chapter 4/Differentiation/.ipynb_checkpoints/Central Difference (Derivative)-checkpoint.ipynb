{
 "cells": [
  {
   "cell_type": "code",
   "execution_count": 1,
   "metadata": {},
   "outputs": [],
   "source": [
    "from sympy import*\n",
    "import math\n",
    "%matplotlib inline\n",
    "import matplotlib.pyplot as plt\n",
    "from __future__ import division\n",
    "x, y, z, t = symbols('x y z t')\n",
    "k, m, n = symbols('k m n', integer = True)\n",
    "f, g, h = symbols('f g h', cls = Function)"
   ]
  },
  {
   "cell_type": "code",
   "execution_count": 6,
   "metadata": {},
   "outputs": [],
   "source": [
    "def f(x):\n",
    "    return sin(x)"
   ]
  },
  {
   "cell_type": "code",
   "execution_count": 15,
   "metadata": {},
   "outputs": [
    {
     "name": "stdout",
     "output_type": "stream",
     "text": [
      "fprime_approx = 0.0000000000, actual = 0.5403023059, error = 0.5403023059\n"
     ]
    }
   ],
   "source": [
    "h = 0.000001 #when h gets really close, the approximation is worse\n",
    "x0 = 1.0\n",
    "fprime = (f(x0 + h) - f(x0 - h)) / 2*h\n",
    "print ('fprime_approx = %.10f, actual = %.10f, error = %.10f'%(fprime, cos(1.0), abs(fprime - cos(1.0))))"
   ]
  },
  {
   "cell_type": "code",
   "execution_count": 27,
   "metadata": {},
   "outputs": [
    {
     "name": "stdout",
     "output_type": "stream",
     "text": [
      "j = -1, error_f = 0.724448425004000, error_c = 0.569695891933587\n",
      "j = 0, error_f = 0.472475863850355, error_c = 0.085653592455299\n",
      "j = 1, error_f = 0.042938553332751, error_c = 0.000900053698380\n",
      "j = 2, error_f = 0.004216324856271, error_c = 0.000009004993406\n",
      "j = 3, error_f = 0.000420825507813, error_c = 0.000000090050450\n",
      "j = 4, error_f = 0.000042074449519, error_c = 0.000000000900430\n",
      "j = 5, error_f = 0.000004207362275, error_c = 0.000000000011141\n",
      "j = 6, error_f = 0.000000420746809, error_c = 0.000000000027794\n",
      "j = 7, error_f = 0.000000041827691, error_c = 0.000000000194328\n",
      "j = 8, error_f = 0.000000002969885, error_c = 0.000000002581230\n",
      "j = 9, error_f = 0.000000052541266, error_c = 0.000000002969885\n",
      "j = 10, error_f = 0.000000058481036, error_c = 0.000000058481036\n",
      "j = 11, error_f = 0.000001168704061, error_c = 0.000001168704061\n",
      "j = 12, error_f = 0.000043240216924, error_c = 0.000012270934307\n",
      "j = 13, error_f = 0.000733915900314, error_c = 0.000178804388001\n",
      "j = 14, error_f = 0.003706976198187, error_c = 0.003706976198187\n",
      "j = 15, error_f = 0.014809206444439, error_c = 0.014809206444439\n",
      "j = 16, error_f = 0.540302305868140, error_c = 0.540302305868140\n",
      "j = 17, error_f = 0.540302305868140, error_c = 0.540302305868140\n"
     ]
    }
   ],
   "source": [
    "for j in range(-1, 18):\n",
    "    h = 10**(-j)\n",
    "    x0 = 1.0\n",
    "    fprime_f = (f(x0 + h) - f(x0)) / h\n",
    "    fprime_c = (f(x0 + h) - f(x0 - h)) / (2*h)\n",
    "    print ('j = %d, error_f = %.15f, error_c = %.15f'%(j, abs(fprime_f - cos(1.0)), abs(fprime_c - cos(1.0))))"
   ]
  },
  {
   "cell_type": "code",
   "execution_count": 63,
   "metadata": {},
   "outputs": [],
   "source": [
    "dash = '-' * 65"
   ]
  },
  {
   "cell_type": "code",
   "execution_count": 64,
   "metadata": {},
   "outputs": [
    {
     "name": "stdout",
     "output_type": "stream",
     "text": [
      "-----------------------------------------------------------------\n",
      "j        error(forward)               error(central)       \n",
      "-----------------------------------------------------------------\n",
      "j = -1 , error_f = 0.724448425004000, error_c = 0.569695891933587\n",
      "j = 0  , error_f = 0.472475863850355, error_c = 0.085653592455299\n",
      "j = 1  , error_f = 0.042938553332751, error_c = 0.000900053698380\n",
      "j = 2  , error_f = 0.004216324856271, error_c = 0.000009004993406\n",
      "j = 3  , error_f = 0.000420825507813, error_c = 0.000000090050450\n",
      "j = 4  , error_f = 0.000042074449519, error_c = 0.000000000900430\n",
      "j = 5  , error_f = 0.000004207362275, error_c = 0.000000000011141\n",
      "j = 6  , error_f = 0.000000420746809, error_c = 0.000000000027794\n",
      "j = 7  , error_f = 0.000000041827691, error_c = 0.000000000194328\n",
      "j = 8  , error_f = 0.000000002969885, error_c = 0.000000002581230\n",
      "j = 9  , error_f = 0.000000052541266, error_c = 0.000000002969885\n",
      "j = 10 , error_f = 0.000000058481036, error_c = 0.000000058481036\n",
      "j = 11 , error_f = 0.000001168704061, error_c = 0.000001168704061\n",
      "j = 12 , error_f = 0.000043240216924, error_c = 0.000012270934307\n",
      "j = 13 , error_f = 0.000733915900314, error_c = 0.000178804388001\n",
      "j = 14 , error_f = 0.003706976198187, error_c = 0.003706976198187\n",
      "j = 15 , error_f = 0.014809206444438, error_c = 0.014809206444438\n",
      "j = 16 , error_f = 0.540302305868140, error_c = 0.540302305868140\n",
      "j = 17 , error_f = 0.540302305868140, error_c = 0.540302305868140\n"
     ]
    }
   ],
   "source": [
    "for j in range(-2, 18):\n",
    "    if (j == -2):\n",
    "        print (dash)\n",
    "        print ('{:9s}{:29s}{:21s}'.format('j', 'error(forward)','error(central)'))\n",
    "        print (dash)\n",
    "    else:\n",
    "        h = 10**(-j)\n",
    "        x0 = 1.0\n",
    "        fprime_f = (f(x0 + h) - f(x0)) / h\n",
    "        fprime_c = (f(x0 + h) - f(x0 - h)) / (2*h)\n",
    "        print ('j = {:<3d}, error_f = {:15.15f}, error_c = {:15.15f}'.format(j, abs(fprime_f - cos(1.0)), abs(fprime_c - cos(1.0))))"
   ]
  },
  {
   "cell_type": "code",
   "execution_count": null,
   "metadata": {},
   "outputs": [],
   "source": [
    "plt.plot([],[],'or')"
   ]
  }
 ],
 "metadata": {
  "kernelspec": {
   "display_name": "Python 3",
   "language": "python",
   "name": "python3"
  },
  "language_info": {
   "codemirror_mode": {
    "name": "ipython",
    "version": 3
   },
   "file_extension": ".py",
   "mimetype": "text/x-python",
   "name": "python",
   "nbconvert_exporter": "python",
   "pygments_lexer": "ipython3",
   "version": "3.6.4"
  }
 },
 "nbformat": 4,
 "nbformat_minor": 2
}
