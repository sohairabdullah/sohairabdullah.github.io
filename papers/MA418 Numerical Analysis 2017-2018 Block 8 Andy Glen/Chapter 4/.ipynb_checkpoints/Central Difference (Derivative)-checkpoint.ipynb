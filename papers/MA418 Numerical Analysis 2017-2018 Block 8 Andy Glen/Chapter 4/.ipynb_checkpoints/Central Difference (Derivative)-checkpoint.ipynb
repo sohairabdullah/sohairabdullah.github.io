{
 "cells": [
  {
   "cell_type": "code",
   "execution_count": 1,
   "metadata": {},
   "outputs": [],
   "source": [
    "from sympy import*\n",
    "import math\n",
    "%matplotlib inline\n",
    "import matplotlib.pyplot as plt\n",
    "from __future__ import division\n",
    "x, y, z, t = symbols('x y z t')\n",
    "k, m, n = symbols('k m n', integer = True)\n",
    "f, g, h = symbols('f g h', cls = Function)"
   ]
  },
  {
   "cell_type": "code",
   "execution_count": 2,
   "metadata": {},
   "outputs": [],
   "source": [
    "def f(x):\n",
    "    return sin(x)"
   ]
  },
  {
   "cell_type": "code",
   "execution_count": 13,
   "metadata": {},
   "outputs": [
    {
     "name": "stdout",
     "output_type": "stream",
     "text": [
      "fprime_approx = 0.5551115123, actual = 0.5403023059, error = 0.0148092064\n"
     ]
    }
   ],
   "source": [
    "h = 0.000000000000001 #when h gets really close, the approximation is worse\n",
    "x0 = 1.0\n",
    "fprime = (f(x0 + h) - f(x0)) / h\n",
    "print ('fprime_approx = %.10f, actual = %.10f, error = %.10f'%(fprime, cos(1.0), abs(fprime - cos(1.0))))"
   ]
  },
  {
   "cell_type": "code",
   "execution_count": null,
   "metadata": {},
   "outputs": [],
   "source": []
  }
 ],
 "metadata": {
  "kernelspec": {
   "display_name": "Python 3",
   "language": "python",
   "name": "python3"
  },
  "language_info": {
   "codemirror_mode": {
    "name": "ipython",
    "version": 3
   },
   "file_extension": ".py",
   "mimetype": "text/x-python",
   "name": "python",
   "nbconvert_exporter": "python",
   "pygments_lexer": "ipython3",
   "version": "3.6.4"
  }
 },
 "nbformat": 4,
 "nbformat_minor": 2
}
