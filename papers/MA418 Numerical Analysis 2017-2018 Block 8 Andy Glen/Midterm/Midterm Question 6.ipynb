{
 "cells": [
  {
   "cell_type": "code",
   "execution_count": 1,
   "metadata": {},
   "outputs": [],
   "source": [
    "from sympy import*\n",
    "%matplotlib inline\n",
    "import matplotlib.pyplot as plt\n",
    "from __future__ import division\n",
    "x, y, z, t = symbols('x y z t')\n",
    "k, m, n = symbols('k m n', integer = True)\n",
    "f, g, h = symbols('f g h', cls = Function)\n",
    "import math"
   ]
  },
  {
   "cell_type": "code",
   "execution_count": 2,
   "metadata": {},
   "outputs": [],
   "source": [
    "def compositeSimpson(startPoint, endPoint, numIntervals):\n",
    "    a = startPoint\n",
    "    b = endPoint\n",
    "    n = numIntervals\n",
    "    h = (b - a) / n\n",
    "    leftRight = f(a) + f(b)\n",
    "    oddSum = 0\n",
    "    evenSum = 0\n",
    "    for i in range (1, n):\n",
    "        x = a + i*h\n",
    "        if i % 2 == 1:\n",
    "            oddSum = oddSum + f(x)\n",
    "        else:\n",
    "            evenSum = evenSum + f(x)\n",
    "    areaEstimate = h * (leftRight + 2*evenSum + 4*oddSum) / 3\n",
    "    return areaEstimate"
   ]
  },
  {
   "cell_type": "code",
   "execution_count": 3,
   "metadata": {},
   "outputs": [],
   "source": [
    "def SimpsonDouble(a, b, m, n, f, g, answer):\n",
    "    h = (b - a)/n\n",
    "    J1 = 0\n",
    "    J2 = 0\n",
    "    J3 = 0\n",
    "    for i in range (0, n+1):\n",
    "        x = a + i*h\n",
    "        HX = (d(x) - c(x))/m\n",
    "        K1 = answer*f(x) + g(c(x)) + answer*f(x) + g(d(x))\n",
    "        K2 = 0\n",
    "        K3 = 0\n",
    "        \n",
    "        for j in range (1, m):\n",
    "            y = c(x) + j*HX\n",
    "            Q = answer*f(x) + g(y)\n",
    "            if j%2 == 0:\n",
    "                K2 = K2 + Q\n",
    "            else:\n",
    "                K3 = K3 + Q\n",
    "        L = ((K1 + 2*K2 + 4*K3)*HX)/3\n",
    "        if i ==0 or i == n:\n",
    "            J1 = J1 + L\n",
    "        elif i % 2 == 0:\n",
    "            J2 = J2 + L\n",
    "        else:\n",
    "            J3 = J3 + L\n",
    "    J = h*(J1 + 2*J2 + 4*J3)/3\n",
    "    return J"
   ]
  },
  {
   "cell_type": "code",
   "execution_count": 4,
   "metadata": {},
   "outputs": [],
   "source": [
    "def c(x):\n",
    "    return 0\n",
    "    #return x - 2"
   ]
  },
  {
   "cell_type": "code",
   "execution_count": 5,
   "metadata": {},
   "outputs": [],
   "source": [
    "def d(x):\n",
    "    return -x + 2"
   ]
  },
  {
   "cell_type": "code",
   "execution_count": 6,
   "metadata": {},
   "outputs": [],
   "source": [
    "def f(x):\n",
    "    return math.e**(-x)*x**5.1"
   ]
  },
  {
   "cell_type": "code",
   "execution_count": 7,
   "metadata": {},
   "outputs": [],
   "source": [
    "def g(y):\n",
    "    return y"
   ]
  },
  {
   "cell_type": "code",
   "execution_count": 16,
   "metadata": {},
   "outputs": [],
   "source": [
    "def findC(initialValue):\n",
    "    areaEstimate = 0\n",
    "    while abs(areaEstimate - 2.067) > 0.00001:\n",
    "        areaEstimate = SimpsonDouble(0, 2, 10, 10, f, g, initialValue)\n",
    "        initialValue = initialValue + 0.00001\n",
    "    return initialValue"
   ]
  },
  {
   "cell_type": "code",
   "execution_count": 17,
   "metadata": {},
   "outputs": [
    {
     "data": {
      "text/plain": [
       "1.0000799999995453"
      ]
     },
     "execution_count": 17,
     "metadata": {},
     "output_type": "execute_result"
    }
   ],
   "source": [
    "findC(0.9)"
   ]
  },
  {
   "cell_type": "code",
   "execution_count": 18,
   "metadata": {},
   "outputs": [
    {
     "data": {
      "text/plain": [
       "2.908774168197681e-07"
      ]
     },
     "execution_count": 18,
     "metadata": {},
     "output_type": "execute_result"
    }
   ],
   "source": [
    "abs(SimpsonDouble(0, 2, 10, 10, f, g, 1.000080) - 2.067)"
   ]
  },
  {
   "cell_type": "code",
   "execution_count": null,
   "metadata": {},
   "outputs": [],
   "source": []
  }
 ],
 "metadata": {
  "kernelspec": {
   "display_name": "Python 3",
   "language": "python",
   "name": "python3"
  },
  "language_info": {
   "codemirror_mode": {
    "name": "ipython",
    "version": 3
   },
   "file_extension": ".py",
   "mimetype": "text/x-python",
   "name": "python",
   "nbconvert_exporter": "python",
   "pygments_lexer": "ipython3",
   "version": "3.6.4"
  }
 },
 "nbformat": 4,
 "nbformat_minor": 2
}
