{
 "cells": [
  {
   "cell_type": "code",
   "execution_count": 2,
   "metadata": {},
   "outputs": [],
   "source": [
    "from sympy import*\n",
    "%matplotlib inline\n",
    "from __future__ import division\n",
    "x, y, z, t = symbols('x y z t')\n",
    "k, m, n = symbols('k m n', integer = True)\n",
    "f, g, h = symbols('f g h', cls = Function)\n",
    "import math"
   ]
  },
  {
   "cell_type": "code",
   "execution_count": 3,
   "metadata": {},
   "outputs": [],
   "source": [
    "def g(x):\n",
    "    return x*(math.e)**(-x/3)"
   ]
  },
  {
   "cell_type": "code",
   "execution_count": 4,
   "metadata": {},
   "outputs": [
    {
     "data": {
      "text/plain": [
       "-0.333333333333333*2.71828182845905**(-x/3)*x + 2.71828182845905**(-x/3)"
      ]
     },
     "execution_count": 4,
     "metadata": {},
     "output_type": "execute_result"
    }
   ],
   "source": [
    "diff(g(x), x)"
   ]
  },
  {
   "cell_type": "code",
   "execution_count": 5,
   "metadata": {},
   "outputs": [],
   "source": [
    "def f(x):\n",
    "    return 1 - x * (3/(math.e))"
   ]
  },
  {
   "cell_type": "code",
   "execution_count": 15,
   "metadata": {},
   "outputs": [
    {
     "data": {
      "text/plain": [
       "-1.10363832351433"
      ]
     },
     "execution_count": 15,
     "metadata": {},
     "output_type": "execute_result"
    }
   ],
   "source": [
    "diff(f(x), x)"
   ]
  },
  {
   "cell_type": "code",
   "execution_count": 16,
   "metadata": {},
   "outputs": [],
   "source": [
    "def fprime(x):\n",
    "    return -1.10363832351433"
   ]
  },
  {
   "cell_type": "code",
   "execution_count": 17,
   "metadata": {},
   "outputs": [],
   "source": [
    "def bisection(a, b, tol, numIter):\n",
    "    iterr = 1\n",
    "    fa = f(a)\n",
    "    while iterr < numIter:\n",
    "        p = (b - a) / 2 + a\n",
    "        fp = f(p)\n",
    "        print('iterr = %d, a = %.5f, b = %.5f, p = %.5f, f(p) = %.5f'%(iterr, a, b, p, fp))\n",
    "        #if (fp == 0 or abs(fp) < tol ): \n",
    "        #different tolerance y condition x condition (they can differ a lot)\n",
    "        if (fp == 0 or (b - a)/2 < tol):\n",
    "            break\n",
    "        iterr = iterr + 1\n",
    "        if (fp * fa < 0):\n",
    "            b = p\n",
    "            fb = fp\n",
    "        else:\n",
    "            a = p\n",
    "            fa = fp\n",
    "    return p, fp"
   ]
  },
  {
   "cell_type": "code",
   "execution_count": 18,
   "metadata": {},
   "outputs": [],
   "source": [
    "def Newton (initialPoint, tol, numIter):\n",
    "    iterr = 1\n",
    "    while iterr < numIter:\n",
    "        p = initialPoint - (f(initialPoint) / fprime(initialPoint))\n",
    "        \n",
    "        print('iterr = %d, p_0 = %.5f, p = %.5f'%(iterr, initialPoint, p))\n",
    "\n",
    "        #if (abs(p - initialPoint) < tol):\n",
    "        if (abs(f(p)) < tol):\n",
    "            break\n",
    "        iterr = iterr + 1\n",
    "        initialPoint = p\n",
    "        \n",
    "    return p"
   ]
  },
  {
   "cell_type": "code",
   "execution_count": 19,
   "metadata": {},
   "outputs": [],
   "source": [
    "def secant (p0, p1, tol, numIter):\n",
    "    iterr = 2 #p0, p1\n",
    "    q0 = f(p0)\n",
    "    q1 = f(p1)\n",
    "    while iterr < numIter:\n",
    "        \n",
    "        p = p1 -  q1 *(p1 - p0)/(q1 - q0)\n",
    "        \n",
    "        print('iterr = %d, p_%d = %.5f, p_%d = %.5f'%(iterr, iterr - 2, p0, iterr - 1, p1))\n",
    "\n",
    "        if (abs(p - p1) < tol):\n",
    "            break\n",
    "        iterr = iterr + 1\n",
    "        p0 = p1\n",
    "        q0 = q1\n",
    "        p1 = p\n",
    "        q1 = f(p)\n",
    "    return p"
   ]
  },
  {
   "cell_type": "code",
   "execution_count": 20,
   "metadata": {},
   "outputs": [
    {
     "name": "stdout",
     "output_type": "stream",
     "text": [
      "iterr = 1, a = 0.00000, b = 2.50000, p = 1.25000, f(p) = -0.37955\n",
      "iterr = 2, a = 0.00000, b = 1.25000, p = 0.62500, f(p) = 0.31023\n",
      "iterr = 3, a = 0.62500, b = 1.25000, p = 0.93750, f(p) = -0.03466\n",
      "iterr = 4, a = 0.62500, b = 0.93750, p = 0.78125, f(p) = 0.13778\n",
      "iterr = 5, a = 0.78125, b = 0.93750, p = 0.85938, f(p) = 0.05156\n",
      "iterr = 6, a = 0.85938, b = 0.93750, p = 0.89844, f(p) = 0.00845\n",
      "iterr = 7, a = 0.89844, b = 0.93750, p = 0.91797, f(p) = -0.01311\n",
      "iterr = 8, a = 0.89844, b = 0.91797, p = 0.90820, f(p) = -0.00233\n",
      "iterr = 9, a = 0.89844, b = 0.90820, p = 0.90332, f(p) = 0.00306\n",
      "iterr = 10, a = 0.90332, b = 0.90820, p = 0.90576, f(p) = 0.00037\n",
      "iterr = 11, a = 0.90576, b = 0.90820, p = 0.90698, f(p) = -0.00098\n",
      "iterr = 12, a = 0.90576, b = 0.90698, p = 0.90637, f(p) = -0.00031\n",
      "iterr = 13, a = 0.90576, b = 0.90637, p = 0.90607, f(p) = 0.00003\n",
      "iterr = 14, a = 0.90607, b = 0.90637, p = 0.90622, f(p) = -0.00014\n",
      "iterr = 15, a = 0.90607, b = 0.90622, p = 0.90614, f(p) = -0.00005\n",
      "iterr = 16, a = 0.90607, b = 0.90614, p = 0.90611, f(p) = -0.00001\n",
      "iterr = 17, a = 0.90607, b = 0.90611, p = 0.90609, f(p) = 0.00001\n",
      "iterr = 18, a = 0.90609, b = 0.90611, p = 0.90610, f(p) = -0.00000\n"
     ]
    }
   ],
   "source": [
    "b1, b2 = bisection(0, 2.5, 0.00001, 50)"
   ]
  },
  {
   "cell_type": "code",
   "execution_count": 21,
   "metadata": {},
   "outputs": [
    {
     "name": "stdout",
     "output_type": "stream",
     "text": [
      "iterr = 1, p_0 = 2.00000, p = 0.90609\n"
     ]
    }
   ],
   "source": [
    "n = Newton(2, 0.00001, 50)"
   ]
  },
  {
   "cell_type": "code",
   "execution_count": 22,
   "metadata": {},
   "outputs": [
    {
     "name": "stdout",
     "output_type": "stream",
     "text": [
      "iterr = 2, p_0 = 0.00000, p_1 = 2.50000\n",
      "iterr = 3, p_1 = 2.50000, p_2 = 0.90609\n"
     ]
    }
   ],
   "source": [
    "s = secant (0, 2.5, 0.00001, 50)"
   ]
  },
  {
   "cell_type": "code",
   "execution_count": 6,
   "metadata": {},
   "outputs": [
    {
     "data": {
      "image/png": "[encoded data removed]",
      "text/plain": [
       "<matplotlib.figure.Figure at 0x105ce39e8>"
      ]
     },
     "metadata": {},
     "output_type": "display_data"
    },
    {
     "data": {
      "text/plain": [
       "<sympy.plotting.plot.Plot at 0x105ce3dd8>"
      ]
     },
     "execution_count": 6,
     "metadata": {},
     "output_type": "execute_result"
    }
   ],
   "source": [
    "plot(f(x), (x, 0, 30))"
   ]
  },
  {
   "cell_type": "code",
   "execution_count": null,
   "metadata": {},
   "outputs": [],
   "source": []
  }
 ],
 "metadata": {
  "kernelspec": {
   "display_name": "Python 3",
   "language": "python",
   "name": "python3"
  },
  "language_info": {
   "codemirror_mode": {
    "name": "ipython",
    "version": 3
   },
   "file_extension": ".py",
   "mimetype": "text/x-python",
   "name": "python",
   "nbconvert_exporter": "python",
   "pygments_lexer": "ipython3",
   "version": "3.6.4"
  }
 },
 "nbformat": 4,
 "nbformat_minor": 2
}
