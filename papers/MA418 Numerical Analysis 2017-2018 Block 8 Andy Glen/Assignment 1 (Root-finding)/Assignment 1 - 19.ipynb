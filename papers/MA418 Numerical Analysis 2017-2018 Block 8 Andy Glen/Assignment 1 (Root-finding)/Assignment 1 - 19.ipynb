{
 "cells": [
  {
   "cell_type": "code",
   "execution_count": 19,
   "metadata": {},
   "outputs": [],
   "source": [
    "from sympy import*\n",
    "%matplotlib inline\n",
    "from __future__ import division\n",
    "x, y, z, t = symbols('x y z t')\n",
    "k, m, n = symbols('k m n', integer = True)\n",
    "f, g, h = symbols('f g h', cls = Function)\n",
    "import math"
   ]
  },
  {
   "cell_type": "code",
   "execution_count": 20,
   "metadata": {},
   "outputs": [],
   "source": [
    "def g(x):\n",
    "    return x**4 + x**2 - 2*x + 1"
   ]
  },
  {
   "cell_type": "code",
   "execution_count": 11,
   "metadata": {},
   "outputs": [
    {
     "data": {
      "text/plain": [
       "4*x**3 + 2*x - 2"
      ]
     },
     "execution_count": 11,
     "metadata": {},
     "output_type": "execute_result"
    }
   ],
   "source": [
    "diff(g(x), x)"
   ]
  },
  {
   "cell_type": "code",
   "execution_count": 21,
   "metadata": {},
   "outputs": [],
   "source": [
    "def f(x):\n",
    "    return 4*x**3 + 2*x - 2"
   ]
  },
  {
   "cell_type": "code",
   "execution_count": 13,
   "metadata": {},
   "outputs": [
    {
     "data": {
      "text/plain": [
       "12*x**2 + 2"
      ]
     },
     "execution_count": 13,
     "metadata": {},
     "output_type": "execute_result"
    }
   ],
   "source": [
    "diff(f(x), x)"
   ]
  },
  {
   "cell_type": "code",
   "execution_count": 22,
   "metadata": {},
   "outputs": [],
   "source": [
    "def fprime(x):\n",
    "    return 12*x**2 + 2"
   ]
  },
  {
   "cell_type": "code",
   "execution_count": 23,
   "metadata": {},
   "outputs": [],
   "source": [
    "def bisection(a, b, tol, numIter):\n",
    "    iterr = 1\n",
    "    fa = f(a)\n",
    "    while iterr < numIter:\n",
    "        p = (b - a) / 2 + a\n",
    "        fp = f(p)\n",
    "        print('iterr = %d, a = %.5f, b = %.5f, p = %.5f, f(p) = %.5f'%(iterr, a, b, p, fp))\n",
    "        #if (fp == 0 or abs(fp) < tol ): \n",
    "        #different tolerance y condition x condition (they can differ a lot)\n",
    "        if (fp == 0 or (b - a)/2 < tol):\n",
    "            break\n",
    "        iterr = iterr + 1\n",
    "        if (fp * fa < 0):\n",
    "            b = p\n",
    "            fb = fp\n",
    "        else:\n",
    "            a = p\n",
    "            fa = fp\n",
    "    return p, fp"
   ]
  },
  {
   "cell_type": "code",
   "execution_count": 24,
   "metadata": {},
   "outputs": [],
   "source": [
    "def Newton (initialPoint, tol, numIter):\n",
    "    iterr = 1\n",
    "    while iterr < numIter:\n",
    "        p = initialPoint - (f(initialPoint) / fprime(initialPoint))\n",
    "        \n",
    "        print('iterr = %d, p_0 = %.5f, p = %.5f'%(iterr, initialPoint, p))\n",
    "\n",
    "        if (abs(p - initialPoint) < tol):\n",
    "            break\n",
    "        iterr = iterr + 1\n",
    "        initialPoint = p\n",
    "        \n",
    "    return p"
   ]
  },
  {
   "cell_type": "code",
   "execution_count": 25,
   "metadata": {},
   "outputs": [],
   "source": [
    "def secant (p0, p1, tol, numIter):\n",
    "    iterr = 2 #p0, p1\n",
    "    q0 = f(p0)\n",
    "    q1 = f(p1)\n",
    "    while iterr < numIter:\n",
    "        \n",
    "        p = p1 -  q1 *(p1 - p0)/(q1 - q0)\n",
    "        \n",
    "        print('iterr = %d, p_%d = %.5f, p_%d = %.5f'%(iterr, iterr - 2, p0, iterr - 1, p1))\n",
    "\n",
    "        if (abs(p - p1) < tol):\n",
    "            break\n",
    "        iterr = iterr + 1\n",
    "        p0 = p1\n",
    "        q0 = q1\n",
    "        p1 = p\n",
    "        q1 = f(p)\n",
    "    return p"
   ]
  },
  {
   "cell_type": "code",
   "execution_count": 26,
   "metadata": {},
   "outputs": [
    {
     "name": "stdout",
     "output_type": "stream",
     "text": [
      "iterr = 1, a = 0.50000, b = 0.60000, p = 0.55000, f(p) = -0.23450\n",
      "iterr = 2, a = 0.55000, b = 0.60000, p = 0.57500, f(p) = -0.08956\n",
      "iterr = 3, a = 0.57500, b = 0.60000, p = 0.58750, f(p) = -0.01388\n",
      "iterr = 4, a = 0.58750, b = 0.60000, p = 0.59375, f(p) = 0.02478\n",
      "iterr = 5, a = 0.58750, b = 0.59375, p = 0.59062, f(p) = 0.00538\n",
      "iterr = 6, a = 0.58750, b = 0.59062, p = 0.58906, f(p) = -0.00427\n",
      "iterr = 7, a = 0.58906, b = 0.59062, p = 0.58984, f(p) = 0.00055\n",
      "iterr = 8, a = 0.58906, b = 0.58984, p = 0.58945, f(p) = -0.00186\n",
      "iterr = 9, a = 0.58945, b = 0.58984, p = 0.58965, f(p) = -0.00065\n",
      "iterr = 10, a = 0.58965, b = 0.58984, p = 0.58975, f(p) = -0.00005\n",
      "iterr = 11, a = 0.58975, b = 0.58984, p = 0.58979, f(p) = 0.00025\n",
      "iterr = 12, a = 0.58975, b = 0.58979, p = 0.58977, f(p) = 0.00010\n",
      "iterr = 13, a = 0.58975, b = 0.58977, p = 0.58976, f(p) = 0.00002\n",
      "iterr = 14, a = 0.58975, b = 0.58976, p = 0.58975, f(p) = -0.00001\n",
      "iterr = 15, a = 0.58975, b = 0.58976, p = 0.58976, f(p) = 0.00000\n",
      "iterr = 16, a = 0.58975, b = 0.58976, p = 0.58975, f(p) = -0.00000\n",
      "iterr = 17, a = 0.58975, b = 0.58976, p = 0.58975, f(p) = -0.00000\n",
      "iterr = 18, a = 0.58975, b = 0.58976, p = 0.58975, f(p) = 0.00000\n",
      "iterr = 19, a = 0.58975, b = 0.58975, p = 0.58975, f(p) = 0.00000\n",
      "iterr = 20, a = 0.58975, b = 0.58975, p = 0.58975, f(p) = 0.00000\n",
      "iterr = 21, a = 0.58975, b = 0.58975, p = 0.58975, f(p) = 0.00000\n",
      "iterr = 22, a = 0.58975, b = 0.58975, p = 0.58975, f(p) = -0.00000\n",
      "iterr = 23, a = 0.58975, b = 0.58975, p = 0.58975, f(p) = 0.00000\n",
      "iterr = 24, a = 0.58975, b = 0.58975, p = 0.58975, f(p) = 0.00000\n"
     ]
    }
   ],
   "source": [
    "b1, b2 = bisection(0.5, 0.6, 0.00000001, 50)"
   ]
  },
  {
   "cell_type": "code",
   "execution_count": 27,
   "metadata": {},
   "outputs": [
    {
     "name": "stdout",
     "output_type": "stream",
     "text": [
      "iterr = 1, p_0 = 0.60000, p = 0.58987\n",
      "iterr = 2, p_0 = 0.58987, p = 0.58975\n",
      "iterr = 3, p_0 = 0.58975, p = 0.58975\n",
      "iterr = 4, p_0 = 0.58975, p = 0.58975\n"
     ]
    }
   ],
   "source": [
    "n = Newton(0.6, 0.00000001, 50)"
   ]
  },
  {
   "cell_type": "code",
   "execution_count": 28,
   "metadata": {},
   "outputs": [
    {
     "name": "stdout",
     "output_type": "stream",
     "text": [
      "iterr = 2, p_0 = 0.50000, p_1 = 0.60000\n",
      "iterr = 3, p_1 = 0.60000, p_2 = 0.58865\n",
      "iterr = 4, p_2 = 0.58865, p_3 = 0.58974\n",
      "iterr = 5, p_3 = 0.58974, p_4 = 0.58975\n",
      "iterr = 6, p_4 = 0.58975, p_5 = 0.58975\n"
     ]
    }
   ],
   "source": [
    "s = secant (0.5, 0.6, 0.00000001, 50)"
   ]
  },
  {
   "cell_type": "code",
   "execution_count": 15,
   "metadata": {},
   "outputs": [
    {
     "data": {
      "image/png": "[encoded data removed]",
      "text/plain": [
       "<matplotlib.figure.Figure at 0x111b21f60>"
      ]
     },
     "metadata": {},
     "output_type": "display_data"
    },
    {
     "data": {
      "text/plain": [
       "<sympy.plotting.plot.Plot at 0x10f009080>"
      ]
     },
     "execution_count": 15,
     "metadata": {},
     "output_type": "execute_result"
    }
   ],
   "source": [
    "plot(f(x), (x, 0, 1))"
   ]
  },
  {
   "cell_type": "code",
   "execution_count": null,
   "metadata": {},
   "outputs": [],
   "source": []
  }
 ],
 "metadata": {
  "kernelspec": {
   "display_name": "Python 3",
   "language": "python",
   "name": "python3"
  },
  "language_info": {
   "codemirror_mode": {
    "name": "ipython",
    "version": 3
   },
   "file_extension": ".py",
   "mimetype": "text/x-python",
   "name": "python",
   "nbconvert_exporter": "python",
   "pygments_lexer": "ipython3",
   "version": "3.6.4"
  }
 },
 "nbformat": 4,
 "nbformat_minor": 2
}
