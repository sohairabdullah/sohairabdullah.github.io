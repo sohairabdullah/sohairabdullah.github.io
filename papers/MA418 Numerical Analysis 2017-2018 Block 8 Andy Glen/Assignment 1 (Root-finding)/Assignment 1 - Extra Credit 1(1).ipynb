{
 "cells": [
  {
   "cell_type": "code",
   "execution_count": 1,
   "metadata": {},
   "outputs": [],
   "source": [
    "from sympy import*\n",
    "%matplotlib inline\n",
    "from __future__ import division\n",
    "x, y, z, t = symbols('x y z t')\n",
    "k, m, n = symbols('k m n', integer = True)\n",
    "f, g, h = symbols('f g h', cls = Function)\n",
    "import math"
   ]
  },
  {
   "cell_type": "code",
   "execution_count": 2,
   "metadata": {},
   "outputs": [],
   "source": [
    "def f(x):\n",
    "    return x**6 - x + 1"
   ]
  },
  {
   "cell_type": "code",
   "execution_count": 3,
   "metadata": {},
   "outputs": [
    {
     "data": {
      "text/plain": [
       "6*x**5 - 1"
      ]
     },
     "execution_count": 3,
     "metadata": {},
     "output_type": "execute_result"
    }
   ],
   "source": [
    "diff(f(x), x)"
   ]
  },
  {
   "cell_type": "code",
   "execution_count": 4,
   "metadata": {},
   "outputs": [],
   "source": [
    "def fprime(x):\n",
    "    return 6*x**5 - 1"
   ]
  },
  {
   "cell_type": "code",
   "execution_count": 14,
   "metadata": {},
   "outputs": [],
   "source": [
    "def bisection(a, b, tol, numIter):\n",
    "    iterr = 1\n",
    "    fa = f(a)\n",
    "    while iterr < numIter:\n",
    "        p = (b - a) / 2 + a\n",
    "        fp = f(p)\n",
    "        print('iterr = %d, a = %.5f, b = %.5f, p = %.5f, f(p) = %.5f'%(iterr, a, b, p, fp))\n",
    "        if (fp == 0 or abs(fp) < tol ): \n",
    "        #different tolerance y condition x condition (they can differ a lot)\n",
    "        #if (fp == 0 or (b - a)/2 < tol):\n",
    "            break\n",
    "        iterr = iterr + 1\n",
    "        if (fp * fa < 0):\n",
    "            b = p\n",
    "            fb = fp\n",
    "        else:\n",
    "            a = p\n",
    "            fa = fp\n",
    "    return p, fp"
   ]
  },
  {
   "cell_type": "code",
   "execution_count": 15,
   "metadata": {},
   "outputs": [],
   "source": [
    "def Newton (initialPoint, tol, numIter):\n",
    "    iterr = 1\n",
    "    while iterr < numIter:\n",
    "        p = initialPoint - (f(initialPoint) / fprime(initialPoint))\n",
    "        \n",
    "        print('iterr = %d, p_0 = %.5f, p = %.5f'%(iterr, initialPoint, p))\n",
    "\n",
    "        #if (abs(p - initialPoint) < tol):\n",
    "        if (abs(p)) < tol:\n",
    "            break\n",
    "        iterr = iterr + 1\n",
    "        initialPoint = p\n",
    "        \n",
    "    return p"
   ]
  },
  {
   "cell_type": "code",
   "execution_count": 16,
   "metadata": {},
   "outputs": [],
   "source": [
    "def secant (p0, p1, tol, numIter):\n",
    "    iterr = 2 #p0, p1\n",
    "    q0 = f(p0)\n",
    "    q1 = f(p1)\n",
    "    while iterr < numIter:\n",
    "        \n",
    "        p = p1 -  q1 *(p1 - p0)/(q1 - q0)\n",
    "        \n",
    "        print('iterr = %d, p_%d = %.5f, p_%d = %.5f'%(iterr, iterr - 2, p0, iterr - 1, p1))\n",
    "\n",
    "        #if (abs(p - p1) < tol):\n",
    "        if(abs(p)) < tol:\n",
    "            break\n",
    "        iterr = iterr + 1\n",
    "        p0 = p1\n",
    "        q0 = q1\n",
    "        p1 = p\n",
    "        q1 = f(p)\n",
    "    return p"
   ]
  },
  {
   "cell_type": "code",
   "execution_count": 19,
   "metadata": {},
   "outputs": [
    {
     "name": "stdout",
     "output_type": "stream",
     "text": [
      "iterr = 1, a = 0.80000, b = 1.00000, p = 0.90000, f(p) = 0.63144\n",
      "iterr = 2, a = 0.90000, b = 1.00000, p = 0.95000, f(p) = 0.78509\n",
      "iterr = 3, a = 0.95000, b = 1.00000, p = 0.97500, f(p) = 0.88407\n",
      "iterr = 4, a = 0.97500, b = 1.00000, p = 0.98750, f(p) = 0.93981\n",
      "iterr = 5, a = 0.98750, b = 1.00000, p = 0.99375, f(p) = 0.96933\n",
      "iterr = 6, a = 0.99375, b = 1.00000, p = 0.99687, f(p) = 0.98452\n",
      "iterr = 7, a = 0.99687, b = 1.00000, p = 0.99844, f(p) = 0.99222\n",
      "iterr = 8, a = 0.99844, b = 1.00000, p = 0.99922, f(p) = 0.99610\n",
      "iterr = 9, a = 0.99922, b = 1.00000, p = 0.99961, f(p) = 0.99805\n",
      "iterr = 10, a = 0.99961, b = 1.00000, p = 0.99980, f(p) = 0.99902\n",
      "iterr = 11, a = 0.99980, b = 1.00000, p = 0.99990, f(p) = 0.99951\n",
      "iterr = 12, a = 0.99990, b = 1.00000, p = 0.99995, f(p) = 0.99976\n",
      "iterr = 13, a = 0.99995, b = 1.00000, p = 0.99998, f(p) = 0.99988\n",
      "iterr = 14, a = 0.99998, b = 1.00000, p = 0.99999, f(p) = 0.99994\n",
      "iterr = 15, a = 0.99999, b = 1.00000, p = 0.99999, f(p) = 0.99997\n",
      "iterr = 16, a = 0.99999, b = 1.00000, p = 1.00000, f(p) = 0.99998\n",
      "iterr = 17, a = 1.00000, b = 1.00000, p = 1.00000, f(p) = 0.99999\n",
      "iterr = 18, a = 1.00000, b = 1.00000, p = 1.00000, f(p) = 1.00000\n",
      "iterr = 19, a = 1.00000, b = 1.00000, p = 1.00000, f(p) = 1.00000\n",
      "iterr = 20, a = 1.00000, b = 1.00000, p = 1.00000, f(p) = 1.00000\n",
      "iterr = 21, a = 1.00000, b = 1.00000, p = 1.00000, f(p) = 1.00000\n",
      "iterr = 22, a = 1.00000, b = 1.00000, p = 1.00000, f(p) = 1.00000\n",
      "iterr = 23, a = 1.00000, b = 1.00000, p = 1.00000, f(p) = 1.00000\n",
      "iterr = 24, a = 1.00000, b = 1.00000, p = 1.00000, f(p) = 1.00000\n",
      "iterr = 25, a = 1.00000, b = 1.00000, p = 1.00000, f(p) = 1.00000\n",
      "iterr = 26, a = 1.00000, b = 1.00000, p = 1.00000, f(p) = 1.00000\n",
      "iterr = 27, a = 1.00000, b = 1.00000, p = 1.00000, f(p) = 1.00000\n",
      "iterr = 28, a = 1.00000, b = 1.00000, p = 1.00000, f(p) = 1.00000\n",
      "iterr = 29, a = 1.00000, b = 1.00000, p = 1.00000, f(p) = 1.00000\n",
      "iterr = 30, a = 1.00000, b = 1.00000, p = 1.00000, f(p) = 1.00000\n",
      "iterr = 31, a = 1.00000, b = 1.00000, p = 1.00000, f(p) = 1.00000\n",
      "iterr = 32, a = 1.00000, b = 1.00000, p = 1.00000, f(p) = 1.00000\n",
      "iterr = 33, a = 1.00000, b = 1.00000, p = 1.00000, f(p) = 1.00000\n",
      "iterr = 34, a = 1.00000, b = 1.00000, p = 1.00000, f(p) = 1.00000\n",
      "iterr = 35, a = 1.00000, b = 1.00000, p = 1.00000, f(p) = 1.00000\n",
      "iterr = 36, a = 1.00000, b = 1.00000, p = 1.00000, f(p) = 1.00000\n",
      "iterr = 37, a = 1.00000, b = 1.00000, p = 1.00000, f(p) = 1.00000\n",
      "iterr = 38, a = 1.00000, b = 1.00000, p = 1.00000, f(p) = 1.00000\n",
      "iterr = 39, a = 1.00000, b = 1.00000, p = 1.00000, f(p) = 1.00000\n",
      "iterr = 40, a = 1.00000, b = 1.00000, p = 1.00000, f(p) = 1.00000\n",
      "iterr = 41, a = 1.00000, b = 1.00000, p = 1.00000, f(p) = 1.00000\n",
      "iterr = 42, a = 1.00000, b = 1.00000, p = 1.00000, f(p) = 1.00000\n",
      "iterr = 43, a = 1.00000, b = 1.00000, p = 1.00000, f(p) = 1.00000\n",
      "iterr = 44, a = 1.00000, b = 1.00000, p = 1.00000, f(p) = 1.00000\n",
      "iterr = 45, a = 1.00000, b = 1.00000, p = 1.00000, f(p) = 1.00000\n",
      "iterr = 46, a = 1.00000, b = 1.00000, p = 1.00000, f(p) = 1.00000\n",
      "iterr = 47, a = 1.00000, b = 1.00000, p = 1.00000, f(p) = 1.00000\n",
      "iterr = 48, a = 1.00000, b = 1.00000, p = 1.00000, f(p) = 1.00000\n",
      "iterr = 49, a = 1.00000, b = 1.00000, p = 1.00000, f(p) = 1.00000\n"
     ]
    }
   ],
   "source": [
    "b1, b2 = bisection(0.8, 1.0, 0.001, 50)"
   ]
  },
  {
   "cell_type": "code",
   "execution_count": 11,
   "metadata": {},
   "outputs": [
    {
     "name": "stdout",
     "output_type": "stream",
     "text": [
      "iterr = 1, p_0 = 0.30000, p = 1.01110\n",
      "iterr = 2, p_0 = 1.01110, p = 0.81310\n",
      "iterr = 3, p_0 = 0.81310, p = 0.39288\n",
      "iterr = 4, p_0 = 0.39288, p = 1.04002\n",
      "iterr = 5, p_0 = 1.04002, p = 0.84553\n",
      "iterr = 6, p_0 = 0.84553, p = 0.51917\n",
      "iterr = 7, p_0 = 0.51917, p = 1.16595\n",
      "iterr = 8, p_0 = 1.16595, p = 0.96925\n",
      "iterr = 9, p_0 = 0.96925, p = 0.76118\n",
      "iterr = 10, p_0 = 0.76118, p = -0.05159\n",
      "iterr = 11, p_0 = -0.05159, p = 1.00000\n",
      "iterr = 12, p_0 = 1.00000, p = 0.80000\n",
      "iterr = 13, p_0 = 0.80000, p = 0.32161\n",
      "iterr = 14, p_0 = 0.32161, p = 1.01543\n",
      "iterr = 15, p_0 = 1.01543, p = 0.81811\n",
      "iterr = 16, p_0 = 0.81811, p = 0.41633\n",
      "iterr = 17, p_0 = 0.41633, p = 1.05299\n",
      "iterr = 18, p_0 = 1.05299, p = 0.85938\n",
      "iterr = 19, p_0 = 0.85938, p = 0.55955\n",
      "iterr = 20, p_0 = 0.55955, p = 1.26181\n",
      "iterr = 21, p_0 = 1.26181, p = 1.05434\n",
      "iterr = 22, p_0 = 1.05434, p = 0.86081\n",
      "iterr = 23, p_0 = 0.86081, p = 0.56337\n",
      "iterr = 24, p_0 = 0.56337, p = 1.27391\n",
      "iterr = 25, p_0 = 1.27391, p = 1.06481\n",
      "iterr = 26, p_0 = 1.06481, p = 0.87173\n",
      "iterr = 27, p_0 = 0.87173, p = 0.59103\n",
      "iterr = 28, p_0 = 0.59103, p = 1.38709\n",
      "iterr = 29, p_0 = 1.38709, p = 1.16114\n",
      "iterr = 30, p_0 = 1.16114, p = 0.96484\n",
      "iterr = 31, p_0 = 0.96484, p = 0.75525\n",
      "iterr = 32, p_0 = 0.75525, p = -0.15192\n",
      "iterr = 33, p_0 = -0.15192, p = 0.99945\n",
      "iterr = 34, p_0 = 0.99945, p = 0.79934\n",
      "iterr = 35, p_0 = 0.79934, p = 0.31761\n",
      "iterr = 36, p_0 = 0.31761, p = 1.01454\n",
      "iterr = 37, p_0 = 1.01454, p = 0.81709\n",
      "iterr = 38, p_0 = 0.81709, p = 0.41168\n",
      "iterr = 39, p_0 = 0.41168, p = 1.05017\n",
      "iterr = 40, p_0 = 1.05017, p = 0.85641\n",
      "iterr = 41, p_0 = 0.85641, p = 0.55136\n",
      "iterr = 42, p_0 = 0.55136, p = 1.23803\n",
      "iterr = 43, p_0 = 1.23803, p = 1.03362\n",
      "iterr = 44, p_0 = 1.03362, p = 0.83854\n",
      "iterr = 45, p_0 = 0.83854, p = 0.49628\n",
      "iterr = 46, p_0 = 0.49628, p = 1.12927\n",
      "iterr = 47, p_0 = 1.12927, p = 0.93518\n",
      "iterr = 48, p_0 = 0.93518, p = 0.71227\n",
      "iterr = 49, p_0 = 0.71227, p = -3.47295\n"
     ]
    }
   ],
   "source": [
    "n = Newton(0.3, 0.00000001, 50)"
   ]
  },
  {
   "cell_type": "code",
   "execution_count": 10,
   "metadata": {},
   "outputs": [
    {
     "name": "stdout",
     "output_type": "stream",
     "text": [
      "iterr = 2, p_0 = 0.20000, p_1 = 0.40000\n",
      "iterr = 3, p_1 = 0.40000, p_2 = 1.01653\n",
      "iterr = 4, p_2 = 1.01653, p_3 = -0.37155\n",
      "iterr = 5, p_3 = -0.37155, p_4 = 6.26618\n",
      "iterr = 6, p_4 = 6.26618, p_5 = -0.37170\n",
      "iterr = 7, p_5 = -0.37170, p_6 = -0.37185\n",
      "iterr = 8, p_6 = -0.37185, p_7 = 0.94646\n",
      "iterr = 9, p_7 = 0.94646, p_8 = 2.63750\n",
      "iterr = 10, p_8 = 2.63750, p_9 = 0.94256\n",
      "iterr = 11, p_9 = 0.94256, p_10 = 0.93871\n",
      "iterr = 12, p_10 = 0.93871, p_11 = 0.72062\n",
      "iterr = 13, p_11 = 0.72062, p_12 = 0.44011\n",
      "iterr = 14, p_12 = 0.44011, p_13 = 1.51695\n",
      "iterr = 15, p_13 = 1.51695, p_14 = 0.38509\n",
      "iterr = 16, p_14 = 0.38509, p_15 = 0.32177\n",
      "iterr = 17, p_15 = 0.32177, p_16 = 1.02500\n",
      "iterr = 18, p_16 = 1.02500, p_17 = -0.72731\n",
      "iterr = 19, p_17 = -0.72731, p_18 = 3.70979\n",
      "iterr = 20, p_18 = 3.70979, p_19 = -0.73050\n",
      "iterr = 21, p_19 = -0.73050, p_20 = -0.73372\n",
      "iterr = 22, p_20 = -0.73372, p_21 = 0.10173\n",
      "iterr = 23, p_21 = 0.10173, p_22 = 0.85865\n",
      "iterr = 24, p_22 = 0.85865, p_23 = 2.01084\n",
      "iterr = 25, p_23 = 2.01084, p_24 = 0.84898\n",
      "iterr = 26, p_24 = 0.84898, p_25 = 0.83952\n",
      "iterr = 27, p_25 = 0.83952, p_26 = 0.51507\n",
      "iterr = 28, p_26 = 0.51507, p_27 = -22.91689\n",
      "iterr = 29, p_27 = -22.91689, p_28 = 0.51507\n",
      "iterr = 30, p_28 = 0.51507, p_29 = 0.51507\n",
      "iterr = 31, p_29 = 0.51507, p_30 = 1.15866\n",
      "iterr = 32, p_30 = 1.15866, p_31 = 0.33062\n",
      "iterr = 33, p_31 = 0.33062, p_32 = -0.01862\n",
      "iterr = 34, p_32 = -0.01862, p_33 = 1.00382\n",
      "iterr = 35, p_33 = 1.00382, p_34 = -1439.27466\n",
      "iterr = 36, p_34 = -1439.27466, p_35 = 1.00382\n"
     ]
    }
   ],
   "source": [
    "s = secant (0.2, 0.4, 0.00000001, 50)"
   ]
  },
  {
   "cell_type": "code",
   "execution_count": 8,
   "metadata": {},
   "outputs": [
    {
     "data": {
      "image/png": "[encoded data removed]",
      "text/plain": [
       "<matplotlib.figure.Figure at 0x10bc9a630>"
      ]
     },
     "metadata": {},
     "output_type": "display_data"
    },
    {
     "data": {
      "text/plain": [
       "<sympy.plotting.plot.Plot at 0x1070fcf98>"
      ]
     },
     "execution_count": 8,
     "metadata": {},
     "output_type": "execute_result"
    }
   ],
   "source": [
    "plot(f(x), (x, 0, 1))"
   ]
  },
  {
   "cell_type": "code",
   "execution_count": 12,
   "metadata": {},
   "outputs": [
    {
     "data": {
      "image/png": "[encoded data removed]",
      "text/plain": [
       "<matplotlib.figure.Figure at 0x111909048>"
      ]
     },
     "metadata": {},
     "output_type": "display_data"
    },
    {
     "data": {
      "text/plain": [
       "<sympy.plotting.plot.Plot at 0x108b94a58>"
      ]
     },
     "execution_count": 12,
     "metadata": {},
     "output_type": "execute_result"
    }
   ],
   "source": [
    "plot(fprime(x), (x, 0, 1))"
   ]
  },
  {
   "cell_type": "code",
   "execution_count": null,
   "metadata": {},
   "outputs": [],
   "source": []
  }
 ],
 "metadata": {
  "kernelspec": {
   "display_name": "Python 3",
   "language": "python",
   "name": "python3"
  },
  "language_info": {
   "codemirror_mode": {
    "name": "ipython",
    "version": 3
   },
   "file_extension": ".py",
   "mimetype": "text/x-python",
   "name": "python",
   "nbconvert_exporter": "python",
   "pygments_lexer": "ipython3",
   "version": "3.6.4"
  }
 },
 "nbformat": 4,
 "nbformat_minor": 2
}
