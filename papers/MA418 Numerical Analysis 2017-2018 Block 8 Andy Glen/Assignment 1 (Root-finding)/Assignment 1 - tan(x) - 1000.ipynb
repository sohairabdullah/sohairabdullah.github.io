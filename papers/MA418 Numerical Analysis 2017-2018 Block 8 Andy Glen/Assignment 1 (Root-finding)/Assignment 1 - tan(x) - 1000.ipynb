{
 "cells": [
  {
   "cell_type": "code",
   "execution_count": 1,
   "metadata": {},
   "outputs": [],
   "source": [
    "from sympy import*\n",
    "%matplotlib inline\n",
    "from __future__ import division\n",
    "x, y, z, t = symbols('x y z t')\n",
    "k, m, n = symbols('k m n', integer = True)\n",
    "f, g, h = symbols('f g h', cls = Function)\n",
    "import math"
   ]
  },
  {
   "cell_type": "code",
   "execution_count": 2,
   "metadata": {},
   "outputs": [],
   "source": [
    "def f(x):\n",
    "    return tan(x) - 1000"
   ]
  },
  {
   "cell_type": "code",
   "execution_count": 3,
   "metadata": {},
   "outputs": [
    {
     "data": {
      "text/plain": [
       "tan(x)**2 + 1"
      ]
     },
     "execution_count": 3,
     "metadata": {},
     "output_type": "execute_result"
    }
   ],
   "source": [
    "diff(f(x), x)"
   ]
  },
  {
   "cell_type": "code",
   "execution_count": 4,
   "metadata": {},
   "outputs": [],
   "source": [
    "def fprime(x):\n",
    "    return tan(x)**2 + 1"
   ]
  },
  {
   "cell_type": "code",
   "execution_count": 5,
   "metadata": {},
   "outputs": [],
   "source": [
    "def bisection(a, b, tol, numIter):\n",
    "    iterr = 1\n",
    "    fa = f(a)\n",
    "    while iterr < numIter:\n",
    "        p = (b - a) / 2 + a\n",
    "        fp = f(p)\n",
    "        print('iterr = %d, a = %.5f, b = %.5f, p = %.5f, f(p) = %.5f'%(iterr, a, b, p, fp))\n",
    "        if (fp == 0 or abs(fp) < tol ): \n",
    "        #different tolerance y condition x condition (they can differ a lot)\n",
    "        #if (fp == 0 or (b - a)/2 < tol):\n",
    "            break\n",
    "        iterr = iterr + 1\n",
    "        if (fp * fa < 0):\n",
    "            b = p\n",
    "            fb = fp\n",
    "        else:\n",
    "            a = p\n",
    "            fa = fp\n",
    "    return p, fp"
   ]
  },
  {
   "cell_type": "code",
   "execution_count": 6,
   "metadata": {},
   "outputs": [],
   "source": [
    "def Newton (initialPoint, tol, numIter):\n",
    "    iterr = 1\n",
    "    while iterr < numIter:\n",
    "        p = initialPoint - (f(initialPoint) / fprime(initialPoint))\n",
    "        \n",
    "        print('iterr = %d, p_0 = %.5f, p = %.5f'%(iterr, initialPoint, p))\n",
    "\n",
    "        #if (abs(p - initialPoint) < tol):\n",
    "        if (abs(f(p)) < tol):\n",
    "            break\n",
    "        iterr = iterr + 1\n",
    "        initialPoint = p\n",
    "        \n",
    "    return p"
   ]
  },
  {
   "cell_type": "code",
   "execution_count": 7,
   "metadata": {},
   "outputs": [],
   "source": [
    "def secant (p0, p1, tol, numIter):\n",
    "    iterr = 2 #p0, p1\n",
    "    q0 = f(p0)\n",
    "    q1 = f(p1)\n",
    "    while iterr < numIter:\n",
    "        \n",
    "        p = p1 -  q1 *(p1 - p0)/(q1 - q0)\n",
    "        \n",
    "        print('iterr = %d, p_%d = %.5f, p_%d = %.5f'%(iterr, iterr - 2, p0, iterr - 1, p1))\n",
    "\n",
    "        #if (abs(p - p1) < tol):\n",
    "        if (abs(f(p)) < tol):\n",
    "            break\n",
    "        iterr = iterr + 1\n",
    "        p0 = p1\n",
    "        q0 = q1\n",
    "        p1 = p\n",
    "        q1 = f(p)\n",
    "    return p"
   ]
  },
  {
   "cell_type": "code",
   "execution_count": 65,
   "metadata": {},
   "outputs": [
    {
     "name": "stdout",
     "output_type": "stream",
     "text": [
      "iterr = 1, a = 1.50000, b = 1.57079, p = 1.53540, f(p) = -971.76228\n",
      "iterr = 2, a = 1.53540, b = 1.57079, p = 1.55310, f(p) = -943.50897\n",
      "iterr = 3, a = 1.55310, b = 1.57079, p = 1.56195, f(p) = -887.01756\n",
      "iterr = 4, a = 1.56195, b = 1.57079, p = 1.56637, f(p) = -774.06456\n",
      "iterr = 5, a = 1.56637, b = 1.57079, p = 1.56858, f(p) = -548.26233\n",
      "iterr = 6, a = 1.56858, b = 1.57079, p = 1.56969, f(p) = -97.06475\n",
      "iterr = 7, a = 1.56969, b = 1.57079, p = 1.57024, f(p) = 803.71019\n",
      "iterr = 8, a = 1.56969, b = 1.57024, p = 1.56997, f(p) = 203.43331\n",
      "iterr = 9, a = 1.56969, b = 1.56997, p = 1.56983, f(p) = 31.74952\n",
      "iterr = 10, a = 1.56969, b = 1.56983, p = 1.56976, f(p) = -36.94593\n",
      "iterr = 11, a = 1.56976, b = 1.56983, p = 1.56979, f(p) = -3.78104\n",
      "iterr = 12, a = 1.56979, b = 1.56983, p = 1.56981, f(p) = 13.67299\n",
      "iterr = 13, a = 1.56979, b = 1.56981, p = 1.56980, f(p) = 4.87019\n",
      "iterr = 14, a = 1.56979, b = 1.56980, p = 1.56980, f(p) = 0.52587\n",
      "iterr = 15, a = 1.56979, b = 1.56980, p = 1.56979, f(p) = -1.63223\n",
      "iterr = 16, a = 1.56979, b = 1.56980, p = 1.56980, f(p) = -0.55435\n",
      "iterr = 17, a = 1.56980, b = 1.56980, p = 1.56980, f(p) = -0.01453\n",
      "iterr = 18, a = 1.56980, b = 1.56980, p = 1.56980, f(p) = 0.25560\n",
      "iterr = 19, a = 1.56980, b = 1.56980, p = 1.56980, f(p) = 0.12052\n",
      "iterr = 20, a = 1.56980, b = 1.56980, p = 1.56980, f(p) = 0.05299\n",
      "iterr = 21, a = 1.56980, b = 1.56980, p = 1.56980, f(p) = 0.01923\n",
      "iterr = 22, a = 1.56980, b = 1.56980, p = 1.56980, f(p) = 0.00235\n",
      "iterr = 23, a = 1.56980, b = 1.56980, p = 1.56980, f(p) = -0.00609\n",
      "iterr = 24, a = 1.56980, b = 1.56980, p = 1.56980, f(p) = -0.00187\n",
      "iterr = 25, a = 1.56980, b = 1.56980, p = 1.56980, f(p) = 0.00024\n",
      "iterr = 26, a = 1.56980, b = 1.56980, p = 1.56980, f(p) = -0.00081\n",
      "iterr = 27, a = 1.56980, b = 1.56980, p = 1.56980, f(p) = -0.00029\n",
      "iterr = 28, a = 1.56980, b = 1.56980, p = 1.56980, f(p) = -0.00002\n",
      "iterr = 29, a = 1.56980, b = 1.56980, p = 1.56980, f(p) = 0.00011\n",
      "iterr = 30, a = 1.56980, b = 1.56980, p = 1.56980, f(p) = 0.00004\n",
      "iterr = 31, a = 1.56980, b = 1.56980, p = 1.56980, f(p) = 0.00001\n"
     ]
    }
   ],
   "source": [
    "b1, b2 = bisection(1.5, 3.14159/2, 0.00001, 50)"
   ]
  },
  {
   "cell_type": "code",
   "execution_count": 63,
   "metadata": {},
   "outputs": [
    {
     "name": "stdout",
     "output_type": "stream",
     "text": [
      "iterr = 1, p_0 = 1.56880, p = 1.57080\n",
      "iterr = 2, p_0 = 1.57080, p = 1.57080\n",
      "iterr = 3, p_0 = 1.57080, p = 1.57080\n",
      "iterr = 4, p_0 = 1.57080, p = 1.57080\n",
      "iterr = 5, p_0 = 1.57080, p = 1.57080\n",
      "iterr = 6, p_0 = 1.57080, p = 1.57079\n",
      "iterr = 7, p_0 = 1.57079, p = 1.57079\n",
      "iterr = 8, p_0 = 1.57079, p = 1.57079\n",
      "iterr = 9, p_0 = 1.57079, p = 1.57078\n",
      "iterr = 10, p_0 = 1.57078, p = 1.57077\n",
      "iterr = 11, p_0 = 1.57077, p = 1.57075\n",
      "iterr = 12, p_0 = 1.57075, p = 1.57071\n",
      "iterr = 13, p_0 = 1.57071, p = 1.57062\n",
      "iterr = 14, p_0 = 1.57062, p = 1.57048\n",
      "iterr = 15, p_0 = 1.57048, p = 1.57026\n",
      "iterr = 16, p_0 = 1.57026, p = 1.57001\n",
      "iterr = 17, p_0 = 1.57001, p = 1.56984\n",
      "iterr = 18, p_0 = 1.56984, p = 1.56980\n",
      "iterr = 19, p_0 = 1.56980, p = 1.56980\n",
      "iterr = 20, p_0 = 1.56980, p = 1.56980\n"
     ]
    }
   ],
   "source": [
    "n = Newton(3.1375927/2, 0.00001, 50)"
   ]
  },
  {
   "cell_type": "code",
   "execution_count": 64,
   "metadata": {},
   "outputs": [
    {
     "name": "stdout",
     "output_type": "stream",
     "text": [
      "iterr = 2, p_0 = 1.56879, p_1 = 1.57000\n",
      "iterr = 3, p_1 = 1.57000, p_2 = 1.56959\n",
      "iterr = 4, p_2 = 1.56959, p_3 = 1.56975\n",
      "iterr = 5, p_3 = 1.56975, p_4 = 1.56980\n",
      "iterr = 6, p_4 = 1.56980, p_5 = 1.56980\n",
      "iterr = 7, p_5 = 1.56980, p_6 = 1.56980\n"
     ]
    }
   ],
   "source": [
    "s = secant (3.137589/2, 3.14/2, 0.00001, 50)"
   ]
  },
  {
   "cell_type": "code",
   "execution_count": null,
   "metadata": {},
   "outputs": [],
   "source": []
  }
 ],
 "metadata": {
  "kernelspec": {
   "display_name": "Python 3",
   "language": "python",
   "name": "python3"
  },
  "language_info": {
   "codemirror_mode": {
    "name": "ipython",
    "version": 3
   },
   "file_extension": ".py",
   "mimetype": "text/x-python",
   "name": "python",
   "nbconvert_exporter": "python",
   "pygments_lexer": "ipython3",
   "version": "3.6.4"
  }
 },
 "nbformat": 4,
 "nbformat_minor": 2
}
