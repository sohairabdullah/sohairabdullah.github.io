{
 "cells": [
  {
   "cell_type": "code",
   "execution_count": 1,
   "metadata": {},
   "outputs": [],
   "source": [
    "from sympy import*\n",
    "%matplotlib inline\n",
    "from __future__ import division\n",
    "x, y, z, t = symbols('x y z t')\n",
    "k, m, n = symbols('k m n', integer = True)\n",
    "f, g, h = symbols('f g h', cls = Function)\n",
    "import math"
   ]
  },
  {
   "cell_type": "code",
   "execution_count": 26,
   "metadata": {},
   "outputs": [],
   "source": [
    "def f(x):\n",
    "        return 117 * x**2 - 17*x**3 - 2*x**4 + 4*x**5 - x**6 - 3*x**7 + x**8 - 348*x + 369"
   ]
  },
  {
   "cell_type": "code",
   "execution_count": 8,
   "metadata": {},
   "outputs": [],
   "source": [
    "def bisection(a, b, tol, numIter):\n",
    "    iterr = 1\n",
    "    fa = f(a)\n",
    "    while iterr < numIter:\n",
    "        p = (b - a) / 2 + a\n",
    "        fp = f(p)\n",
    "        print('iterr = %d, a = %.5f, b = %.5f, p = %.5f, f(p) = %.5f'%(iterr, a, b, p, fp))\n",
    "        if (fp == 0 or abs(fp) < tol ): \n",
    "        #different tolerance y condition x condition (they can differ a lot)\n",
    "        #if (fp == 0 or (b - a)/2 < tol):\n",
    "            break\n",
    "        iterr = iterr + 1\n",
    "        if (fp * fa < 0):\n",
    "            b = p\n",
    "            fb = fp\n",
    "        else:\n",
    "            a = p\n",
    "            fa = fp\n",
    "    return p, fp"
   ]
  },
  {
   "cell_type": "code",
   "execution_count": 9,
   "metadata": {},
   "outputs": [],
   "source": [
    "def secant (p0, p1, tol, numIter):\n",
    "    iterr = 2 #p0, p1\n",
    "    q0 = f(p0)\n",
    "    q1 = f(p1)\n",
    "    while iterr < numIter:\n",
    "        \n",
    "        p = p1 -  q1 *(p1 - p0)/(q1 - q0)\n",
    "        \n",
    "        print('iterr = %d, p_%d = %.5f, p_%d = %.5f'%(iterr, iterr - 2, p0, iterr - 1, p1))\n",
    "\n",
    "        #if (abs(p - p1) < tol):\n",
    "        if (f(p) == 0 or abs(f(p)) < tol ): \n",
    "            break\n",
    "        iterr = iterr + 1\n",
    "        p0 = p1\n",
    "        q0 = q1\n",
    "        p1 = p\n",
    "        q1 = f(p)\n",
    "    return p"
   ]
  },
  {
   "cell_type": "code",
   "execution_count": 21,
   "metadata": {},
   "outputs": [
    {
     "name": "stdout",
     "output_type": "stream",
     "text": [
      "iterr = 1, a = 2.50000, b = 3.50000, p = 3.00000, f(p) = 0.00000\n"
     ]
    }
   ],
   "source": [
    "b1, b2 = bisection(2.5, 3.5, 0.001, 100)"
   ]
  },
  {
   "cell_type": "code",
   "execution_count": 28,
   "metadata": {},
   "outputs": [
    {
     "name": "stdout",
     "output_type": "stream",
     "text": [
      "iterr = 2, p_0 = 2.50000, p_1 = 3.50000\n",
      "iterr = 3, p_1 = 3.50000, p_2 = 2.58231\n",
      "iterr = 4, p_2 = 2.58231, p_3 = 2.66189\n",
      "iterr = 5, p_3 = 2.66189, p_4 = -6.37071\n",
      "iterr = 6, p_4 = -6.37071, p_5 = 2.66121\n",
      "iterr = 7, p_5 = 2.66121, p_6 = 2.66054\n",
      "iterr = 8, p_6 = 2.66054, p_7 = 7.00370\n",
      "iterr = 9, p_7 = 7.00370, p_8 = 2.66092\n",
      "iterr = 10, p_8 = 2.66092, p_9 = 2.66131\n",
      "iterr = 11, p_9 = 2.66131, p_10 = 6.95862\n",
      "iterr = 12, p_10 = 6.95862, p_11 = 2.66172\n",
      "iterr = 13, p_11 = 2.66172, p_12 = 2.66213\n",
      "iterr = 14, p_12 = 2.66213, p_13 = 6.81675\n",
      "iterr = 15, p_13 = 6.81675, p_14 = 2.66260\n",
      "iterr = 16, p_14 = 2.66260, p_15 = 2.66307\n",
      "iterr = 17, p_15 = 2.66307, p_16 = 6.66656\n",
      "iterr = 18, p_16 = 6.66656, p_17 = 2.66362\n",
      "iterr = 19, p_17 = 2.66362, p_18 = 2.66417\n",
      "iterr = 20, p_18 = 2.66417, p_19 = 6.50347\n",
      "iterr = 21, p_19 = 6.50347, p_20 = 2.66483\n",
      "iterr = 22, p_20 = 2.66483, p_21 = 2.66549\n",
      "iterr = 23, p_21 = 2.66549, p_22 = 6.32517\n",
      "iterr = 24, p_22 = 6.32517, p_23 = 2.66630\n",
      "iterr = 25, p_23 = 2.66630, p_24 = 2.66710\n",
      "iterr = 26, p_24 = 2.66710, p_25 = 6.12857\n",
      "iterr = 27, p_25 = 6.12857, p_26 = 2.66812\n",
      "iterr = 28, p_26 = 2.66812, p_27 = 2.66913\n",
      "iterr = 29, p_27 = 2.66913, p_28 = 5.90966\n",
      "iterr = 30, p_28 = 5.90966, p_29 = 2.67044\n",
      "iterr = 31, p_29 = 2.67044, p_30 = 2.67175\n",
      "iterr = 32, p_30 = 2.67175, p_31 = 5.66310\n",
      "iterr = 33, p_31 = 5.66310, p_32 = 2.67354\n",
      "iterr = 34, p_32 = 2.67354, p_33 = 2.67533\n",
      "iterr = 35, p_33 = 2.67533, p_34 = 5.38177\n",
      "iterr = 36, p_34 = 5.38177, p_35 = 2.67791\n",
      "iterr = 37, p_35 = 2.67791, p_36 = 2.68049\n",
      "iterr = 38, p_36 = 2.68049, p_37 = 5.05628\n",
      "iterr = 39, p_37 = 5.05628, p_38 = 2.68456\n",
      "iterr = 40, p_38 = 2.68456, p_39 = 2.68862\n",
      "iterr = 41, p_39 = 2.68862, p_40 = 4.67513\n",
      "iterr = 42, p_40 = 4.67513, p_41 = 2.69584\n",
      "iterr = 43, p_41 = 2.69584, p_42 = 2.70301\n",
      "iterr = 44, p_42 = 2.70301, p_43 = 4.22822\n",
      "iterr = 45, p_43 = 4.22822, p_44 = 2.71816\n",
      "iterr = 46, p_44 = 2.71816, p_45 = 2.73298\n",
      "iterr = 47, p_45 = 2.73298, p_46 = 3.72419\n",
      "iterr = 48, p_46 = 3.72419, p_47 = 2.77173\n",
      "iterr = 49, p_47 = 2.77173, p_48 = 2.80702\n",
      "iterr = 50, p_48 = 2.80702, p_49 = 3.24749\n",
      "iterr = 51, p_49 = 3.24749, p_50 = 2.90217\n",
      "iterr = 52, p_50 = 2.90217, p_51 = 2.95420\n",
      "iterr = 53, p_51 = 2.95420, p_52 = 3.01324\n",
      "iterr = 54, p_52 = 3.01324, p_53 = 2.99849\n",
      "iterr = 55, p_53 = 2.99849, p_54 = 2.99995\n",
      "iterr = 56, p_54 = 2.99995, p_55 = 3.00000\n"
     ]
    }
   ],
   "source": [
    "s = secant (2.5, 3.5, 0.000001, 1000)"
   ]
  },
  {
   "cell_type": "code",
   "execution_count": 27,
   "metadata": {},
   "outputs": [
    {
     "data": {
      "image/png": "[encoded data removed]",
      "text/plain": [
       "<matplotlib.figure.Figure at 0x118437f98>"
      ]
     },
     "metadata": {},
     "output_type": "display_data"
    },
    {
     "data": {
      "text/plain": [
       "<sympy.plotting.plot.Plot at 0x118437dd8>"
      ]
     },
     "execution_count": 27,
     "metadata": {},
     "output_type": "execute_result"
    }
   ],
   "source": [
    "plot(f(x), (x, 2.5, 3.5))"
   ]
  },
  {
   "cell_type": "code",
   "execution_count": 6,
   "metadata": {},
   "outputs": [
    {
     "data": {
      "text/plain": [
       "15632"
      ]
     },
     "execution_count": 6,
     "metadata": {},
     "output_type": "execute_result"
    }
   ],
   "source": [
    "f(4)"
   ]
  },
  {
   "cell_type": "code",
   "execution_count": null,
   "metadata": {},
   "outputs": [],
   "source": []
  }
 ],
 "metadata": {
  "kernelspec": {
   "display_name": "Python 3",
   "language": "python",
   "name": "python3"
  },
  "language_info": {
   "codemirror_mode": {
    "name": "ipython",
    "version": 3
   },
   "file_extension": ".py",
   "mimetype": "text/x-python",
   "name": "python",
   "nbconvert_exporter": "python",
   "pygments_lexer": "ipython3",
   "version": "3.6.4"
  }
 },
 "nbformat": 4,
 "nbformat_minor": 2
}
