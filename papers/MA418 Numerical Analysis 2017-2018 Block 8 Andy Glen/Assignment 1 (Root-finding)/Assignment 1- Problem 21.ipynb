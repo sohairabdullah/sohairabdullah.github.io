{
 "cells": [
  {
   "cell_type": "code",
   "execution_count": 1,
   "metadata": {},
   "outputs": [],
   "source": [
    "from sympy import*\n",
    "%matplotlib inline\n",
    "from __future__ import division\n",
    "x, y, z, t = symbols('x y z t')\n",
    "k, m, n = symbols('k m n', integer = True)\n",
    "f, g, h = symbols('f g h', cls = Function)\n",
    "import math"
   ]
  },
  {
   "cell_type": "code",
   "execution_count": 2,
   "metadata": {},
   "outputs": [],
   "source": [
    "def f(x):\n",
    "    return (x + x**(0.5))*((20 - x) + (20 - x)**(0.5)) - 155.55"
   ]
  },
  {
   "cell_type": "code",
   "execution_count": 3,
   "metadata": {},
   "outputs": [
    {
     "data": {
      "text/plain": [
       "(0.5*x**(-0.5) + 1)*(-x + (-x + 20)**0.5 + 20) + (x**0.5 + x)*(-0.5*(-x + 20)**(-0.5) - 1)"
      ]
     },
     "execution_count": 3,
     "metadata": {},
     "output_type": "execute_result"
    }
   ],
   "source": [
    "diff(f(x), x)"
   ]
  },
  {
   "cell_type": "code",
   "execution_count": 4,
   "metadata": {},
   "outputs": [],
   "source": [
    "def fprime(x):\n",
    "    return (0.5*x**(-0.5) + 1)*(-x + (-x + 20)**0.5 + 20) + (x**0.5 + x)*(-0.5*(-x + 20)**(-0.5) - 1)"
   ]
  },
  {
   "cell_type": "code",
   "execution_count": 5,
   "metadata": {},
   "outputs": [],
   "source": [
    "def bisection(a, b, tol, numIter):\n",
    "    iterr = 1\n",
    "    fa = f(a)\n",
    "    while iterr < numIter:\n",
    "        p = (b - a) / 2 + a\n",
    "        fp = f(p)\n",
    "        print('iterr = %d, a = %.5f, b = %.5f, p = %.5f, f(p) = %.5f'%(iterr, a, b, p, fp))\n",
    "        #if (fp == 0 or abs(fp) < tol ): \n",
    "        #different tolerance y condition x condition (they can differ a lot)\n",
    "        if (fp == 0 or (b - a)/2 < tol):\n",
    "            break\n",
    "        iterr = iterr + 1\n",
    "        if (fp * fa < 0):\n",
    "            b = p\n",
    "            fb = fp\n",
    "        else:\n",
    "            a = p\n",
    "            fa = fp\n",
    "    return p, fp"
   ]
  },
  {
   "cell_type": "code",
   "execution_count": 6,
   "metadata": {},
   "outputs": [],
   "source": [
    "def Newton (initialPoint, tol, numIter):\n",
    "    iterr = 1\n",
    "    while iterr < numIter:\n",
    "        p = initialPoint - (f(initialPoint) / fprime(initialPoint))\n",
    "        \n",
    "        print('iterr = %d, p_0 = %.5f, p = %.5f'%(iterr, initialPoint, p))\n",
    "\n",
    "        #if (abs(p - initialPoint) < tol):\n",
    "        if (abs(f(p)) < tol):\n",
    "            break\n",
    "        iterr = iterr + 1\n",
    "        initialPoint = p\n",
    "        \n",
    "    return p"
   ]
  },
  {
   "cell_type": "code",
   "execution_count": 7,
   "metadata": {},
   "outputs": [],
   "source": [
    "def secant (p0, p1, tol, numIter):\n",
    "    iterr = 2 #p0, p1\n",
    "    q0 = f(p0)\n",
    "    q1 = f(p1)\n",
    "    while iterr < numIter:\n",
    "        \n",
    "        p = p1 -  q1 *(p1 - p0)/(q1 - q0)\n",
    "        \n",
    "        print('iterr = %d, p_%d = %.5f, p_%d = %.5f'%(iterr, iterr - 2, p0, iterr - 1, p1))\n",
    "\n",
    "        if (abs(p - p1) < tol):\n",
    "            break\n",
    "        iterr = iterr + 1\n",
    "        p0 = p1\n",
    "        q0 = q1\n",
    "        p1 = p\n",
    "        q1 = f(p)\n",
    "    return p"
   ]
  },
  {
   "cell_type": "code",
   "execution_count": 12,
   "metadata": {},
   "outputs": [
    {
     "name": "stdout",
     "output_type": "stream",
     "text": [
      "iterr = 1, a = 5.00000, b = 7.50000, p = 6.25000, f(p) = -2.79163\n",
      "iterr = 2, a = 6.25000, b = 7.50000, p = 6.87500, f(p) = 3.50465\n",
      "iterr = 3, a = 6.25000, b = 6.87500, p = 6.56250, f(p) = 0.50384\n",
      "iterr = 4, a = 6.25000, b = 6.56250, p = 6.40625, f(p) = -1.10690\n",
      "iterr = 5, a = 6.40625, b = 6.56250, p = 6.48438, f(p) = -0.29230\n",
      "iterr = 6, a = 6.48438, b = 6.56250, p = 6.52344, f(p) = 0.10808\n",
      "iterr = 7, a = 6.48438, b = 6.52344, p = 6.50391, f(p) = -0.09154\n",
      "iterr = 8, a = 6.50391, b = 6.52344, p = 6.51367, f(p) = 0.00841\n",
      "iterr = 9, a = 6.50391, b = 6.51367, p = 6.50879, f(p) = -0.04153\n",
      "iterr = 10, a = 6.50879, b = 6.51367, p = 6.51123, f(p) = -0.01655\n",
      "iterr = 11, a = 6.51123, b = 6.51367, p = 6.51245, f(p) = -0.00406\n",
      "iterr = 12, a = 6.51245, b = 6.51367, p = 6.51306, f(p) = 0.00218\n",
      "iterr = 13, a = 6.51245, b = 6.51306, p = 6.51276, f(p) = -0.00094\n",
      "iterr = 14, a = 6.51276, b = 6.51306, p = 6.51291, f(p) = 0.00062\n",
      "iterr = 15, a = 6.51276, b = 6.51291, p = 6.51283, f(p) = -0.00016\n",
      "iterr = 16, a = 6.51283, b = 6.51291, p = 6.51287, f(p) = 0.00023\n",
      "iterr = 17, a = 6.51283, b = 6.51287, p = 6.51285, f(p) = 0.00003\n",
      "iterr = 18, a = 6.51283, b = 6.51285, p = 6.51284, f(p) = -0.00007\n"
     ]
    }
   ],
   "source": [
    "b1, b2 = bisection(5, 7.5, 0.00001, 50)"
   ]
  },
  {
   "cell_type": "code",
   "execution_count": 11,
   "metadata": {},
   "outputs": [
    {
     "name": "stdout",
     "output_type": "stream",
     "text": [
      "iterr = 1, p_0 = 6.00000, p = 6.47877\n",
      "iterr = 2, p_0 = 6.47877, p = 6.51268\n",
      "iterr = 3, p_0 = 6.51268, p = 6.51285\n"
     ]
    }
   ],
   "source": [
    "n = Newton(6, 0.00001, 50)"
   ]
  },
  {
   "cell_type": "code",
   "execution_count": 10,
   "metadata": {},
   "outputs": [
    {
     "name": "stdout",
     "output_type": "stream",
     "text": [
      "iterr = 2, p_0 = 5.00000, p_1 = 7.50000\n",
      "iterr = 3, p_1 = 7.50000, p_2 = 6.71859\n",
      "iterr = 4, p_2 = 6.71859, p_3 = 6.47685\n",
      "iterr = 5, p_3 = 6.47685, p_4 = 6.51397\n",
      "iterr = 6, p_4 = 6.51397, p_5 = 6.51285\n"
     ]
    }
   ],
   "source": [
    "s = secant (5, 7.5, 0.00001, 50)"
   ]
  },
  {
   "cell_type": "code",
   "execution_count": 8,
   "metadata": {},
   "outputs": [
    {
     "data": {
      "image/png": "[encoded data removed]",
      "text/plain": [
       "<matplotlib.figure.Figure at 0x10dbe9da0>"
      ]
     },
     "metadata": {},
     "output_type": "display_data"
    },
    {
     "data": {
      "text/plain": [
       "<sympy.plotting.plot.Plot at 0x10dbe9fd0>"
      ]
     },
     "execution_count": 8,
     "metadata": {},
     "output_type": "execute_result"
    }
   ],
   "source": [
    "plot(f(x), (x, 0, 20))"
   ]
  },
  {
   "cell_type": "code",
   "execution_count": null,
   "metadata": {},
   "outputs": [],
   "source": []
  }
 ],
 "metadata": {
  "kernelspec": {
   "display_name": "Python 3",
   "language": "python",
   "name": "python3"
  },
  "language_info": {
   "codemirror_mode": {
    "name": "ipython",
    "version": 3
   },
   "file_extension": ".py",
   "mimetype": "text/x-python",
   "name": "python",
   "nbconvert_exporter": "python",
   "pygments_lexer": "ipython3",
   "version": "3.6.4"
  }
 },
 "nbformat": 4,
 "nbformat_minor": 2
}
