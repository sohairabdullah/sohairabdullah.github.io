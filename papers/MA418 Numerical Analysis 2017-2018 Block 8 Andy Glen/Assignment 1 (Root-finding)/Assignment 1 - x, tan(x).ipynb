{
 "cells": [
  {
   "cell_type": "code",
   "execution_count": 1,
   "metadata": {},
   "outputs": [],
   "source": [
    "from sympy import*\n",
    "%matplotlib inline\n",
    "from __future__ import division\n",
    "x, y, z, t = symbols('x y z t')\n",
    "k, m, n = symbols('k m n', integer = True)\n",
    "f, g, h = symbols('f g h', cls = Function)\n",
    "import math"
   ]
  },
  {
   "cell_type": "code",
   "execution_count": 2,
   "metadata": {},
   "outputs": [],
   "source": [
    "def f(x):\n",
    "    return (tan(x) - x) / tan(x) - 0.01"
   ]
  },
  {
   "cell_type": "code",
   "execution_count": 3,
   "metadata": {},
   "outputs": [
    {
     "data": {
      "text/plain": [
       "(-x + tan(x))*(-tan(x)**2 - 1)/tan(x)**2 + tan(x)"
      ]
     },
     "execution_count": 3,
     "metadata": {},
     "output_type": "execute_result"
    }
   ],
   "source": [
    "diff(f(x), x)"
   ]
  },
  {
   "cell_type": "code",
   "execution_count": 4,
   "metadata": {},
   "outputs": [],
   "source": [
    "def fprime(x):\n",
    "    return (-x + tan(x))*(-tan(x)**2 - 1)/tan(x)**2 + tan(x)"
   ]
  },
  {
   "cell_type": "code",
   "execution_count": 5,
   "metadata": {},
   "outputs": [],
   "source": [
    "def bisection(a, b, tol, numIter):\n",
    "    iterr = 1\n",
    "    fa = f(a)\n",
    "    while iterr < numIter:\n",
    "        p = (b - a) / 2 + a\n",
    "        fp = f(p)\n",
    "        print('iterr = %d, a = %.5f, b = %.5f, p = %.5f, f(p) = %.5f'%(iterr, a, b, p, fp))\n",
    "        #if (fp == 0 or abs(fp) < tol ): \n",
    "        #different tolerance y condition x condition (they can differ a lot)\n",
    "        if (fp == 0 or (b - a)/2 < tol):\n",
    "            break\n",
    "        iterr = iterr + 1\n",
    "        if (fp * fa < 0):\n",
    "            b = p\n",
    "            fb = fp\n",
    "        else:\n",
    "            a = p\n",
    "            fa = fp\n",
    "    return p, fp"
   ]
  },
  {
   "cell_type": "code",
   "execution_count": 6,
   "metadata": {},
   "outputs": [],
   "source": [
    "def Newton (initialPoint, tol, numIter):\n",
    "    iterr = 1\n",
    "    while iterr < numIter:\n",
    "        p = initialPoint - (f(initialPoint) / fprime(initialPoint))\n",
    "        \n",
    "        print('iterr = %d, p_0 = %.5f, p = %.5f'%(iterr, initialPoint, p))\n",
    "\n",
    "        if (abs(p - initialPoint) < tol):\n",
    "            break\n",
    "        iterr = iterr + 1\n",
    "        initialPoint = p\n",
    "        \n",
    "    return p"
   ]
  },
  {
   "cell_type": "code",
   "execution_count": 7,
   "metadata": {},
   "outputs": [],
   "source": [
    "def secant (p0, p1, tol, numIter):\n",
    "    iterr = 2 #p0, p1\n",
    "    q0 = f(p0)\n",
    "    q1 = f(p1)\n",
    "    while iterr < numIter:\n",
    "        \n",
    "        p = p1 -  q1 *(p1 - p0)/(q1 - q0)\n",
    "        \n",
    "        print('iterr = %d, p_%d = %.5f, p_%d = %.5f'%(iterr, iterr - 2, p0, iterr - 1, p1))\n",
    "\n",
    "        if (abs(p - p1) < tol):\n",
    "            break\n",
    "        iterr = iterr + 1\n",
    "        p0 = p1\n",
    "        q0 = q1\n",
    "        p1 = p\n",
    "        q1 = f(p)\n",
    "    return p"
   ]
  },
  {
   "cell_type": "code",
   "execution_count": 9,
   "metadata": {},
   "outputs": [
    {
     "name": "stdout",
     "output_type": "stream",
     "text": [
      "iterr = 1, a = 0.10000, b = 0.20000, p = 0.15000, f(p) = -0.00249\n",
      "iterr = 2, a = 0.15000, b = 0.20000, p = 0.17500, f(p) = 0.00023\n",
      "iterr = 3, a = 0.15000, b = 0.17500, p = 0.16250, f(p) = -0.00118\n",
      "iterr = 4, a = 0.16250, b = 0.17500, p = 0.16875, f(p) = -0.00049\n",
      "iterr = 5, a = 0.16875, b = 0.17500, p = 0.17188, f(p) = -0.00013\n",
      "iterr = 6, a = 0.17188, b = 0.17500, p = 0.17344, f(p) = 0.00005\n",
      "iterr = 7, a = 0.17188, b = 0.17344, p = 0.17266, f(p) = -0.00004\n",
      "iterr = 8, a = 0.17266, b = 0.17344, p = 0.17305, f(p) = 0.00000\n",
      "iterr = 9, a = 0.17266, b = 0.17305, p = 0.17285, f(p) = -0.00002\n",
      "iterr = 10, a = 0.17285, b = 0.17305, p = 0.17295, f(p) = -0.00001\n",
      "iterr = 11, a = 0.17295, b = 0.17305, p = 0.17300, f(p) = -0.00000\n",
      "iterr = 12, a = 0.17300, b = 0.17305, p = 0.17302, f(p) = -0.00000\n",
      "iterr = 13, a = 0.17302, b = 0.17305, p = 0.17303, f(p) = 0.00000\n",
      "iterr = 14, a = 0.17302, b = 0.17303, p = 0.17303, f(p) = -0.00000\n",
      "iterr = 15, a = 0.17303, b = 0.17303, p = 0.17303, f(p) = -0.00000\n",
      "iterr = 16, a = 0.17303, b = 0.17303, p = 0.17303, f(p) = 0.00000\n",
      "iterr = 17, a = 0.17303, b = 0.17303, p = 0.17303, f(p) = 0.00000\n"
     ]
    }
   ],
   "source": [
    "b1, b2 = bisection(0.1, 0.2, 0.000001, 50)"
   ]
  },
  {
   "cell_type": "code",
   "execution_count": 12,
   "metadata": {},
   "outputs": [
    {
     "name": "stdout",
     "output_type": "stream",
     "text": [
      "iterr = 1, p_0 = 0.20000, p = 0.17487\n",
      "iterr = 2, p_0 = 0.17487, p = 0.17304\n",
      "iterr = 3, p_0 = 0.17304, p = 0.17303\n",
      "iterr = 4, p_0 = 0.17303, p = 0.17303\n"
     ]
    }
   ],
   "source": [
    "n = Newton(0.2, 0.000001, 50)"
   ]
  },
  {
   "cell_type": "code",
   "execution_count": 11,
   "metadata": {},
   "outputs": [
    {
     "name": "stdout",
     "output_type": "stream",
     "text": [
      "iterr = 2, p_0 = 0.10000, p_1 = 0.20000\n",
      "iterr = 3, p_1 = 0.20000, p_2 = 0.16642\n",
      "iterr = 4, p_2 = 0.16642, p_3 = 0.17254\n",
      "iterr = 5, p_3 = 0.17254, p_4 = 0.17304\n",
      "iterr = 6, p_4 = 0.17304, p_5 = 0.17303\n"
     ]
    }
   ],
   "source": [
    "s = secant (0.1, 0.2, 0.000001, 50)"
   ]
  },
  {
   "cell_type": "code",
   "execution_count": 8,
   "metadata": {},
   "outputs": [
    {
     "data": {
      "image/png": "[encoded data removed]",
      "text/plain": [
       "<matplotlib.figure.Figure at 0x102f31d68>"
      ]
     },
     "metadata": {},
     "output_type": "display_data"
    },
    {
     "data": {
      "text/plain": [
       "<sympy.plotting.plot.Plot at 0x102f31c88>"
      ]
     },
     "execution_count": 8,
     "metadata": {},
     "output_type": "execute_result"
    }
   ],
   "source": [
    "plot(f(x),(x,0,1))"
   ]
  },
  {
   "cell_type": "code",
   "execution_count": null,
   "metadata": {},
   "outputs": [],
   "source": []
  }
 ],
 "metadata": {
  "kernelspec": {
   "display_name": "Python 3",
   "language": "python",
   "name": "python3"
  },
  "language_info": {
   "codemirror_mode": {
    "name": "ipython",
    "version": 3
   },
   "file_extension": ".py",
   "mimetype": "text/x-python",
   "name": "python",
   "nbconvert_exporter": "python",
   "pygments_lexer": "ipython3",
   "version": "3.6.4"
  }
 },
 "nbformat": 4,
 "nbformat_minor": 2
}
