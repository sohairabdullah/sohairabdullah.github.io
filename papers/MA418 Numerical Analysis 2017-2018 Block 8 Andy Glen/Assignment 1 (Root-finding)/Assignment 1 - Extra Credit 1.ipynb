{
 "cells": [
  {
   "cell_type": "code",
   "execution_count": 1,
   "metadata": {},
   "outputs": [],
   "source": [
    "from sympy import*\n",
    "%matplotlib inline\n",
    "from __future__ import division\n",
    "x, y, z, t = symbols('x y z t')\n",
    "k, m, n = symbols('k m n', integer = True)\n",
    "f, g, h = symbols('f g h', cls = Function)\n",
    "import math"
   ]
  },
  {
   "cell_type": "code",
   "execution_count": 2,
   "metadata": {},
   "outputs": [],
   "source": [
    "def f(x):\n",
    "    return -3 * x**2 + x**3 - 3*x**4 + 4*x**5 - x**6 - 3*x**7 + x**8"
   ]
  },
  {
   "cell_type": "code",
   "execution_count": 3,
   "metadata": {},
   "outputs": [],
   "source": [
    "def bisection(a, b, tol, numIter):\n",
    "    iterr = 1\n",
    "    fa = f(a)\n",
    "    while iterr < numIter:\n",
    "        p = (b - a) / 2 + a\n",
    "        fp = f(p)\n",
    "        print('iterr = %d, a = %.5f, b = %.5f, p = %.5f, f(p) = %.5f'%(iterr, a, b, p, fp))\n",
    "        if (fp == 0 or abs(fp) < tol ): \n",
    "        #different tolerance y condition x condition (they can differ a lot)\n",
    "        #if (fp == 0 or (b - a)/2 < tol):\n",
    "            break\n",
    "        iterr = iterr + 1\n",
    "        if (fp * fa < 0):\n",
    "            b = p\n",
    "            fb = fp\n",
    "        else:\n",
    "            a = p\n",
    "            fa = fp\n",
    "    return p, fp"
   ]
  },
  {
   "cell_type": "code",
   "execution_count": 4,
   "metadata": {},
   "outputs": [],
   "source": [
    "def secant (p0, p1, tol, numIter):\n",
    "    iterr = 2 #p0, p1\n",
    "    q0 = f(p0)\n",
    "    q1 = f(p1)\n",
    "    while iterr < numIter:\n",
    "        \n",
    "        p = p1 -  q1 *(p1 - p0)/(q1 - q0)\n",
    "        \n",
    "        print('iterr = %d, p_%d = %.5f, p_%d = %.5f'%(iterr, iterr - 2, p0, iterr - 1, p1))\n",
    "\n",
    "        #if (abs(p - p1) < tol):\n",
    "        if (f(p) == 0 or abs(f(p)) < tol ): \n",
    "            break\n",
    "        iterr = iterr + 1\n",
    "        p0 = p1\n",
    "        q0 = q1\n",
    "        p1 = p\n",
    "        q1 = f(p)\n",
    "    return p"
   ]
  },
  {
   "cell_type": "code",
   "execution_count": 5,
   "metadata": {},
   "outputs": [
    {
     "name": "stdout",
     "output_type": "stream",
     "text": [
      "iterr = 1, a = 2.50000, b = 3.50000, p = 3.00000, f(p) = 0.00000\n"
     ]
    }
   ],
   "source": [
    "b1, b2 = bisection(2.5, 3.5, 0.001, 50)"
   ]
  },
  {
   "cell_type": "code",
   "execution_count": 6,
   "metadata": {},
   "outputs": [
    {
     "name": "stdout",
     "output_type": "stream",
     "text": [
      "iterr = 2, p_0 = 2.50000, p_1 = 3.50000\n",
      "iterr = 3, p_1 = 3.50000, p_2 = 2.58418\n",
      "iterr = 4, p_2 = 2.58418, p_3 = 2.66490\n",
      "iterr = 5, p_3 = 2.66490, p_4 = -32.36419\n",
      "iterr = 6, p_4 = -32.36419, p_5 = 2.66490\n",
      "iterr = 7, p_5 = 2.66490, p_6 = 2.66490\n",
      "iterr = 8, p_6 = 2.66490, p_7 = 5.76707\n",
      "iterr = 9, p_7 = 5.76707, p_8 = 2.66649\n",
      "iterr = 10, p_8 = 2.66649, p_9 = 2.66808\n",
      "iterr = 11, p_9 = 2.66808, p_10 = 5.55639\n",
      "iterr = 12, p_10 = 5.55639, p_11 = 2.67016\n",
      "iterr = 13, p_11 = 2.67016, p_12 = 2.67224\n",
      "iterr = 14, p_12 = 2.67224, p_13 = 5.26318\n",
      "iterr = 15, p_13 = 5.26318, p_14 = 2.67533\n",
      "iterr = 16, p_14 = 2.67533, p_15 = 2.67841\n",
      "iterr = 17, p_15 = 2.67841, p_16 = 4.92553\n",
      "iterr = 18, p_16 = 4.92553, p_17 = 2.68342\n",
      "iterr = 19, p_17 = 2.68342, p_18 = 2.68840\n",
      "iterr = 20, p_18 = 2.68840, p_19 = 4.52889\n",
      "iterr = 21, p_19 = 4.52889, p_20 = 2.69767\n",
      "iterr = 22, p_20 = 2.69767, p_21 = 2.70683\n",
      "iterr = 23, p_21 = 2.70683, p_22 = 4.06590\n",
      "iterr = 24, p_22 = 4.06590, p_23 = 2.72740\n",
      "iterr = 25, p_23 = 2.72740, p_24 = 2.74728\n",
      "iterr = 26, p_24 = 2.74728, p_25 = 3.55914\n",
      "iterr = 27, p_25 = 3.55914, p_26 = 2.80182\n",
      "iterr = 28, p_26 = 2.80182, p_27 = 2.84799\n",
      "iterr = 29, p_27 = 2.84799, p_28 = 3.13487\n",
      "iterr = 30, p_28 = 3.13487, p_29 = 2.95218\n",
      "iterr = 31, p_29 = 2.95218, p_30 = 2.98653\n",
      "iterr = 32, p_30 = 2.98653, p_31 = 3.00166\n",
      "iterr = 33, p_31 = 3.00166, p_32 = 2.99995\n"
     ]
    }
   ],
   "source": [
    "s = secant (2.5, 3.5, 0.001, 1000)"
   ]
  },
  {
   "cell_type": "code",
   "execution_count": 13,
   "metadata": {},
   "outputs": [
    {
     "data": {
      "image/png": "[encoded data removed]",
      "text/plain": [
       "<matplotlib.figure.Figure at 0x110616710>"
      ]
     },
     "metadata": {},
     "output_type": "display_data"
    },
    {
     "data": {
      "text/plain": [
       "<sympy.plotting.plot.Plot at 0x110616cc0>"
      ]
     },
     "execution_count": 13,
     "metadata": {},
     "output_type": "execute_result"
    }
   ],
   "source": [
    "plot(f(x), (x, 2.5, 3.5))"
   ]
  },
  {
   "cell_type": "code",
   "execution_count": 9,
   "metadata": {},
   "outputs": [
    {
     "data": {
      "text/plain": [
       "3035.51171875"
      ]
     },
     "execution_count": 9,
     "metadata": {},
     "output_type": "execute_result"
    }
   ],
   "source": [
    "f(3.5)"
   ]
  },
  {
   "cell_type": "code",
   "execution_count": null,
   "metadata": {},
   "outputs": [],
   "source": []
  }
 ],
 "metadata": {
  "kernelspec": {
   "display_name": "Python 3",
   "language": "python",
   "name": "python3"
  },
  "language_info": {
   "codemirror_mode": {
    "name": "ipython",
    "version": 3
   },
   "file_extension": ".py",
   "mimetype": "text/x-python",
   "name": "python",
   "nbconvert_exporter": "python",
   "pygments_lexer": "ipython3",
   "version": "3.6.4"
  }
 },
 "nbformat": 4,
 "nbformat_minor": 2
}
