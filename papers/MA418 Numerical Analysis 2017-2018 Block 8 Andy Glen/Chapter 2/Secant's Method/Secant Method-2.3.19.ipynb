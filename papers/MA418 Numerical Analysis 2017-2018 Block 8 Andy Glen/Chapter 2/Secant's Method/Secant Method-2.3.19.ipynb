{
 "cells": [
  {
   "cell_type": "code",
   "execution_count": 34,
   "metadata": {},
   "outputs": [],
   "source": [
    "from sympy import *\n",
    "%matplotlib inline\n",
    "from __future__ import division\n",
    "x, y, z, t = symbols('x y z t')\n",
    "k, m, n = symbols('k m n', integer = True)\n",
    "f, g, h = symbols('f g h', cls = Function)\n",
    "import math"
   ]
  },
  {
   "cell_type": "code",
   "execution_count": 35,
   "metadata": {},
   "outputs": [],
   "source": [
    "def f(x):\n",
    "    #return x**2 - 1\n",
    "    #return x - (2 * sin(x))\n",
    "    #return 10*(math.pi/2 - asin(x) - x * sqrt((1 - x**2))) - 12.4\n",
    "    #return 1000 - tan(x) #y direction stopping rule is better (the function increase so fast when it's close to pi/2)\n",
    "    #return (-1/10000)*x + 1 - 0.8 #x direction stopping rule is much better \n",
    "    return (2*x**3 + x - 1)/sqrt(x**4 + (-x + 1)**2)"
   ]
  },
  {
   "cell_type": "code",
   "execution_count": 36,
   "metadata": {},
   "outputs": [],
   "source": [
    "def secant (p0, p1, tol, numIter):\n",
    "    iterr = 2 #p0, p1\n",
    "    q0 = f(p0)\n",
    "    q1 = f(p1)\n",
    "    while iterr < numIter:\n",
    "        \n",
    "        p = p1 -  q1 *(p1 - p0)/(q1 - q0)\n",
    "        \n",
    "        print('iterr = %d, p_0 = %.5f, p_1 = %.5f, p = %.5f'%(iterr, p0, p1, p))\n",
    "\n",
    "        if (abs(p - p1) < tol):\n",
    "            #print ('about to hit the break')\n",
    "            #print (abs(p - p1))\n",
    "            break\n",
    "        #print ('after the if statement')\n",
    "        iterr = iterr + 1\n",
    "        p0 = p1\n",
    "        q0 = q1\n",
    "        p1 = p\n",
    "        q1 = f(p)\n",
    "    return p"
   ]
  },
  {
   "cell_type": "code",
   "execution_count": 37,
   "metadata": {},
   "outputs": [
    {
     "name": "stdout",
     "output_type": "stream",
     "text": [
      "iterr = 2, p_0 = 0.50000, p_1 = 1.00000, p = 0.59137\n",
      "iterr = 3, p_0 = 1.00000, p_1 = 0.59137, p = 0.58946\n",
      "iterr = 4, p_0 = 0.59137, p_1 = 0.58946, p = 0.58975\n",
      "iterr = 5, p_0 = 0.58946, p_1 = 0.58975, p = 0.58975\n"
     ]
    }
   ],
   "source": [
    "p_est = secant(0.5, 1, 0.0001, 50) #p_est means p estimate"
   ]
  },
  {
   "cell_type": "code",
   "execution_count": null,
   "metadata": {},
   "outputs": [],
   "source": [
    "pi.evalf()"
   ]
  },
  {
   "cell_type": "code",
   "execution_count": null,
   "metadata": {},
   "outputs": [],
   "source": []
  }
 ],
 "metadata": {
  "kernelspec": {
   "display_name": "Python 3",
   "language": "python",
   "name": "python3"
  },
  "language_info": {
   "codemirror_mode": {
    "name": "ipython",
    "version": 3
   },
   "file_extension": ".py",
   "mimetype": "text/x-python",
   "name": "python",
   "nbconvert_exporter": "python",
   "pygments_lexer": "ipython3",
   "version": "3.6.4"
  }
 },
 "nbformat": 4,
 "nbformat_minor": 2
}
