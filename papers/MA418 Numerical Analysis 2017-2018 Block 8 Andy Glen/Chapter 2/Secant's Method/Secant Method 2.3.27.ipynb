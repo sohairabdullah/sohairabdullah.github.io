{
 "cells": [
  {
   "cell_type": "code",
   "execution_count": 20,
   "metadata": {},
   "outputs": [],
   "source": [
    "from sympy import *\n",
    "%matplotlib inline\n",
    "from __future__ import division\n",
    "x, y, z, t = symbols('x y z t')\n",
    "k, m, n = symbols('k m n', integer = True)\n",
    "f, g, h = symbols('f g h', cls = Function)\n",
    "import math"
   ]
  },
  {
   "cell_type": "code",
   "execution_count": 21,
   "metadata": {},
   "outputs": [],
   "source": [
    "def f(x):\n",
    "    return ((1 + x) / 2)*(( x / (1 - x + x**2))**21) - 0.5"
   ]
  },
  {
   "cell_type": "code",
   "execution_count": 24,
   "metadata": {},
   "outputs": [],
   "source": [
    "def secant (p0, p1, tol, numIter):\n",
    "    iterr = 2 #p0, p1\n",
    "    q0 = f(p0)\n",
    "    q1 = f(p1)\n",
    "    while iterr < numIter:\n",
    "        \n",
    "        p = p1 -  q1 *(p1 - p0)/(q1 - q0)\n",
    "        \n",
    "        print('iterr = %d, p_%d = %.5f, p_%d = %.5f'%(iterr, iterr - 2, p0, iterr - 1, p1))\n",
    "\n",
    "        if (abs(p - p1) < tol):\n",
    "            break\n",
    "        iterr = iterr + 1\n",
    "        p0 = p1 #update all points/values\n",
    "        q0 = q1\n",
    "        p1 = p\n",
    "        q1 = f(p)\n",
    "        if (p > 1 or p < 0):\n",
    "            print (\"The result is wrong\")\n",
    "            break\n",
    "    return p"
   ]
  },
  {
   "cell_type": "code",
   "execution_count": 25,
   "metadata": {},
   "outputs": [
    {
     "name": "stdout",
     "output_type": "stream",
     "text": [
      "iterr = 2, p_0 = 0.00000, p_1 = 1.00000\n",
      "iterr = 3, p_1 = 1.00000, p_2 = 0.50000\n",
      "iterr = 4, p_2 = 0.50000, p_3 = 0.74996\n",
      "The result is wrong\n"
     ]
    }
   ],
   "source": [
    "p_est = secant(0.00000001, 0.99999999999, 0.0001, 50) #p_est means p estimate"
   ]
  },
  {
   "cell_type": "code",
   "execution_count": 27,
   "metadata": {},
   "outputs": [
    {
     "name": "stdout",
     "output_type": "stream",
     "text": [
      "iterr = 2, p_0 = 0.50000, p_1 = 0.90000\n",
      "iterr = 3, p_1 = 0.90000, p_2 = 0.76548\n",
      "iterr = 4, p_2 = 0.76548, p_3 = 0.83779\n",
      "iterr = 5, p_3 = 0.83779, p_4 = 0.84306\n",
      "iterr = 6, p_4 = 0.84306, p_5 = 0.84230\n"
     ]
    }
   ],
   "source": [
    "p_est = secant(0.5, 0.9, 0.0001, 50) #p_est means p estimate"
   ]
  },
  {
   "cell_type": "code",
   "execution_count": null,
   "metadata": {},
   "outputs": [],
   "source": []
  }
 ],
 "metadata": {
  "kernelspec": {
   "display_name": "Python 3",
   "language": "python",
   "name": "python3"
  },
  "language_info": {
   "codemirror_mode": {
    "name": "ipython",
    "version": 3
   },
   "file_extension": ".py",
   "mimetype": "text/x-python",
   "name": "python",
   "nbconvert_exporter": "python",
   "pygments_lexer": "ipython3",
   "version": "3.6.4"
  }
 },
 "nbformat": 4,
 "nbformat_minor": 2
}
