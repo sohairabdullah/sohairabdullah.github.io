{
 "cells": [
  {
   "cell_type": "code",
   "execution_count": 1,
   "metadata": {},
   "outputs": [],
   "source": [
    "from sympy import*\n",
    "%matplotlib inline\n",
    "from __future__ import division\n",
    "x, y, z, t = symbols('x y z t')\n",
    "k, m, n = symbols('k m n', integer = True)\n",
    "f, g, h = symbols('f g h', cls = Function)\n",
    "import math"
   ]
  },
  {
   "cell_type": "code",
   "execution_count": 2,
   "metadata": {},
   "outputs": [],
   "source": [
    "def f(x):\n",
    "    #return math.cos(x)\n",
    "    #return (x+1)/x\n",
    "    #return (x**4 + 4*x**3)/10 \n",
    "    #return x - (x**3 + 4*x**2 - 10)/(3*x**2 + 8*x)\n",
    "    #return (2 - 1 / x)**(0.5)\n",
    "    #return (5 / x**2) + 3\n",
    "    return 6**(-x)"
   ]
  },
  {
   "cell_type": "code",
   "execution_count": 20,
   "metadata": {},
   "outputs": [
    {
     "data": {
      "text/plain": [
       "-(-6*x - 4)*(x**3 + 2*x**2 - 5)/(3*x**2 + 4*x)**2"
      ]
     },
     "execution_count": 20,
     "metadata": {},
     "output_type": "execute_result"
    }
   ],
   "source": [
    "diff(f(x), x)"
   ]
  },
  {
   "cell_type": "code",
   "execution_count": 3,
   "metadata": {},
   "outputs": [],
   "source": [
    "def iter(initialValue, tol, numIter):\n",
    "    iterr = 1\n",
    "    while iterr < numIter:\n",
    "        x = f(initialValue)\n",
    "        print('iterr = %d, guess = %.5f, x = %.5f'%(iterr, initialValue, x))\n",
    "        if (abs(x - initialValue) < tol):\n",
    "            break\n",
    "        iterr = iterr + 1\n",
    "        initialValue = x    \n",
    "    return x"
   ]
  },
  {
   "cell_type": "code",
   "execution_count": 4,
   "metadata": {},
   "outputs": [
    {
     "name": "stdout",
     "output_type": "stream",
     "text": [
      "iterr = 1, guess = 0.35000, x = 0.53413\n",
      "iterr = 2, guess = 0.53413, x = 0.38403\n",
      "iterr = 3, guess = 0.38403, x = 0.50253\n",
      "iterr = 4, guess = 0.50253, x = 0.40640\n",
      "iterr = 5, guess = 0.40640, x = 0.48279\n",
      "iterr = 6, guess = 0.48279, x = 0.42103\n",
      "iterr = 7, guess = 0.42103, x = 0.47030\n",
      "iterr = 8, guess = 0.47030, x = 0.43056\n",
      "iterr = 9, guess = 0.43056, x = 0.46234\n",
      "iterr = 10, guess = 0.46234, x = 0.43675\n",
      "iterr = 11, guess = 0.43675, x = 0.45724\n",
      "iterr = 12, guess = 0.45724, x = 0.44076\n",
      "iterr = 13, guess = 0.44076, x = 0.45397\n",
      "iterr = 14, guess = 0.45397, x = 0.44335\n",
      "iterr = 15, guess = 0.44335, x = 0.45186\n",
      "iterr = 16, guess = 0.45186, x = 0.44502\n",
      "iterr = 17, guess = 0.44502, x = 0.45051\n",
      "iterr = 18, guess = 0.45051, x = 0.44610\n",
      "iterr = 19, guess = 0.44610, x = 0.44964\n",
      "iterr = 20, guess = 0.44964, x = 0.44680\n",
      "iterr = 21, guess = 0.44680, x = 0.44908\n",
      "iterr = 22, guess = 0.44908, x = 0.44725\n",
      "iterr = 23, guess = 0.44725, x = 0.44872\n",
      "iterr = 24, guess = 0.44872, x = 0.44754\n",
      "iterr = 25, guess = 0.44754, x = 0.44849\n",
      "iterr = 26, guess = 0.44849, x = 0.44772\n",
      "iterr = 27, guess = 0.44772, x = 0.44834\n",
      "iterr = 28, guess = 0.44834, x = 0.44784\n",
      "iterr = 29, guess = 0.44784, x = 0.44824\n",
      "iterr = 30, guess = 0.44824, x = 0.44792\n",
      "iterr = 31, guess = 0.44792, x = 0.44818\n",
      "iterr = 32, guess = 0.44818, x = 0.44797\n",
      "iterr = 33, guess = 0.44797, x = 0.44814\n",
      "iterr = 34, guess = 0.44814, x = 0.44800\n",
      "iterr = 35, guess = 0.44800, x = 0.44811\n",
      "iterr = 36, guess = 0.44811, x = 0.44803\n",
      "iterr = 37, guess = 0.44803, x = 0.44809\n",
      "iterr = 38, guess = 0.44809, x = 0.44804\n",
      "iterr = 39, guess = 0.44804, x = 0.44808\n",
      "iterr = 40, guess = 0.44808, x = 0.44805\n",
      "iterr = 41, guess = 0.44805, x = 0.44808\n",
      "iterr = 42, guess = 0.44808, x = 0.44805\n",
      "iterr = 43, guess = 0.44805, x = 0.44807\n",
      "iterr = 44, guess = 0.44807, x = 0.44806\n",
      "iterr = 45, guess = 0.44806, x = 0.44807\n",
      "iterr = 46, guess = 0.44807, x = 0.44806\n"
     ]
    }
   ],
   "source": [
    "xval = iter(0.35, 0.00001, 50)"
   ]
  },
  {
   "cell_type": "code",
   "execution_count": 8,
   "metadata": {},
   "outputs": [
    {
     "data": {
      "text/plain": [
       "0.4480655466501844"
      ]
     },
     "execution_count": 8,
     "metadata": {},
     "output_type": "execute_result"
    }
   ],
   "source": [
    "f(0.44806)"
   ]
  },
  {
   "cell_type": "code",
   "execution_count": 34,
   "metadata": {},
   "outputs": [
    {
     "ename": "SyntaxError",
     "evalue": "keyword can't be an expression (<ipython-input-34-af892edb149c>, line 1)",
     "output_type": "error",
     "traceback": [
      "\u001b[0;36m  File \u001b[0;32m\"<ipython-input-34-af892edb149c>\"\u001b[0;36m, line \u001b[0;32m1\u001b[0m\n\u001b[0;31m    solve(g(x) = 0)\u001b[0m\n\u001b[0m         ^\u001b[0m\n\u001b[0;31mSyntaxError\u001b[0m\u001b[0;31m:\u001b[0m keyword can't be an expression\n"
     ]
    }
   ],
   "source": [
    "solve(g(x) = 0)"
   ]
  },
  {
   "cell_type": "code",
   "execution_count": null,
   "metadata": {},
   "outputs": [],
   "source": []
  }
 ],
 "metadata": {
  "kernelspec": {
   "display_name": "Python 3",
   "language": "python",
   "name": "python3"
  },
  "language_info": {
   "codemirror_mode": {
    "name": "ipython",
    "version": 3
   },
   "file_extension": ".py",
   "mimetype": "text/x-python",
   "name": "python",
   "nbconvert_exporter": "python",
   "pygments_lexer": "ipython3",
   "version": "3.6.4"
  }
 },
 "nbformat": 4,
 "nbformat_minor": 2
}
