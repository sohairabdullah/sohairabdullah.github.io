{
 "cells": [
  {
   "cell_type": "code",
   "execution_count": 1,
   "metadata": {},
   "outputs": [],
   "source": [
    "from sympy import*\n",
    "%matplotlib inline\n",
    "from __future__ import division\n",
    "x, y, z, t = symbols('x y z t')\n",
    "k, m, n = symbols('k m n', integer = True)\n",
    "f, g, h = symbols('f g h', cls = Function)\n",
    "import math"
   ]
  },
  {
   "cell_type": "code",
   "execution_count": 2,
   "metadata": {},
   "outputs": [],
   "source": [
    "def f(x):\n",
    "    return (2 - x**3 + 2*x) / 3"
   ]
  },
  {
   "cell_type": "code",
   "execution_count": 3,
   "metadata": {},
   "outputs": [],
   "source": [
    "def iter(p0, tol, numIter):\n",
    "    iterr = 1\n",
    "    while iterr < numIter:\n",
    "        p = f(p0)\n",
    "        print('iterr = %d, p_%d = %.5f, p = %.5f'%(iterr, iterr - 1, p0, p))\n",
    "        if (abs(p - p0) < tol):\n",
    "            break\n",
    "        iterr = iterr + 1\n",
    "        p0 = p    \n",
    "    return p"
   ]
  },
  {
   "cell_type": "code",
   "execution_count": 10,
   "metadata": {},
   "outputs": [],
   "source": [
    "def Steffensen(p0, tol, numIter):\n",
    "    iterr = 1\n",
    "    while iterr < numIter:\n",
    "        p1 = f(p0)\n",
    "        p2 = f(p1)\n",
    "        p = p0 - (p1 - p0)**2 / (p2 - 2*p1 + p0)\n",
    "        print('iterr = %d, p0 = %.5f, p1 = %.5f, p2 = %.5f, phat = %.5f'%(iterr, p0, p1, p2, p))\n",
    "        if (abs(p - p0) < tol):\n",
    "            break\n",
    "        iterr = iterr + 1\n",
    "        p0 = p\n",
    "    return p"
   ]
  },
  {
   "cell_type": "code",
   "execution_count": 8,
   "metadata": {},
   "outputs": [
    {
     "name": "stdout",
     "output_type": "stream",
     "text": [
      "iterr = 1, p_0 = 0.00000, p = 0.66667\n",
      "iterr = 2, p_1 = 0.66667, p = 1.01235\n",
      "iterr = 3, p_2 = 1.01235, p = 0.99573\n",
      "iterr = 4, p_3 = 0.99573, p = 1.00140\n",
      "iterr = 5, p_4 = 1.00140, p = 0.99953\n",
      "iterr = 6, p_5 = 0.99953, p = 1.00016\n",
      "iterr = 7, p_6 = 1.00016, p = 0.99995\n",
      "iterr = 8, p_7 = 0.99995, p = 1.00002\n",
      "iterr = 9, p_8 = 1.00002, p = 0.99999\n",
      "iterr = 10, p_9 = 0.99999, p = 1.00000\n",
      "iterr = 11, p_10 = 1.00000, p = 1.00000\n",
      "iterr = 12, p_11 = 1.00000, p = 1.00000\n",
      "iterr = 13, p_12 = 1.00000, p = 1.00000\n",
      "iterr = 14, p_13 = 1.00000, p = 1.00000\n",
      "iterr = 15, p_14 = 1.00000, p = 1.00000\n",
      "iterr = 16, p_15 = 1.00000, p = 1.00000\n",
      "iterr = 17, p_16 = 1.00000, p = 1.00000\n",
      "iterr = 18, p_17 = 1.00000, p = 1.00000\n",
      "iterr = 19, p_18 = 1.00000, p = 1.00000\n",
      "iterr = 20, p_19 = 1.00000, p = 1.00000\n",
      "iterr = 21, p_20 = 1.00000, p = 1.00000\n",
      "iterr = 22, p_21 = 1.00000, p = 1.00000\n",
      "iterr = 23, p_22 = 1.00000, p = 1.00000\n",
      "iterr = 24, p_23 = 1.00000, p = 1.00000\n",
      "iterr = 25, p_24 = 1.00000, p = 1.00000\n"
     ]
    }
   ],
   "source": [
    "fixed = iter(0, 0.000000000001, 100)"
   ]
  },
  {
   "cell_type": "code",
   "execution_count": 11,
   "metadata": {},
   "outputs": [
    {
     "name": "stdout",
     "output_type": "stream",
     "text": [
      "iterr = 1, p0 = 0.00000, p1 = 0.66667, p2 = 1.01235, phat = 1.38462\n",
      "iterr = 2, p0 = 1.38462, p1 = 0.70490, p2 = 1.01985, phat = 0.92012\n",
      "iterr = 3, p0 = 0.92012, p1 = 1.02041, p2 = 0.99278, phat = 0.99875\n",
      "iterr = 4, p0 = 0.99875, p1 = 1.00042, p2 = 0.99986, phat = 1.00000\n",
      "iterr = 5, p0 = 1.00000, p1 = 1.00000, p2 = 1.00000, phat = 1.00000\n",
      "iterr = 6, p0 = 1.00000, p1 = 1.00000, p2 = 1.00000, phat = 1.00000\n"
     ]
    }
   ],
   "source": [
    "steff = Steffensen(0, 0.000000000001, 100)"
   ]
  },
  {
   "cell_type": "code",
   "execution_count": null,
   "metadata": {},
   "outputs": [],
   "source": []
  }
 ],
 "metadata": {
  "kernelspec": {
   "display_name": "Python 3",
   "language": "python",
   "name": "python3"
  },
  "language_info": {
   "codemirror_mode": {
    "name": "ipython",
    "version": 3
   },
   "file_extension": ".py",
   "mimetype": "text/x-python",
   "name": "python",
   "nbconvert_exporter": "python",
   "pygments_lexer": "ipython3",
   "version": "3.6.4"
  }
 },
 "nbformat": 4,
 "nbformat_minor": 2
}
