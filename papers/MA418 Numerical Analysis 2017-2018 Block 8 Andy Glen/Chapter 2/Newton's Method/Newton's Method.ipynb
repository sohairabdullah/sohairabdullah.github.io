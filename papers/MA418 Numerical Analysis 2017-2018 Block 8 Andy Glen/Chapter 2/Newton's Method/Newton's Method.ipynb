{
 "cells": [
  {
   "cell_type": "code",
   "execution_count": 1,
   "metadata": {},
   "outputs": [],
   "source": [
    "from sympy import *\n",
    "%matplotlib inline\n",
    "from __future__ import division\n",
    "x, y, z, t = symbols('x y z t')\n",
    "k, m, n = symbols('k m n', integer = True)\n",
    "f, g, h = symbols('f g h', cls = Function)\n",
    "import math"
   ]
  },
  {
   "cell_type": "code",
   "execution_count": 2,
   "metadata": {},
   "outputs": [],
   "source": [
    "def f(x):\n",
    "    #return x**2 - 1\n",
    "    #return x - (2 * sin(x))\n",
    "    return 10*(math.pi/2 - asin(x) - x*sqrt((1 - x**2))) - 12.4\n",
    "    #return 1000 - tan(x) #y direction stopping rule is better (the function increase so fast when it's close to pi/2)\n",
    "    #return (-1/10000)*x + 1 - 0.8 #x direction stopping rule is much better "
   ]
  },
  {
   "cell_type": "code",
   "execution_count": 3,
   "metadata": {},
   "outputs": [
    {
     "data": {
      "text/plain": [
       "10*x**2/sqrt(-x**2 + 1) - 10*sqrt(-x**2 + 1) - 10/sqrt(-x**2 + 1)"
      ]
     },
     "execution_count": 3,
     "metadata": {},
     "output_type": "execute_result"
    }
   ],
   "source": [
    "diff (f(x), x)"
   ]
  },
  {
   "cell_type": "code",
   "execution_count": 4,
   "metadata": {},
   "outputs": [],
   "source": [
    "def fprime(x): \n",
    "    return 10*x**2/sqrt(-x**2 + 1) - 10*sqrt(-x**2 + 1) - 10/sqrt(-x**2 + 1)"
   ]
  },
  {
   "cell_type": "code",
   "execution_count": 5,
   "metadata": {},
   "outputs": [],
   "source": [
    "def Newton (initialPoint, tol, numIter):\n",
    "    iterr = 1\n",
    "    while iterr < numIter:\n",
    "        p = initialPoint - (f(initialPoint) / fprime(initialPoint))\n",
    "        \n",
    "        print('iterr = %d, p_0 = %.5f, p = %.5f'%(iterr, initialPoint, p))\n",
    "\n",
    "        if (abs(p - initialPoint) < tol):\n",
    "            break\n",
    "        iterr = iterr + 1\n",
    "        initialPoint = p\n",
    "        \n",
    "    return p"
   ]
  },
  {
   "cell_type": "code",
   "execution_count": 6,
   "metadata": {},
   "outputs": [
    {
     "name": "stdout",
     "output_type": "stream",
     "text": [
      "iterr = 1, p_0 = 0.50000, p = 0.13869\n",
      "iterr = 2, p_0 = 0.13869, p = 0.16611\n",
      "iterr = 3, p_0 = 0.16611, p = 0.16617\n",
      "iterr = 4, p_0 = 0.16617, p = 0.16617\n"
     ]
    }
   ],
   "source": [
    "p_est = Newton(.5, 0.000001, 50) #p_est means p estimate"
   ]
  },
  {
   "cell_type": "code",
   "execution_count": 8,
   "metadata": {},
   "outputs": [
    {
     "data": {
      "text/plain": [
       "3.141592653589793"
      ]
     },
     "execution_count": 8,
     "metadata": {},
     "output_type": "execute_result"
    }
   ],
   "source": [
    "math.pi"
   ]
  },
  {
   "cell_type": "code",
   "execution_count": null,
   "metadata": {},
   "outputs": [],
   "source": []
  }
 ],
 "metadata": {
  "kernelspec": {
   "display_name": "Python 3",
   "language": "python",
   "name": "python3"
  },
  "language_info": {
   "codemirror_mode": {
    "name": "ipython",
    "version": 3
   },
   "file_extension": ".py",
   "mimetype": "text/x-python",
   "name": "python",
   "nbconvert_exporter": "python",
   "pygments_lexer": "ipython3",
   "version": "3.6.4"
  }
 },
 "nbformat": 4,
 "nbformat_minor": 2
}
