{
 "cells": [
  {
   "cell_type": "code",
   "execution_count": 1,
   "metadata": {},
   "outputs": [],
   "source": [
    "from sympy import*\n",
    "%matplotlib inline\n",
    "from __future__ import division\n",
    "x, y, z, t = symbols('x y z t')\n",
    "k, m, n = symbols('k m n', integer = True)\n",
    "f, g, h = symbols('f g h', cls = Function)\n",
    "import math"
   ]
  },
  {
   "cell_type": "code",
   "execution_count": 10,
   "metadata": {},
   "outputs": [],
   "source": [
    "def f(x):\n",
    "    return (1 + 1/x)**(0.5)"
   ]
  },
  {
   "cell_type": "code",
   "execution_count": 3,
   "metadata": {},
   "outputs": [],
   "source": [
    "def iter(p0, tol, numIter):\n",
    "    iterr = 1\n",
    "    while iterr < numIter:\n",
    "        p = f(p0)\n",
    "        print('iterr = %d, p_%d = %.5f, p = %.5f'%(iterr, iterr - 1, p0, p))\n",
    "        if (abs(p - p0) < tol):\n",
    "            break\n",
    "        iterr = iterr + 1\n",
    "        p0 = p    \n",
    "    return p"
   ]
  },
  {
   "cell_type": "code",
   "execution_count": 4,
   "metadata": {},
   "outputs": [],
   "source": [
    "def Steffensen(p0, tol, numIter):\n",
    "    iterr = 1\n",
    "    while iterr < numIter:\n",
    "        p1 = f(p0)\n",
    "        p2 = f(p1)\n",
    "        p = p0 - (p1 - p0)**2 / (p2 - 2*p1 + p0)\n",
    "        print('iterr = %d, p0 = %.5f, p1 = %.5f, p2 = %.5f, phat = %.5f'%(iterr, p0, p1, p2, p))\n",
    "        if (abs(p - p0) < tol):\n",
    "            break\n",
    "        iterr = iterr + 1\n",
    "        p0 = p\n",
    "    return p"
   ]
  },
  {
   "cell_type": "code",
   "execution_count": 11,
   "metadata": {},
   "outputs": [
    {
     "name": "stdout",
     "output_type": "stream",
     "text": [
      "iterr = 1, p_0 = 1.00000, p = 1.41421\n",
      "iterr = 2, p_1 = 1.41421, p = 1.30656\n",
      "iterr = 3, p_2 = 1.30656, p = 1.32867\n",
      "iterr = 4, p_3 = 1.32867, p = 1.32387\n",
      "iterr = 5, p_4 = 1.32387, p = 1.32490\n",
      "iterr = 6, p_5 = 1.32490, p = 1.32468\n",
      "iterr = 7, p_6 = 1.32468, p = 1.32473\n",
      "iterr = 8, p_7 = 1.32473, p = 1.32472\n",
      "iterr = 9, p_8 = 1.32472, p = 1.32472\n"
     ]
    }
   ],
   "source": [
    "fixed = iter(1, 0.00001, 100)"
   ]
  },
  {
   "cell_type": "code",
   "execution_count": 12,
   "metadata": {},
   "outputs": [
    {
     "name": "stdout",
     "output_type": "stream",
     "text": [
      "iterr = 1, p0 = 1.00000, p1 = 1.41421, p2 = 1.30656, phat = 1.32877\n",
      "iterr = 2, p0 = 1.32877, p1 = 1.32385, p2 = 1.32490, phat = 1.32472\n",
      "iterr = 3, p0 = 1.32472, p1 = 1.32472, p2 = 1.32472, phat = 1.32472\n"
     ]
    }
   ],
   "source": [
    "steff = Steffensen(1, 0.00001, 100)"
   ]
  },
  {
   "cell_type": "code",
   "execution_count": null,
   "metadata": {},
   "outputs": [],
   "source": []
  }
 ],
 "metadata": {
  "kernelspec": {
   "display_name": "Python 3",
   "language": "python",
   "name": "python3"
  },
  "language_info": {
   "codemirror_mode": {
    "name": "ipython",
    "version": 3
   },
   "file_extension": ".py",
   "mimetype": "text/x-python",
   "name": "python",
   "nbconvert_exporter": "python",
   "pygments_lexer": "ipython3",
   "version": "3.6.4"
  }
 },
 "nbformat": 4,
 "nbformat_minor": 2
}
