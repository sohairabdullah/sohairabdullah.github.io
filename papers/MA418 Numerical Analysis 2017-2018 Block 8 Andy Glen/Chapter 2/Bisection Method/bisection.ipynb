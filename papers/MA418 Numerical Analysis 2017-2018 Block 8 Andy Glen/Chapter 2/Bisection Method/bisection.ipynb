{
 "cells": [
  {
   "cell_type": "code",
   "execution_count": 1,
   "metadata": {},
   "outputs": [],
   "source": [
    "from sympy import *\n",
    "%matplotlib inline\n",
    "from __future__ import division\n",
    "x, y, z, t = symbols('x y z t')\n",
    "k, m, n = symbols('k m n', integer = True)\n",
    "f, g, h = symbols('f g h', cls = Function)\n",
    "import math"
   ]
  },
  {
   "cell_type": "code",
   "execution_count": 11,
   "metadata": {},
   "outputs": [
    {
     "data": {
      "text/plain": [
       "0.841470984807897"
      ]
     },
     "execution_count": 11,
     "metadata": {},
     "output_type": "execute_result"
    }
   ],
   "source": [
    "sin(1).evalf()"
   ]
  },
  {
   "cell_type": "code",
   "execution_count": 5,
   "metadata": {},
   "outputs": [],
   "source": [
    "def f(x):\n",
    "    #return x**2 - 1\n",
    "    #return x - (2 * sin(x))\n",
    "    #return 1000 - tan(x) #y direction stopping rule is better (the function increase so fast when it's close to pi/2)\n",
    "    #return (-1/10000)*x + 1 - 0.8 #x direction stopping rule is much better \n",
    "    return x**2 - 3"
   ]
  },
  {
   "cell_type": "code",
   "execution_count": 3,
   "metadata": {},
   "outputs": [],
   "source": [
    "def bisection(a, b, tol, numIter):\n",
    "    iterr = 1\n",
    "    fa = f(a)\n",
    "    while iterr < numIter:\n",
    "        p = (b - a) / 2 + a\n",
    "        fp = f(p)\n",
    "        print('iterr = %d, a = %.5f, b = %.5f, p = %.5f, f(p) = %.5f'%(iterr, a, b, p, fp))\n",
    "        #if (fp == 0 or abs(fp) < tol ): \n",
    "        #different tolerance y condition x condition (they can differ a lot)\n",
    "        if (fp == 0 or (b - a)/2 < tol):\n",
    "            break\n",
    "        iterr = iterr + 1\n",
    "        if (fp * fa < 0):\n",
    "            b = p\n",
    "            fb = fp\n",
    "        else:\n",
    "            a = p\n",
    "            fa = fp\n",
    "    return p, fp"
   ]
  },
  {
   "cell_type": "code",
   "execution_count": 6,
   "metadata": {},
   "outputs": [
    {
     "name": "stdout",
     "output_type": "stream",
     "text": [
      "iterr = 1, a = 1.00000, b = 2.00000, p = 1.50000, f(p) = -0.75000\n",
      "iterr = 2, a = 1.50000, b = 2.00000, p = 1.75000, f(p) = 0.06250\n",
      "iterr = 3, a = 1.50000, b = 1.75000, p = 1.62500, f(p) = -0.35938\n",
      "iterr = 4, a = 1.62500, b = 1.75000, p = 1.68750, f(p) = -0.15234\n",
      "iterr = 5, a = 1.68750, b = 1.75000, p = 1.71875, f(p) = -0.04590\n",
      "iterr = 6, a = 1.71875, b = 1.75000, p = 1.73438, f(p) = 0.00806\n",
      "iterr = 7, a = 1.71875, b = 1.73438, p = 1.72656, f(p) = -0.01898\n",
      "iterr = 8, a = 1.72656, b = 1.73438, p = 1.73047, f(p) = -0.00548\n",
      "iterr = 9, a = 1.73047, b = 1.73438, p = 1.73242, f(p) = 0.00129\n",
      "iterr = 10, a = 1.73047, b = 1.73242, p = 1.73145, f(p) = -0.00210\n",
      "iterr = 11, a = 1.73145, b = 1.73242, p = 1.73193, f(p) = -0.00041\n",
      "iterr = 12, a = 1.73193, b = 1.73242, p = 1.73218, f(p) = 0.00044\n",
      "iterr = 13, a = 1.73193, b = 1.73218, p = 1.73206, f(p) = 0.00002\n",
      "iterr = 14, a = 1.73193, b = 1.73206, p = 1.73199, f(p) = -0.00019\n",
      "iterr = 15, a = 1.73199, b = 1.73206, p = 1.73203, f(p) = -0.00009\n",
      "iterr = 16, a = 1.73203, b = 1.73206, p = 1.73204, f(p) = -0.00004\n",
      "iterr = 17, a = 1.73204, b = 1.73206, p = 1.73205, f(p) = -0.00001\n"
     ]
    }
   ],
   "source": [
    "xval, yval = bisection(1,2,0.00001,50)"
   ]
  },
  {
   "cell_type": "code",
   "execution_count": 24,
   "metadata": {},
   "outputs": [
    {
     "data": {
      "text/plain": [
       "-1.0"
      ]
     },
     "execution_count": 24,
     "metadata": {},
     "output_type": "execute_result"
    }
   ],
   "source": [
    "xval"
   ]
  },
  {
   "cell_type": "code",
   "execution_count": 25,
   "metadata": {},
   "outputs": [
    {
     "data": {
      "text/plain": [
       "0.0"
      ]
     },
     "execution_count": 25,
     "metadata": {},
     "output_type": "execute_result"
    }
   ],
   "source": [
    "yval"
   ]
  },
  {
   "cell_type": "code",
   "execution_count": 28,
   "metadata": {},
   "outputs": [
    {
     "data": {
      "image/png": "[encoded data removed]",
      "text/plain": [
       "<matplotlib.figure.Figure at 0x114af7470>"
      ]
     },
     "metadata": {},
     "output_type": "display_data"
    },
    {
     "data": {
      "text/plain": [
       "<sympy.plotting.plot.Plot at 0x114af7d68>"
      ]
     },
     "execution_count": 28,
     "metadata": {},
     "output_type": "execute_result"
    }
   ],
   "source": [
    "plot(x, 2*sin(x), (x, 0, 3.14159))"
   ]
  },
  {
   "cell_type": "code",
   "execution_count": 30,
   "metadata": {},
   "outputs": [
    {
     "name": "stdout",
     "output_type": "stream",
     "text": [
      "iterr = 1, a = 1.50000, b = 2.50000, p = 2.00000, f(p) = 0.18141\n",
      "iterr = 2, a = 1.50000, b = 2.00000, p = 1.75000, f(p) = -0.21797\n",
      "iterr = 3, a = 1.75000, b = 2.00000, p = 1.87500, f(p) = -0.03317\n",
      "iterr = 4, a = 1.87500, b = 2.00000, p = 1.93750, f(p) = 0.07047\n",
      "iterr = 5, a = 1.87500, b = 1.93750, p = 1.90625, f(p) = 0.01773\n",
      "iterr = 6, a = 1.87500, b = 1.90625, p = 1.89062, f(p) = -0.00795\n",
      "iterr = 7, a = 1.89062, b = 1.90625, p = 1.89844, f(p) = 0.00483\n",
      "iterr = 8, a = 1.89062, b = 1.89844, p = 1.89453, f(p) = -0.00158\n",
      "iterr = 9, a = 1.89453, b = 1.89844, p = 1.89648, f(p) = 0.00162\n",
      "iterr = 10, a = 1.89453, b = 1.89648, p = 1.89551, f(p) = 0.00002\n",
      "iterr = 11, a = 1.89453, b = 1.89551, p = 1.89502, f(p) = -0.00078\n",
      "iterr = 12, a = 1.89502, b = 1.89551, p = 1.89526, f(p) = -0.00038\n",
      "iterr = 13, a = 1.89526, b = 1.89551, p = 1.89539, f(p) = -0.00018\n",
      "iterr = 14, a = 1.89539, b = 1.89551, p = 1.89545, f(p) = -0.00008\n",
      "iterr = 15, a = 1.89545, b = 1.89551, p = 1.89548, f(p) = -0.00003\n",
      "iterr = 16, a = 1.89548, b = 1.89551, p = 1.89549, f(p) = -0.00000\n",
      "iterr = 17, a = 1.89549, b = 1.89551, p = 1.89550, f(p) = 0.00001\n",
      "iterr = 18, a = 1.89549, b = 1.89550, p = 1.89550, f(p) = 0.00000\n",
      "iterr = 19, a = 1.89549, b = 1.89550, p = 1.89549, f(p) = 0.00000\n"
     ]
    }
   ],
   "source": [
    "xval1, yval1 = bisection(1.5, 2.5, 0.000001, 50)"
   ]
  },
  {
   "cell_type": "code",
   "execution_count": 31,
   "metadata": {},
   "outputs": [
    {
     "data": {
      "text/plain": [
       "1.8954944610595703"
      ]
     },
     "execution_count": 31,
     "metadata": {},
     "output_type": "execute_result"
    }
   ],
   "source": [
    "xval1"
   ]
  },
  {
   "cell_type": "code",
   "execution_count": 32,
   "metadata": {},
   "outputs": [
    {
     "data": {
      "text/plain": [
       "3.17822691497938e-7"
      ]
     },
     "execution_count": 32,
     "metadata": {},
     "output_type": "execute_result"
    }
   ],
   "source": [
    "yval1"
   ]
  },
  {
   "cell_type": "code",
   "execution_count": null,
   "metadata": {},
   "outputs": [],
   "source": []
  }
 ],
 "metadata": {
  "kernelspec": {
   "display_name": "Python 3",
   "language": "python",
   "name": "python3"
  },
  "language_info": {
   "codemirror_mode": {
    "name": "ipython",
    "version": 3
   },
   "file_extension": ".py",
   "mimetype": "text/x-python",
   "name": "python",
   "nbconvert_exporter": "python",
   "pygments_lexer": "ipython3",
   "version": "3.6.4"
  }
 },
 "nbformat": 4,
 "nbformat_minor": 2
}
