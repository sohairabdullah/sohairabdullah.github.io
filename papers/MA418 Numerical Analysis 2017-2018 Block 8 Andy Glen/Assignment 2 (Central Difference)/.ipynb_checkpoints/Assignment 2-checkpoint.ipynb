{
 "cells": [
  {
   "cell_type": "code",
   "execution_count": 1,
   "metadata": {},
   "outputs": [],
   "source": [
    "from sympy import* #import a lot stuff\n",
    "import math\n",
    "%matplotlib inline\n",
    "import matplotlib.pyplot as plt\n",
    "from __future__ import division\n",
    "x, y, z, t = symbols('x y z t')\n",
    "k, m, n = symbols('k m n', integer = True)\n",
    "f, g, h = symbols('f g h', cls = Function)"
   ]
  },
  {
   "cell_type": "code",
   "execution_count": 2,
   "metadata": {},
   "outputs": [],
   "source": [
    "def f(x): #define f(x)\n",
    "    #return 1 - math.e**(-(x/2)**2)\n",
    "    return x**2"
   ]
  },
  {
   "cell_type": "code",
   "execution_count": 3,
   "metadata": {},
   "outputs": [
    {
     "data": {
      "text/plain": [
       "2*x"
      ]
     },
     "execution_count": 3,
     "metadata": {},
     "output_type": "execute_result"
    }
   ],
   "source": [
    "diff (f(x), x)"
   ]
  },
  {
   "cell_type": "code",
   "execution_count": 4,
   "metadata": {},
   "outputs": [],
   "source": [
    "def fprime(x): #define the derivative of f(x)\n",
    "    #return 0.5*math.e**(-x**2/4)*x\n",
    "    return 2*x"
   ]
  },
  {
   "cell_type": "code",
   "execution_count": 11,
   "metadata": {},
   "outputs": [
    {
     "data": {
      "text/plain": [
       "[<matplotlib.lines.Line2D at 0x1137bb198>]"
      ]
     },
     "execution_count": 11,
     "metadata": {},
     "output_type": "execute_result"
    },
    {
     "data": {
      "image/png": "[encoded data removed]",
      "text/plain": [
       "<matplotlib.figure.Figure at 0x10a4b1978>"
      ]
     },
     "metadata": {},
     "output_type": "display_data"
    }
   ],
   "source": [
    "xlist = [] #set up lists for prime, central difference and forward difference\n",
    "clist = []\n",
    "h = 0.00001\n",
    "for i in range(1, 101):\n",
    "    new_x = fprime(x0)#calculate\n",
    "    new_f = (f(x0 + h) - f(x0)) / h\n",
    "    new_c = (f(x0 + h) - f(x0 - h)) / (2*h)\n",
    "    xlist = xlist + [new_x]#update\n",
    "    clist = clist + [new_c]\n",
    "    x0 = x0 + 0.05\n",
    "plt.plot(xlist, clist, 'or')"
   ]
  },
  {
   "cell_type": "code",
   "execution_count": 5,
   "metadata": {},
   "outputs": [
    {
     "name": "stdout",
     "output_type": "stream",
     "text": [
      "j = -3 , error_f = 100000.0000000000, error_c =    0.0000000000\n",
      "j = -2 , error_f = 10000.0000000000, error_c =    0.0000000000\n",
      "j = -1 , error_f = 1000.0000000000, error_c =    0.0000000000\n",
      "j = 0  , error_f =  100.0000000000, error_c =    0.0000000000\n",
      "j = 1  , error_f =   10.0000000000, error_c =    0.0000000000\n",
      "j = 2  , error_f =    1.0000000000, error_c =    0.0000000000\n",
      "j = 3  , error_f =    0.1000000000, error_c =    0.0000000001\n",
      "j = 4  , error_f =    0.0100000001, error_c =    0.0000000009\n",
      "j = 5  , error_f =    0.0009999948, error_c =    0.0000000081\n",
      "j = 6  , error_f =    0.0001000514, error_c =    0.0000000634\n",
      "j = 7  , error_f =    0.0000101300, error_c =    0.0000009233\n",
      "j = 8  , error_f =    0.0000039994, error_c =    0.0000032479\n",
      "j = 9  , error_f =    0.0000504454, error_c =    0.0000399204\n",
      "j = 10 , error_f =    0.0003283190, error_c =    0.0001276764\n",
      "j = 11 , error_f =    0.0038217699, error_c =    0.0025508268\n",
      "j = 12 , error_f =    0.0529558395, error_c =    0.0417598852\n",
      "j = 13 , error_f =    1.0290101136, error_c =    0.8830736093\n",
      "j = 14 , error_f =    9.9945171356, error_c =    9.1517163699\n",
      "j = 15 , error_f =   71.7159480543, error_c =   56.6034451113\n",
      "j = 16 , error_f =  480.2731685925, error_c =  478.0470065371\n",
      "j = 17 , error_f =  494.7831595655, error_c =  494.7951563910\n",
      "j = 18 , error_f =  495.0000000000, error_c =  495.0000000000\n"
     ]
    }
   ],
   "source": [
    "f_error = [] #set up the error list\n",
    "c_error = []\n",
    "for j in range(-3, 19):\n",
    "    h = 10**(-j)\n",
    "    x0 = 0\n",
    "    difference_f = 0\n",
    "    difference_c = 0\n",
    "    for i in range(1, 101):\n",
    "        new_x = fprime(x0)#calculate\n",
    "        new_f = (f(x0 + h) - f(x0)) / h\n",
    "        new_c = (f(x0 + h) - f(x0 - h)) / (2*h)\n",
    "        difference_f = difference_f + abs(new_x - new_f) #update the difference\n",
    "        difference_c = difference_c + abs(new_x - new_c)\n",
    "        x0 = x0 + 0.05\n",
    "    f_error = f_error + [difference_f]\n",
    "    c_error = c_error + [difference_c]\n",
    "\n",
    "for j in range(-3, 19):\n",
    "    print ('j = {:<3d}, error_f = {:15.10f}, error_c = {:15.10f}'.format(j, f_error[j + 3], c_error[j + 3])) "
   ]
  },
  {
   "cell_type": "code",
   "execution_count": 20,
   "metadata": {},
   "outputs": [
    {
     "data": {
      "image/png": "[encoded data removed]",
      "text/plain": [
       "<matplotlib.figure.Figure at 0x113d7d278>"
      ]
     },
     "metadata": {},
     "output_type": "display_data"
    },
    {
     "data": {
      "text/plain": [
       "<sympy.plotting.plot.Plot at 0x113d7dac8>"
      ]
     },
     "execution_count": 20,
     "metadata": {},
     "output_type": "execute_result"
    }
   ],
   "source": [
    "plot(f(x), (x, -10, 10))"
   ]
  },
  {
   "cell_type": "code",
   "execution_count": null,
   "metadata": {},
   "outputs": [],
   "source": []
  }
 ],
 "metadata": {
  "kernelspec": {
   "display_name": "Python 3",
   "language": "python",
   "name": "python3"
  },
  "language_info": {
   "codemirror_mode": {
    "name": "ipython",
    "version": 3
   },
   "file_extension": ".py",
   "mimetype": "text/x-python",
   "name": "python",
   "nbconvert_exporter": "python",
   "pygments_lexer": "ipython3",
   "version": "3.6.4"
  }
 },
 "nbformat": 4,
 "nbformat_minor": 2
}
