{
 "cells": [
  {
   "cell_type": "code",
   "execution_count": 2,
   "metadata": {},
   "outputs": [],
   "source": [
    "from sympy import*\n",
    "%matplotlib inline\n",
    "import matplotlib.pyplot as plt\n",
    "from __future__ import division\n",
    "x, y, z, t = symbols('x y z t')\n",
    "k, m, n = symbols('k m n', integer = True)\n",
    "f, g, h = symbols('f g h', cls = Function)\n",
    "import math"
   ]
  },
  {
   "cell_type": "code",
   "execution_count": 3,
   "metadata": {},
   "outputs": [],
   "source": [
    "def f(x, y):\n",
    "    return cos(2*x) + sin(3*x)"
   ]
  },
  {
   "cell_type": "code",
   "execution_count": 4,
   "metadata": {},
   "outputs": [],
   "source": [
    "def y(t):\n",
    "    return (1/2 * sin(2*t) - 1/3 * cos(3*t) + 4/3)"
   ]
  },
  {
   "cell_type": "code",
   "execution_count": 5,
   "metadata": {},
   "outputs": [],
   "source": [
    "def RK4_update(startPoint, endPoint, numIntervals, initialValue, a, b, c, d): #modify RK4 a bit\n",
    "    stepSize = (endPoint - startPoint) / numIntervals\n",
    "    tlist = [startPoint]\n",
    "    wlist = [initialValue]\n",
    "    t = startPoint\n",
    "    current_w = initialValue\n",
    "    \n",
    "    for i in range (1, numIntervals + 1):\n",
    "        k1 = stepSize * f(t, current_w) #Euler's\n",
    "        k2 = stepSize * f(t + stepSize / 2, current_w + k1 / 2)\n",
    "        k3 = stepSize * f(t + stepSize / 2, current_w + k2 / 2)\n",
    "        k4 = stepSize * f(t + stepSize, current_w + k3)\n",
    "        slope = (a*k1 + b*k2 + c*k3 + d*k4) / (a + b + c + d)\n",
    "        current_w = current_w + slope       \n",
    "        t = startPoint + i * stepSize\n",
    "        tlist.append(t)\n",
    "        wlist.append(current_w)\n",
    "    \n",
    "    return tlist, wlist"
   ]
  },
  {
   "cell_type": "code",
   "execution_count": 6,
   "metadata": {},
   "outputs": [],
   "source": [
    "def totalError(list1, list2):\n",
    "    error = 0\n",
    "    for i in range (0, len(list1)):\n",
    "        error = error + abs(list1[i] - list2[i])\n",
    "    return error       "
   ]
  },
  {
   "cell_type": "code",
   "execution_count": 10,
   "metadata": {},
   "outputs": [],
   "source": [
    "numIntervals = 100\n",
    "\n",
    "tlist, wlist = RK4_update(0, 2, numIntervals, 1, 1, 2, 2, 1)\n",
    "ylist = []\n",
    "length = len(tlist)\n",
    "for i in range(0, length):\n",
    "    ylist = ylist + [y(tlist[i])]\n",
    "    \n",
    "minError = totalError(ylist, wlist)\n",
    "    \n",
    "for i1 in range(1, 5):\n",
    "    for i2 in range(1, 5):\n",
    "        for i3 in range(1, 5):\n",
    "            for i4 in range(1, 5):\n",
    "                etlist2, ewlist2 = RK4_update(0, 10, numIntervals, 1, i1, i2, i3, i4)\n",
    "                if (totalError(ylist, ewlist2) <= minError +):\n",
    "                    print(\"%d, %d, %d, %d, %.10f\"%(i1, i2, i3, i4,totalError(ylist, ewlist2)))\n"
   ]
  },
  {
   "cell_type": "code",
   "execution_count": 11,
   "metadata": {},
   "outputs": [
    {
     "data": {
      "text/plain": [
       "1.77145372592946e-7"
      ]
     },
     "execution_count": 11,
     "metadata": {},
     "output_type": "execute_result"
    }
   ],
   "source": [
    "minError"
   ]
  },
  {
   "cell_type": "code",
   "execution_count": null,
   "metadata": {},
   "outputs": [],
   "source": []
  }
 ],
 "metadata": {
  "kernelspec": {
   "display_name": "Python 3",
   "language": "python",
   "name": "python3"
  },
  "language_info": {
   "codemirror_mode": {
    "name": "ipython",
    "version": 3
   },
   "file_extension": ".py",
   "mimetype": "text/x-python",
   "name": "python",
   "nbconvert_exporter": "python",
   "pygments_lexer": "ipython3",
   "version": "3.6.4"
  }
 },
 "nbformat": 4,
 "nbformat_minor": 2
}
