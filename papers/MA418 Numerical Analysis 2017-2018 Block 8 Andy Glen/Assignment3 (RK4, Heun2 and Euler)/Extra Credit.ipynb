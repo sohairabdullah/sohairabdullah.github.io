{
 "cells": [
  {
   "cell_type": "code",
   "execution_count": 1,
   "metadata": {},
   "outputs": [],
   "source": [
    "from sympy import* #import things \n",
    "%matplotlib inline\n",
    "import matplotlib.pyplot as plt\n",
    "from __future__ import division\n",
    "x, y, z, t = symbols('x y z t')\n",
    "k, m, n = symbols('k m n', integer = True)\n",
    "f, g, h = symbols('f g h', cls = Function)\n",
    "import math"
   ]
  },
  {
   "cell_type": "code",
   "execution_count": 2,
   "metadata": {},
   "outputs": [],
   "source": [
    "def f(x, y):\n",
    "    return cos(2*x) + sin(3*x)"
   ]
  },
  {
   "cell_type": "code",
   "execution_count": 3,
   "metadata": {},
   "outputs": [],
   "source": [
    "def y(t):\n",
    "    return (1/2 * sin(2*t) - 1/3 * cos(3*t) + 4/3)"
   ]
  },
  {
   "cell_type": "code",
   "execution_count": 4,
   "metadata": {},
   "outputs": [],
   "source": [
    "def RK4_update(startPoint, endPoint, numIntervals, initialValue, a, b, c, d): \n",
    "    #modify RK4 a bit by adding inputs that change coefficients of slopes\n",
    "    stepSize = (endPoint - startPoint) / numIntervals\n",
    "    tlist = [startPoint]\n",
    "    wlist = [initialValue]\n",
    "    t = startPoint\n",
    "    current_w = initialValue\n",
    "    \n",
    "    for i in range (1, numIntervals + 1):\n",
    "        k1 = stepSize * f(t, current_w) #Euler's\n",
    "        k2 = stepSize * f(t + stepSize / 2, current_w + k1 / 2)\n",
    "        k3 = stepSize * f(t + stepSize / 2, current_w + k2 / 2)\n",
    "        k4 = stepSize * f(t + stepSize, current_w + k3)\n",
    "        slope = (a*k1 + b*k2 + c*k3 + d*k4) / (a + b + c + d)\n",
    "        current_w = current_w + slope       \n",
    "        t = startPoint + i * stepSize\n",
    "        tlist.append(t)\n",
    "        wlist.append(current_w)\n",
    "    \n",
    "    return tlist, wlist"
   ]
  },
  {
   "cell_type": "code",
   "execution_count": 5,
   "metadata": {},
   "outputs": [],
   "source": [
    "def totalError(list1, list2): #method that calculates the total error\n",
    "    error = 0\n",
    "    for i in range (0, len(list1)):\n",
    "        error = error + abs(list1[i] - list2[i])\n",
    "    return error       "
   ]
  },
  {
   "cell_type": "code",
   "execution_count": 6,
   "metadata": {},
   "outputs": [],
   "source": [
    "numIntervals = 100 #number of intervals\n",
    "\n",
    "tlist, wlist = RK4_update(0, 10, numIntervals, 1, 1, 2, 2, 1) #1,2,2,1 RK4 definition\n",
    "ylist = []\n",
    "length = len(tlist)\n",
    "for i in range(0, length):\n",
    "    ylist = ylist + [y(tlist[i])]#create a list of true (exact) y values\n",
    "\n",
    "minError = totalError(wlist, ylist)#use totalError method to calculate minimum error"
   ]
  },
  {
   "cell_type": "code",
   "execution_count": 9,
   "metadata": {},
   "outputs": [
    {
     "name": "stdout",
     "output_type": "stream",
     "text": [
      "Table 2: Different coeffcients for RK4 (tolerance = 0.00001)\n",
      "_______________________________________________________________________\n",
      "coeff(K1)  coeff(K2)   coeff(K3)   coeff(K4)             error\n",
      "_______________________________________________________________________\n",
      "   1          1           3           1          0.00010148188579284234\n",
      "   1          2           2           1          0.00010148188576841743\n",
      "   1          3           1           1          0.00010148188578262829\n",
      "   2          1           7           2          0.00010148188579284234\n",
      "   2          2           6           2          0.00010148188579284234\n",
      "   2          3           5           2          0.00010148188576841743\n",
      "   2          4           4           2          0.00010148188576841743\n",
      "   2          5           3           2          0.00010148188576841743\n",
      "   2          6           2           2          0.00010148188578262829\n",
      "   2          7           1           2          0.00010148188576863948\n",
      "   3          3           9           3          0.00010148188574043981\n",
      "   3          4           8           3          0.00010148188577352446\n",
      "   3          5           7           3          0.00010148188574909955\n",
      "   3          6           6           3          0.00010148188578129602\n",
      "   3          7           5           3          0.00010148188572400851\n",
      "   3          8           4           3          0.00010148188574066186\n",
      "   3          9           3           3          0.00010148188572400851\n",
      "   4          7           9           4          0.00010148188579284234\n",
      "   4          8           8           4          0.00010148188576841743\n",
      "   4          9           7           4          0.00010148188579284234\n"
     ]
    }
   ],
   "source": [
    "figtitle = 'Table 2: Different coeffcients for RK4 (tolerance = 0.00001)'\n",
    "title_top = '_______________________________________________________________________'\n",
    "title_bot = '_______________________________________________________________________'\n",
    "my_string = 'coeff(K1)  coeff(K2)   coeff(K3)   coeff(K4)             error'\n",
    "print(figtitle)\n",
    "print(title_top)\n",
    "print(my_string)\n",
    "print(title_bot)\n",
    "tolerance = 0.00001 #difference with the minError(usually bigger)\n",
    "\n",
    "for i1 in range(1, 10): #loop over the coeffcient to find if there exists better coefficients\n",
    "    for i2 in range(1, 10):\n",
    "        for i3 in range(1, 10):\n",
    "            for i4 in range(1, 10):\n",
    "                etlist2, ewlist2 = RK4_update(0, 10, numIntervals, 1, i1, i2, i3, i4)\n",
    "                error = totalError(ewlist2, ylist)\n",
    "                if (error <= minError + tolerance): #if the total error is less than minError + tolerance, print it out\n",
    "                    print(\"   %d          %d           %d           %d          %.20f\"%(i1, i2, i3, i4, error))\n"
   ]
  },
  {
   "cell_type": "code",
   "execution_count": null,
   "metadata": {},
   "outputs": [],
   "source": []
  }
 ],
 "metadata": {
  "kernelspec": {
   "display_name": "Python 3",
   "language": "python",
   "name": "python3"
  },
  "language_info": {
   "codemirror_mode": {
    "name": "ipython",
    "version": 3
   },
   "file_extension": ".py",
   "mimetype": "text/x-python",
   "name": "python",
   "nbconvert_exporter": "python",
   "pygments_lexer": "ipython3",
   "version": "3.6.4"
  }
 },
 "nbformat": 4,
 "nbformat_minor": 2
}
