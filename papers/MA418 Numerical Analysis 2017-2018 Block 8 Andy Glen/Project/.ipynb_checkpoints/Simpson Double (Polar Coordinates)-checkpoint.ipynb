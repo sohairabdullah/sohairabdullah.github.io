{
 "cells": [
  {
   "cell_type": "code",
   "execution_count": 1,
   "metadata": {},
   "outputs": [],
   "source": [
    "from sympy import*\n",
    "%matplotlib inline\n",
    "import matplotlib.pyplot as plt\n",
    "from __future__ import division\n",
    "x, y, z, t = symbols('x y z t')\n",
    "k, m, n = symbols('k m n', integer = True)\n",
    "f, g, h = symbols('f g h', cls = Function)\n",
    "import math"
   ]
  },
  {
   "cell_type": "code",
   "execution_count": 15,
   "metadata": {},
   "outputs": [],
   "source": [
    "def f(x, y):\n",
    "    #return 2\n",
    "    return x*y"
   ]
  },
  {
   "cell_type": "code",
   "execution_count": 3,
   "metadata": {},
   "outputs": [],
   "source": [
    "def compositeSimpson(startPoint, endPoint, numIntervals):\n",
    "    a = startPoint\n",
    "    b = endPoint\n",
    "    n = numIntervals\n",
    "    h = (b - a) / n\n",
    "    leftRight = f(a) + f(b)\n",
    "    oddSum = 0\n",
    "    evenSum = 0\n",
    "    for i in range (1, n):\n",
    "        x = a + i*h\n",
    "        if i % 2 == 1:\n",
    "            oddSum = oddSum + f(x)\n",
    "        else:\n",
    "            evenSum = evenSum + f(x)\n",
    "    areaEstimate = h * (leftRight + 2*evenSum + 4*oddSum) / 3\n",
    "    return areaEstimate"
   ]
  },
  {
   "cell_type": "code",
   "execution_count": 71,
   "metadata": {},
   "outputs": [],
   "source": [
    "def SimpsonDouble(a, b, m, n, c):\n",
    "    h = (b - a)/n\n",
    "    J1 = 0\n",
    "    J2 = 0\n",
    "    J3 = 0\n",
    "    for i in range (0, n+1):\n",
    "        x = a + i*h\n",
    "        HX = (d(x) - c(x))/m\n",
    "        K1 = f(x, c(x)) + f(x, d(x))\n",
    "        K2 = 0\n",
    "        K3 = 0\n",
    "        \n",
    "        for j in range (1, m):\n",
    "            y = c(x) + j*HX\n",
    "            Q = f(x, y)\n",
    "            if j%2 == 0:\n",
    "                K2 = K2 + Q\n",
    "            else:\n",
    "                K3 = K3 + Q\n",
    "        L = ((K1 + 2*K2 + 4*K3)*HX)/3\n",
    "        if i ==0 or i == n:\n",
    "            J1 = J1 + L\n",
    "        elif i % 2 == 0:\n",
    "            J2 = J2 + L\n",
    "        else:\n",
    "            J3 = J3 + L\n",
    "    J = h*(J1 + 2*J2 + 4*J3)/3\n",
    "    return J"
   ]
  },
  {
   "cell_type": "code",
   "execution_count": 72,
   "metadata": {},
   "outputs": [],
   "source": [
    "def c(x):\n",
    "    return 0\n",
    "    #return x - 2"
   ]
  },
  {
   "cell_type": "code",
   "execution_count": 73,
   "metadata": {},
   "outputs": [],
   "source": [
    "def c1(x):\n",
    "    return x - 2"
   ]
  },
  {
   "cell_type": "code",
   "execution_count": 74,
   "metadata": {},
   "outputs": [],
   "source": [
    "def d(x):\n",
    "    return 1 / x**2"
   ]
  },
  {
   "cell_type": "code",
   "execution_count": 50,
   "metadata": {},
   "outputs": [
    {
     "data": {
      "text/plain": [
       "0.000497844905157835"
      ]
     },
     "execution_count": 50,
     "metadata": {},
     "output_type": "execute_result"
    }
   ],
   "source": [
    "trueValue = integrate(x*y, (y, 0, 1 / x**2), (x, 1, 2))\n",
    "abs(trueValue - SimpsonDouble(1, 2, 2, 4))"
   ]
  },
  {
   "cell_type": "code",
   "execution_count": 65,
   "metadata": {},
   "outputs": [
    {
     "data": {
      "text/plain": [
       "0.195488711546847"
      ]
     },
     "execution_count": 65,
     "metadata": {},
     "output_type": "execute_result"
    }
   ],
   "source": [
    "solution = solve((x - 2)*x**2 - 1, x)[2].evalf()\n",
    "trueValue1 = integrate(x*y, (y, x - 2, 1 / x**2), (x, 2, solution)) + integrate(x*y, (y, 0, 1 / x**2), (x, 1, 2))\n",
    "trueValue1"
   ]
  },
  {
   "cell_type": "code",
   "execution_count": 59,
   "metadata": {},
   "outputs": [
    {
     "data": {
      "text/plain": [
       "0.00311994352576170"
      ]
     },
     "execution_count": 59,
     "metadata": {},
     "output_type": "execute_result"
    }
   ],
   "source": [
    "abs(trueValue1 - (SimpsonDouble(1, 2, xInterval, yInterval) + SimpsonDouble(2, solution, xInterval, yInterval)))"
   ]
  },
  {
   "cell_type": "code",
   "execution_count": 98,
   "metadata": {},
   "outputs": [
    {
     "data": {
      "text/plain": [
       "0.000497852939006033"
      ]
     },
     "execution_count": 98,
     "metadata": {},
     "output_type": "execute_result"
    }
   ],
   "source": [
    "a = SimpsonDouble(1, 2, 4, 4, c) \n",
    "b = SimpsonDouble(2, solution, 4, 4, c1)\n",
    "a + b\n",
    "abs((a+b) -trueValue1)"
   ]
  },
  {
   "cell_type": "code",
   "execution_count": 96,
   "metadata": {},
   "outputs": [],
   "source": [
    "def smallNM(trueValue):\n",
    "    i = 0\n",
    "    x = 2\n",
    "    y = 2\n",
    "    while i < 100:        \n",
    "        a = SimpsonDouble(1, 2, x, y, c)\n",
    "        b = SimpsonDouble(2, solution, x, y, c1)\n",
    "        if abs((a + b) - trueValue) < 0.001 :\n",
    "            break\n",
    "        else:\n",
    "            x = x + 2\n",
    "            a = SimpsonDouble(1, 2, x, y, c)\n",
    "            b = SimpsonDouble(2, solution, x, y, c1)\n",
    "            if abs((a + b) - trueValue) < 0.001 :\n",
    "                break\n",
    "            else: \n",
    "                y = y + 2\n",
    "                i = i + 1\n",
    "        \n",
    "    return x,y"
   ]
  },
  {
   "cell_type": "code",
   "execution_count": 97,
   "metadata": {},
   "outputs": [
    {
     "name": "stdout",
     "output_type": "stream",
     "text": [
      "4 4\n"
     ]
    }
   ],
   "source": [
    "xInterval, yInterval = smallNM(trueValue1)\n",
    "print (xInterval, yInterval)"
   ]
  },
  {
   "cell_type": "code",
   "execution_count": null,
   "metadata": {},
   "outputs": [],
   "source": []
  }
 ],
 "metadata": {
  "kernelspec": {
   "display_name": "Python 3",
   "language": "python",
   "name": "python3"
  },
  "language_info": {
   "codemirror_mode": {
    "name": "ipython",
    "version": 3
   },
   "file_extension": ".py",
   "mimetype": "text/x-python",
   "name": "python",
   "nbconvert_exporter": "python",
   "pygments_lexer": "ipython3",
   "version": "3.6.4"
  }
 },
 "nbformat": 4,
 "nbformat_minor": 2
}
