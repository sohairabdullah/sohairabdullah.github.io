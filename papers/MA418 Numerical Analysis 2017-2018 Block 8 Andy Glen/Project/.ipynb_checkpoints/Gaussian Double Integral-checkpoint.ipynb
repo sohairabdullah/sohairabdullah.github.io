{
 "cells": [
  {
   "cell_type": "code",
   "execution_count": 2,
   "metadata": {},
   "outputs": [],
   "source": [
    "from sympy import*\n",
    "%matplotlib inline\n",
    "import matplotlib.pyplot as plt\n",
    "from __future__ import division\n",
    "x, y, z, t = symbols('x y z t')\n",
    "k, m, n = symbols('k m n', integer = True)\n",
    "f, g, h = symbols('f g h', cls = Function)\n",
    "import math"
   ]
  },
  {
   "cell_type": "code",
   "execution_count": 3,
   "metadata": {},
   "outputs": [],
   "source": [
    "r = [[0]]\n",
    "r.append([-0.5773502691896257,0.5773502691896257])\n",
    "r.append([0.0000000000000000,-0.7745966692414834,0.7745966692414834])\n",
    "r.append([-0.3399810435848563,0.3399810435848563,-0.8611363115940526,0.8611363115940526])\n",
    "r.append([0.0000000000000000,-0.5384693101056831,0.5384693101056831,-0.9061798459386640,0.9061798459386640])\n",
    "r.append([0.6612093864662645,-0.6612093864662645,-0.2386191860831969,0.2386191860831969,-0.9324695142031521\n",
    ",0.9324695142031521])\n",
    "r.append([0.0000000000000000,0.4058451513773972,-0.4058451513773972,-0.7415311855993945,0.7415311855993945,-0.9491079123427585\n",
    ",0.9491079123427585])\n",
    "r.append([-0.1834346424956498,0.1834346424956498,-0.5255324099163290,0.5255324099163290,-0.7966664774136267,0.7966664774136267,-0.9602898564975363\n",
    ",0.9602898564975363])\n",
    "r.append([0.0000000000000000,-0.8360311073266358,0.8360311073266358,-0.9681602395076261,0.9681602395076261\n",
    ",-0.3242534234038089,0.3242534234038089,-0.6133714327005904,0.6133714327005904])\n",
    "r.append([-0.1488743389816312,0.1488743389816312,-0.4333953941292472,0.4333953941292472,-0.6794095682990244\n",
    ",0.6794095682990244,-0.8650633666889845,0.8650633666889845,-0.9739065285171717,0.9739065285171717])"
   ]
  },
  {
   "cell_type": "code",
   "execution_count": 4,
   "metadata": {},
   "outputs": [],
   "source": [
    "c=[[2]]\n",
    "c.append([1.0000000000000000,1.0000000000000000])\n",
    "c.append([0.8888888888888888,0.5555555555555556,0.5555555555555556])\n",
    "c.append([0.6521451548625461,0.6521451548625461,0.3478548451374538,0.3478548451374538])\n",
    "c.append([0.5688888888888889,0.4786286704993665,0.4786286704993665,0.2369268850561891,0.2369268850561891])\n",
    "c.append([0.3607615730481386,0.3607615730481386,0.4679139345726910,0.4679139345726910,\n",
    "          0.1713244923791704,0.1713244923791704])\n",
    "c.append([0.4179591836734694,0.3818300505051189,0.3818300505051189,0.2797053914892766,0.2797053914892766,\n",
    "         0.1294849661688697,0.1294849661688697])\n",
    "c.append([0.3626837833783620,0.3626837833783620,0.3137066458778873,0.3137066458778873,0.2223810344533745,0.2223810344533745,\n",
    "         0.1012285362903763,0.1012285362903763])\n",
    "c.append([0.3302393550012598,0.1806481606948574,0.1806481606948574,0.0812743883615744,0.0812743883615744,\n",
    "         0.3123470770400029,0.3123470770400029,0.2606106964029354,0.2606106964029354])\n",
    "c.append([0.2955242247147529,0.2955242247147529,0.2692667193099963,0.2692667193099963,0.2190863625159820,\n",
    "         0.2190863625159820,0.1494513491505806,0.1494513491505806,0.0666713443086881,0.0666713443086881])"
   ]
  },
  {
   "cell_type": "code",
   "execution_count": 5,
   "metadata": {},
   "outputs": [],
   "source": [
    "def Gauss(a, b, m, n, cfn, dfn, f):\n",
    "    h1 = (b - a)/2\n",
    "    h2 = (b + a)/2\n",
    "    J = 0\n",
    "    for i in range(1, m + 1):\n",
    "        JX = 0\n",
    "        x = h1*r[m-1][i-1] + h2\n",
    "        d1 = dfn(x)\n",
    "        c1 = cfn(x)\n",
    "        k1 = (d1 - c1)/2\n",
    "        k2 = (d1 + c1)/2\n",
    "        for j in range(1, n + 1):\n",
    "            y = k1*r[n-1][j-1] + k2\n",
    "            Q = f(x,y)\n",
    "            JX = JX + c[n-1][j-1]*Q\n",
    "        J = J + c[m-1][i-1]*k1*JX\n",
    "    J = h1*J\n",
    "    return J        "
   ]
  },
  {
   "cell_type": "code",
   "execution_count": 6,
   "metadata": {},
   "outputs": [],
   "source": [
    "def SimpsonDouble(a, b, m, n, c, d, f):\n",
    "    h = (b - a)/n\n",
    "    J1 = 0\n",
    "    J2 = 0\n",
    "    J3 = 0\n",
    "    for i in range (0, n+1):\n",
    "        x = a + i*h\n",
    "        HX = (d(x) - c(x))/m\n",
    "        K1 = f(x, c(x)) + f(x, d(x))\n",
    "        K2 = 0\n",
    "        K3 = 0\n",
    "        \n",
    "        for j in range (1, m):\n",
    "            y = c(x) + j*HX\n",
    "            Q = f(x, y)\n",
    "            if j%2 == 0:\n",
    "                K2 = K2 + Q\n",
    "            else:\n",
    "                K3 = K3 + Q\n",
    "        L = ((K1 + 2*K2 + 4*K3)*HX)/3\n",
    "        if i ==0 or i == n:\n",
    "            J1 = J1 + L\n",
    "        elif i % 2 == 0:\n",
    "            J2 = J2 + L\n",
    "        else:\n",
    "            J3 = J3 + L\n",
    "    J = h*(J1 + 2*J2 + 4*J3)/3\n",
    "    return J"
   ]
  },
  {
   "cell_type": "code",
   "execution_count": 7,
   "metadata": {},
   "outputs": [],
   "source": [
    "def c1(x):\n",
    "    return 0\n",
    "def d1(x):\n",
    "    return 1\n",
    "def f1(x, y):\n",
    "    return 1 / (x + y)**2\n",
    "error_1 = []\n",
    "error_2 = []\n",
    "for i in range(1, 11):\n",
    "    n = i\n",
    "    gauss = Gauss(1, 2, n, n, c1, d1, f1)\n",
    "    simpson = SimpsonDouble(1, 2, n, n, c1, d1, f1)\n",
    "    error1 = abs(gauss - ln(4/3))\n",
    "    error2 = abs(simpson - ln(4/3))\n",
    "    error_1 = error_1 + [error1]\n",
    "    error_2 = error_2 + [error2]"
   ]
  },
  {
   "cell_type": "code",
   "execution_count": null,
   "metadata": {},
   "outputs": [],
   "source": [
    "figtitle = 'Table 4: Comparison Between Simpson and Gaussian Integral Method'\n",
    "title_top = '_______________________________________________'\n",
    "title_bot = '_______________________________________________'\n",
    "my_string = ' n     error(Gaussian)       error(Simpson)'\n",
    "print(figtitle)\n",
    "print(title_top)\n",
    "print(my_string)\n",
    "print(title_bot)\n",
    "\n",
    "for i in range(0, 10):\n",
    "    print(\"%2d     %.15f     %.15f  \"%(i + 1, error_1[i], error_2[i]))\n"
   ]
  }
 ],
 "metadata": {
  "kernelspec": {
   "display_name": "Python 3",
   "language": "python",
   "name": "python3"
  },
  "language_info": {
   "codemirror_mode": {
    "name": "ipython",
    "version": 3
   },
   "file_extension": ".py",
   "mimetype": "text/x-python",
   "name": "python",
   "nbconvert_exporter": "python",
   "pygments_lexer": "ipython3",
   "version": "3.6.4"
  }
 },
 "nbformat": 4,
 "nbformat_minor": 2
}
