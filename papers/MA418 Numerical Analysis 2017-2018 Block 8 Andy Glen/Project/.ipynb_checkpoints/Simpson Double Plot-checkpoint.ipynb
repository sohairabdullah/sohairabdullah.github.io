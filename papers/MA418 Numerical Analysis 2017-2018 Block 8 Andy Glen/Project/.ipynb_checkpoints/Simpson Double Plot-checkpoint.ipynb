{
 "cells": [
  {
   "cell_type": "code",
   "execution_count": 1,
   "metadata": {},
   "outputs": [],
   "source": [
    "from sympy import*\n",
    "%matplotlib inline\n",
    "import matplotlib.pyplot as plt\n",
    "from __future__ import division\n",
    "x, y, z, t = symbols('x y z t')\n",
    "k, m, n = symbols('k m n', integer = True)\n",
    "f, g, h = symbols('f g h', cls = Function)\n",
    "import math"
   ]
  },
  {
   "cell_type": "code",
   "execution_count": 2,
   "metadata": {},
   "outputs": [],
   "source": [
    "def f(x, y):\n",
    "    #return 2\n",
    "    #return x*y\n",
    "    return x**3*y**3"
   ]
  },
  {
   "cell_type": "code",
   "execution_count": 3,
   "metadata": {},
   "outputs": [],
   "source": [
    "def compositeSimpson(startPoint, endPoint, numIntervals):\n",
    "    a = startPoint\n",
    "    b = endPoint\n",
    "    n = numIntervals\n",
    "    h = (b - a) / n\n",
    "    leftRight = f(a) + f(b)\n",
    "    oddSum = 0\n",
    "    evenSum = 0\n",
    "    for i in range (1, n):\n",
    "        x = a + i*h\n",
    "        if i % 2 == 1:\n",
    "            oddSum = oddSum + f(x)\n",
    "        else:\n",
    "            evenSum = evenSum + f(x)\n",
    "    areaEstimate = h * (leftRight + 2*evenSum + 4*oddSum) / 3\n",
    "    return areaEstimate"
   ]
  },
  {
   "cell_type": "code",
   "execution_count": 4,
   "metadata": {},
   "outputs": [],
   "source": [
    "def c(x):\n",
    "    return 0\n",
    "    #return x - 2"
   ]
  },
  {
   "cell_type": "code",
   "execution_count": 5,
   "metadata": {},
   "outputs": [],
   "source": [
    "def d(x):\n",
    "    return 2"
   ]
  },
  {
   "cell_type": "code",
   "execution_count": 11,
   "metadata": {},
   "outputs": [],
   "source": [
    "def SimpsonDouble(a, b, m, n):\n",
    "    h = (b - a)/n\n",
    "    J1 = 0\n",
    "    J2 = 0\n",
    "    J3 = 0\n",
    "    for i in range (0, n+1):\n",
    "        x = a + i*h\n",
    "        HX = (d(x) - c(x))/m\n",
    "        K1 = f(x, c(x)) + f(x, d(x))\n",
    "        K2 = 0\n",
    "        K3 = 0\n",
    "        \n",
    "        for j in range (1, m):\n",
    "            y = c(x) + j*HX\n",
    "            Q = f(x, y)\n",
    "            if j%2 == 0:\n",
    "                K2 = K2 + Q\n",
    "            else:\n",
    "                K3 = K3 + Q\n",
    "        L = ((K1 + 2*K2 + 4*K3)*HX)/3\n",
    "        if i ==0 or i == n:\n",
    "            J1 = J1 + L\n",
    "        elif i % 2 == 0:\n",
    "            J2 = J2 + L\n",
    "        else:\n",
    "            J3 = J3 + L\n",
    "    J = h*(J1 + 2*J2 + 4*J3)/3\n",
    "    return J"
   ]
  },
  {
   "cell_type": "code",
   "execution_count": 12,
   "metadata": {},
   "outputs": [
    {
     "ename": "TypeError",
     "evalue": "'Symbol' object cannot be interpreted as an integer",
     "output_type": "error",
     "traceback": [
      "\u001b[0;31m---------------------------------------------------------------------------\u001b[0m",
      "\u001b[0;31mTypeError\u001b[0m                                 Traceback (most recent call last)",
      "\u001b[0;32m<ipython-input-12-95e5706cbf30>\u001b[0m in \u001b[0;36m<module>\u001b[0;34m()\u001b[0m\n\u001b[1;32m      9\u001b[0m     \u001b[0mxlist\u001b[0m \u001b[0;34m=\u001b[0m \u001b[0mxlist\u001b[0m \u001b[0;34m+\u001b[0m \u001b[0;34m[\u001b[0m\u001b[0mx\u001b[0m\u001b[0;34m]\u001b[0m\u001b[0;34m\u001b[0m\u001b[0m\n\u001b[1;32m     10\u001b[0m     \u001b[0;32mwhile\u001b[0m \u001b[0my\u001b[0m \u001b[0;34m<\u001b[0m \u001b[0;34m-\u001b[0m\u001b[0mx\u001b[0m \u001b[0;34m+\u001b[0m \u001b[0;36m2\u001b[0m\u001b[0;34m:\u001b[0m\u001b[0;34m\u001b[0m\u001b[0m\n\u001b[0;32m---> 11\u001b[0;31m         \u001b[0mnew_z\u001b[0m \u001b[0;34m=\u001b[0m \u001b[0mSimpsonDouble\u001b[0m\u001b[0;34m(\u001b[0m\u001b[0mx\u001b[0m\u001b[0;34m,\u001b[0m \u001b[0my\u001b[0m\u001b[0;34m,\u001b[0m \u001b[0mm\u001b[0m \u001b[0;34m,\u001b[0m\u001b[0mn\u001b[0m\u001b[0;34m)\u001b[0m\u001b[0;34m\u001b[0m\u001b[0m\n\u001b[0m\u001b[1;32m     12\u001b[0m         \u001b[0mzlist\u001b[0m \u001b[0;34m=\u001b[0m \u001b[0mzlist\u001b[0m \u001b[0;34m+\u001b[0m \u001b[0;34m[\u001b[0m\u001b[0mz\u001b[0m\u001b[0;34m]\u001b[0m\u001b[0;34m\u001b[0m\u001b[0m\n\u001b[1;32m     13\u001b[0m         \u001b[0mzlist\u001b[0m \u001b[0;34m=\u001b[0m \u001b[0mzlist\u001b[0m \u001b[0;34m+\u001b[0m \u001b[0;34m[\u001b[0m\u001b[0mnew_z\u001b[0m\u001b[0;34m]\u001b[0m\u001b[0;34m\u001b[0m\u001b[0m\n",
      "\u001b[0;32m<ipython-input-11-7bfbac15cf8e>\u001b[0m in \u001b[0;36mSimpsonDouble\u001b[0;34m(a, b, m, n)\u001b[0m\n\u001b[1;32m     11\u001b[0m         \u001b[0mK3\u001b[0m \u001b[0;34m=\u001b[0m \u001b[0;36m0\u001b[0m\u001b[0;34m\u001b[0m\u001b[0m\n\u001b[1;32m     12\u001b[0m \u001b[0;34m\u001b[0m\u001b[0m\n\u001b[0;32m---> 13\u001b[0;31m         \u001b[0;32mfor\u001b[0m \u001b[0mj\u001b[0m \u001b[0;32min\u001b[0m \u001b[0mrange\u001b[0m \u001b[0;34m(\u001b[0m\u001b[0;36m1\u001b[0m\u001b[0;34m,\u001b[0m \u001b[0mm\u001b[0m\u001b[0;34m)\u001b[0m\u001b[0;34m:\u001b[0m\u001b[0;34m\u001b[0m\u001b[0m\n\u001b[0m\u001b[1;32m     14\u001b[0m             \u001b[0my\u001b[0m \u001b[0;34m=\u001b[0m \u001b[0mc\u001b[0m\u001b[0;34m(\u001b[0m\u001b[0mx\u001b[0m\u001b[0;34m)\u001b[0m \u001b[0;34m+\u001b[0m \u001b[0mj\u001b[0m\u001b[0;34m*\u001b[0m\u001b[0mHX\u001b[0m\u001b[0;34m\u001b[0m\u001b[0m\n\u001b[1;32m     15\u001b[0m             \u001b[0mQ\u001b[0m \u001b[0;34m=\u001b[0m \u001b[0mf\u001b[0m\u001b[0;34m(\u001b[0m\u001b[0mx\u001b[0m\u001b[0;34m,\u001b[0m \u001b[0my\u001b[0m\u001b[0;34m)\u001b[0m\u001b[0;34m\u001b[0m\u001b[0m\n",
      "\u001b[0;31mTypeError\u001b[0m: 'Symbol' object cannot be interpreted as an integer"
     ]
    }
   ],
   "source": [
    "xlist = []\n",
    "ylist = []\n",
    "zlist = []\n",
    "x = 0\n",
    "y = 0\n",
    "n = 100\n",
    "yinterval = 0.01\n",
    "for i in range(0, n):\n",
    "    xlist = xlist + [x]\n",
    "    while y < -x + 2:\n",
    "        new_z = SimpsonDouble(x, y, m ,n)\n",
    "        zlist = zlist + [z]\n",
    "        zlist = zlist + [new_z]\n",
    "        y = y + h\n",
    "        ylist = ylist + [y]\n",
    "\n",
    "    x = x + 2/n"
   ]
  },
  {
   "cell_type": "code",
   "execution_count": null,
   "metadata": {},
   "outputs": [],
   "source": []
  }
 ],
 "metadata": {
  "kernelspec": {
   "display_name": "Python 3",
   "language": "python",
   "name": "python3"
  },
  "language_info": {
   "codemirror_mode": {
    "name": "ipython",
    "version": 3
   },
   "file_extension": ".py",
   "mimetype": "text/x-python",
   "name": "python",
   "nbconvert_exporter": "python",
   "pygments_lexer": "ipython3",
   "version": "3.6.4"
  }
 },
 "nbformat": 4,
 "nbformat_minor": 2
}
